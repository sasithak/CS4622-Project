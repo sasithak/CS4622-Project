{
  "cells": [
    {
      "cell_type": "code",
      "source": [
        "from google.colab import drive\n",
        "drive.mount('/content/drive')"
      ],
      "metadata": {
        "colab": {
          "base_uri": "https://localhost:8080/"
        },
        "id": "mg--2LzjpkHB",
        "outputId": "de1cf148-5efc-4406-ab14-f1762c72aeba"
      },
      "execution_count": null,
      "outputs": [
        {
          "output_type": "stream",
          "name": "stdout",
          "text": [
            "Mounted at /content/drive\n"
          ]
        }
      ]
    },
    {
      "cell_type": "code",
      "execution_count": null,
      "metadata": {
        "id": "IdL3rgQ174AB"
      },
      "outputs": [],
      "source": [
        "# Loading data\n",
        "import pandas as pd\n",
        "train = pd.read_csv(\"/content/drive/My Drive/Semester7/ML/Project/Layer_12/train.csv\")\n",
        "valid = pd.read_csv(\"/content/drive/My Drive/Semester7/ML/Project/Layer_12/valid.csv\")\n",
        "test = pd.read_csv(\"/content/drive/My Drive/Semester7/ML/Project/Layer_12/test.csv\")"
      ]
    },
    {
      "cell_type": "code",
      "execution_count": null,
      "metadata": {
        "colab": {
          "base_uri": "https://localhost:8080/",
          "height": 256
        },
        "id": "5y_TJpc98RJX",
        "outputId": "910967f0-3797-4e7c-8e08-5acf4bf6f729"
      },
      "outputs": [
        {
          "output_type": "execute_result",
          "data": {
            "text/plain": [
              "   feature_1  feature_2  feature_3  feature_4  feature_5  feature_6  \\\n",
              "0   0.031138   0.079892   0.157382  -0.014636  -0.051778  -0.021332   \n",
              "1   0.113040   0.175731   0.217741  -0.196254  -0.010129  -0.030586   \n",
              "2   0.048570   0.091281   0.160776  -0.150937   0.020115   0.044117   \n",
              "3   0.039212   0.118388   0.173831  -0.096659  -0.008702   0.061298   \n",
              "4   0.056019   0.170639   0.157917  -0.228605  -0.065965  -0.088732   \n",
              "\n",
              "   feature_7  feature_8  feature_9  feature_10  ...  feature_763  feature_764  \\\n",
              "0  -0.073593  -0.005386  -0.212557    0.099683  ...    -0.085248    -0.096007   \n",
              "1   0.067114  -0.072412  -0.239192    0.104741  ...    -0.090283    -0.053885   \n",
              "2  -0.050092  -0.045661  -0.155332    0.117206  ...    -0.021524    -0.008411   \n",
              "3   0.008974  -0.003277  -0.065046    0.095480  ...    -0.071936    -0.023120   \n",
              "4  -0.082243  -0.080568  -0.341500    0.142430  ...    -0.155621    -0.079447   \n",
              "\n",
              "   feature_765  feature_766  feature_767  feature_768  label_1  label_2  \\\n",
              "0    -0.000766     0.021399    -0.041432     0.094806       45      NaN   \n",
              "1    -0.010967     0.062209    -0.122958     0.192949       45      NaN   \n",
              "2    -0.006248     0.031468    -0.056915     0.154731       45      NaN   \n",
              "3    -0.007812     0.057600    -0.121892     0.072796       45      NaN   \n",
              "4     0.015316     0.127726    -0.151966     0.169634       45      NaN   \n",
              "\n",
              "   label_3  label_4  \n",
              "0        1        6  \n",
              "1        1        6  \n",
              "2        1        6  \n",
              "3        1        6  \n",
              "4        1        6  \n",
              "\n",
              "[5 rows x 772 columns]"
            ],
            "text/html": [
              "\n",
              "  <div id=\"df-09eb63f8-41c9-4206-a105-c88566c2a157\" class=\"colab-df-container\">\n",
              "    <div>\n",
              "<style scoped>\n",
              "    .dataframe tbody tr th:only-of-type {\n",
              "        vertical-align: middle;\n",
              "    }\n",
              "\n",
              "    .dataframe tbody tr th {\n",
              "        vertical-align: top;\n",
              "    }\n",
              "\n",
              "    .dataframe thead th {\n",
              "        text-align: right;\n",
              "    }\n",
              "</style>\n",
              "<table border=\"1\" class=\"dataframe\">\n",
              "  <thead>\n",
              "    <tr style=\"text-align: right;\">\n",
              "      <th></th>\n",
              "      <th>feature_1</th>\n",
              "      <th>feature_2</th>\n",
              "      <th>feature_3</th>\n",
              "      <th>feature_4</th>\n",
              "      <th>feature_5</th>\n",
              "      <th>feature_6</th>\n",
              "      <th>feature_7</th>\n",
              "      <th>feature_8</th>\n",
              "      <th>feature_9</th>\n",
              "      <th>feature_10</th>\n",
              "      <th>...</th>\n",
              "      <th>feature_763</th>\n",
              "      <th>feature_764</th>\n",
              "      <th>feature_765</th>\n",
              "      <th>feature_766</th>\n",
              "      <th>feature_767</th>\n",
              "      <th>feature_768</th>\n",
              "      <th>label_1</th>\n",
              "      <th>label_2</th>\n",
              "      <th>label_3</th>\n",
              "      <th>label_4</th>\n",
              "    </tr>\n",
              "  </thead>\n",
              "  <tbody>\n",
              "    <tr>\n",
              "      <th>0</th>\n",
              "      <td>0.031138</td>\n",
              "      <td>0.079892</td>\n",
              "      <td>0.157382</td>\n",
              "      <td>-0.014636</td>\n",
              "      <td>-0.051778</td>\n",
              "      <td>-0.021332</td>\n",
              "      <td>-0.073593</td>\n",
              "      <td>-0.005386</td>\n",
              "      <td>-0.212557</td>\n",
              "      <td>0.099683</td>\n",
              "      <td>...</td>\n",
              "      <td>-0.085248</td>\n",
              "      <td>-0.096007</td>\n",
              "      <td>-0.000766</td>\n",
              "      <td>0.021399</td>\n",
              "      <td>-0.041432</td>\n",
              "      <td>0.094806</td>\n",
              "      <td>45</td>\n",
              "      <td>NaN</td>\n",
              "      <td>1</td>\n",
              "      <td>6</td>\n",
              "    </tr>\n",
              "    <tr>\n",
              "      <th>1</th>\n",
              "      <td>0.113040</td>\n",
              "      <td>0.175731</td>\n",
              "      <td>0.217741</td>\n",
              "      <td>-0.196254</td>\n",
              "      <td>-0.010129</td>\n",
              "      <td>-0.030586</td>\n",
              "      <td>0.067114</td>\n",
              "      <td>-0.072412</td>\n",
              "      <td>-0.239192</td>\n",
              "      <td>0.104741</td>\n",
              "      <td>...</td>\n",
              "      <td>-0.090283</td>\n",
              "      <td>-0.053885</td>\n",
              "      <td>-0.010967</td>\n",
              "      <td>0.062209</td>\n",
              "      <td>-0.122958</td>\n",
              "      <td>0.192949</td>\n",
              "      <td>45</td>\n",
              "      <td>NaN</td>\n",
              "      <td>1</td>\n",
              "      <td>6</td>\n",
              "    </tr>\n",
              "    <tr>\n",
              "      <th>2</th>\n",
              "      <td>0.048570</td>\n",
              "      <td>0.091281</td>\n",
              "      <td>0.160776</td>\n",
              "      <td>-0.150937</td>\n",
              "      <td>0.020115</td>\n",
              "      <td>0.044117</td>\n",
              "      <td>-0.050092</td>\n",
              "      <td>-0.045661</td>\n",
              "      <td>-0.155332</td>\n",
              "      <td>0.117206</td>\n",
              "      <td>...</td>\n",
              "      <td>-0.021524</td>\n",
              "      <td>-0.008411</td>\n",
              "      <td>-0.006248</td>\n",
              "      <td>0.031468</td>\n",
              "      <td>-0.056915</td>\n",
              "      <td>0.154731</td>\n",
              "      <td>45</td>\n",
              "      <td>NaN</td>\n",
              "      <td>1</td>\n",
              "      <td>6</td>\n",
              "    </tr>\n",
              "    <tr>\n",
              "      <th>3</th>\n",
              "      <td>0.039212</td>\n",
              "      <td>0.118388</td>\n",
              "      <td>0.173831</td>\n",
              "      <td>-0.096659</td>\n",
              "      <td>-0.008702</td>\n",
              "      <td>0.061298</td>\n",
              "      <td>0.008974</td>\n",
              "      <td>-0.003277</td>\n",
              "      <td>-0.065046</td>\n",
              "      <td>0.095480</td>\n",
              "      <td>...</td>\n",
              "      <td>-0.071936</td>\n",
              "      <td>-0.023120</td>\n",
              "      <td>-0.007812</td>\n",
              "      <td>0.057600</td>\n",
              "      <td>-0.121892</td>\n",
              "      <td>0.072796</td>\n",
              "      <td>45</td>\n",
              "      <td>NaN</td>\n",
              "      <td>1</td>\n",
              "      <td>6</td>\n",
              "    </tr>\n",
              "    <tr>\n",
              "      <th>4</th>\n",
              "      <td>0.056019</td>\n",
              "      <td>0.170639</td>\n",
              "      <td>0.157917</td>\n",
              "      <td>-0.228605</td>\n",
              "      <td>-0.065965</td>\n",
              "      <td>-0.088732</td>\n",
              "      <td>-0.082243</td>\n",
              "      <td>-0.080568</td>\n",
              "      <td>-0.341500</td>\n",
              "      <td>0.142430</td>\n",
              "      <td>...</td>\n",
              "      <td>-0.155621</td>\n",
              "      <td>-0.079447</td>\n",
              "      <td>0.015316</td>\n",
              "      <td>0.127726</td>\n",
              "      <td>-0.151966</td>\n",
              "      <td>0.169634</td>\n",
              "      <td>45</td>\n",
              "      <td>NaN</td>\n",
              "      <td>1</td>\n",
              "      <td>6</td>\n",
              "    </tr>\n",
              "  </tbody>\n",
              "</table>\n",
              "<p>5 rows × 772 columns</p>\n",
              "</div>\n",
              "    <div class=\"colab-df-buttons\">\n",
              "\n",
              "  <div class=\"colab-df-container\">\n",
              "    <button class=\"colab-df-convert\" onclick=\"convertToInteractive('df-09eb63f8-41c9-4206-a105-c88566c2a157')\"\n",
              "            title=\"Convert this dataframe to an interactive table.\"\n",
              "            style=\"display:none;\">\n",
              "\n",
              "  <svg xmlns=\"http://www.w3.org/2000/svg\" height=\"24px\" viewBox=\"0 -960 960 960\">\n",
              "    <path d=\"M120-120v-720h720v720H120Zm60-500h600v-160H180v160Zm220 220h160v-160H400v160Zm0 220h160v-160H400v160ZM180-400h160v-160H180v160Zm440 0h160v-160H620v160ZM180-180h160v-160H180v160Zm440 0h160v-160H620v160Z\"/>\n",
              "  </svg>\n",
              "    </button>\n",
              "\n",
              "  <style>\n",
              "    .colab-df-container {\n",
              "      display:flex;\n",
              "      gap: 12px;\n",
              "    }\n",
              "\n",
              "    .colab-df-convert {\n",
              "      background-color: #E8F0FE;\n",
              "      border: none;\n",
              "      border-radius: 50%;\n",
              "      cursor: pointer;\n",
              "      display: none;\n",
              "      fill: #1967D2;\n",
              "      height: 32px;\n",
              "      padding: 0 0 0 0;\n",
              "      width: 32px;\n",
              "    }\n",
              "\n",
              "    .colab-df-convert:hover {\n",
              "      background-color: #E2EBFA;\n",
              "      box-shadow: 0px 1px 2px rgba(60, 64, 67, 0.3), 0px 1px 3px 1px rgba(60, 64, 67, 0.15);\n",
              "      fill: #174EA6;\n",
              "    }\n",
              "\n",
              "    .colab-df-buttons div {\n",
              "      margin-bottom: 4px;\n",
              "    }\n",
              "\n",
              "    [theme=dark] .colab-df-convert {\n",
              "      background-color: #3B4455;\n",
              "      fill: #D2E3FC;\n",
              "    }\n",
              "\n",
              "    [theme=dark] .colab-df-convert:hover {\n",
              "      background-color: #434B5C;\n",
              "      box-shadow: 0px 1px 3px 1px rgba(0, 0, 0, 0.15);\n",
              "      filter: drop-shadow(0px 1px 2px rgba(0, 0, 0, 0.3));\n",
              "      fill: #FFFFFF;\n",
              "    }\n",
              "  </style>\n",
              "\n",
              "    <script>\n",
              "      const buttonEl =\n",
              "        document.querySelector('#df-09eb63f8-41c9-4206-a105-c88566c2a157 button.colab-df-convert');\n",
              "      buttonEl.style.display =\n",
              "        google.colab.kernel.accessAllowed ? 'block' : 'none';\n",
              "\n",
              "      async function convertToInteractive(key) {\n",
              "        const element = document.querySelector('#df-09eb63f8-41c9-4206-a105-c88566c2a157');\n",
              "        const dataTable =\n",
              "          await google.colab.kernel.invokeFunction('convertToInteractive',\n",
              "                                                    [key], {});\n",
              "        if (!dataTable) return;\n",
              "\n",
              "        const docLinkHtml = 'Like what you see? Visit the ' +\n",
              "          '<a target=\"_blank\" href=https://colab.research.google.com/notebooks/data_table.ipynb>data table notebook</a>'\n",
              "          + ' to learn more about interactive tables.';\n",
              "        element.innerHTML = '';\n",
              "        dataTable['output_type'] = 'display_data';\n",
              "        await google.colab.output.renderOutput(dataTable, element);\n",
              "        const docLink = document.createElement('div');\n",
              "        docLink.innerHTML = docLinkHtml;\n",
              "        element.appendChild(docLink);\n",
              "      }\n",
              "    </script>\n",
              "  </div>\n",
              "\n",
              "\n",
              "<div id=\"df-b9f4e195-a493-4a17-b2c0-5460071b28f4\">\n",
              "  <button class=\"colab-df-quickchart\" onclick=\"quickchart('df-b9f4e195-a493-4a17-b2c0-5460071b28f4')\"\n",
              "            title=\"Suggest charts.\"\n",
              "            style=\"display:none;\">\n",
              "\n",
              "<svg xmlns=\"http://www.w3.org/2000/svg\" height=\"24px\"viewBox=\"0 0 24 24\"\n",
              "     width=\"24px\">\n",
              "    <g>\n",
              "        <path d=\"M19 3H5c-1.1 0-2 .9-2 2v14c0 1.1.9 2 2 2h14c1.1 0 2-.9 2-2V5c0-1.1-.9-2-2-2zM9 17H7v-7h2v7zm4 0h-2V7h2v10zm4 0h-2v-4h2v4z\"/>\n",
              "    </g>\n",
              "</svg>\n",
              "  </button>\n",
              "\n",
              "<style>\n",
              "  .colab-df-quickchart {\n",
              "      --bg-color: #E8F0FE;\n",
              "      --fill-color: #1967D2;\n",
              "      --hover-bg-color: #E2EBFA;\n",
              "      --hover-fill-color: #174EA6;\n",
              "      --disabled-fill-color: #AAA;\n",
              "      --disabled-bg-color: #DDD;\n",
              "  }\n",
              "\n",
              "  [theme=dark] .colab-df-quickchart {\n",
              "      --bg-color: #3B4455;\n",
              "      --fill-color: #D2E3FC;\n",
              "      --hover-bg-color: #434B5C;\n",
              "      --hover-fill-color: #FFFFFF;\n",
              "      --disabled-bg-color: #3B4455;\n",
              "      --disabled-fill-color: #666;\n",
              "  }\n",
              "\n",
              "  .colab-df-quickchart {\n",
              "    background-color: var(--bg-color);\n",
              "    border: none;\n",
              "    border-radius: 50%;\n",
              "    cursor: pointer;\n",
              "    display: none;\n",
              "    fill: var(--fill-color);\n",
              "    height: 32px;\n",
              "    padding: 0;\n",
              "    width: 32px;\n",
              "  }\n",
              "\n",
              "  .colab-df-quickchart:hover {\n",
              "    background-color: var(--hover-bg-color);\n",
              "    box-shadow: 0 1px 2px rgba(60, 64, 67, 0.3), 0 1px 3px 1px rgba(60, 64, 67, 0.15);\n",
              "    fill: var(--button-hover-fill-color);\n",
              "  }\n",
              "\n",
              "  .colab-df-quickchart-complete:disabled,\n",
              "  .colab-df-quickchart-complete:disabled:hover {\n",
              "    background-color: var(--disabled-bg-color);\n",
              "    fill: var(--disabled-fill-color);\n",
              "    box-shadow: none;\n",
              "  }\n",
              "\n",
              "  .colab-df-spinner {\n",
              "    border: 2px solid var(--fill-color);\n",
              "    border-color: transparent;\n",
              "    border-bottom-color: var(--fill-color);\n",
              "    animation:\n",
              "      spin 1s steps(1) infinite;\n",
              "  }\n",
              "\n",
              "  @keyframes spin {\n",
              "    0% {\n",
              "      border-color: transparent;\n",
              "      border-bottom-color: var(--fill-color);\n",
              "      border-left-color: var(--fill-color);\n",
              "    }\n",
              "    20% {\n",
              "      border-color: transparent;\n",
              "      border-left-color: var(--fill-color);\n",
              "      border-top-color: var(--fill-color);\n",
              "    }\n",
              "    30% {\n",
              "      border-color: transparent;\n",
              "      border-left-color: var(--fill-color);\n",
              "      border-top-color: var(--fill-color);\n",
              "      border-right-color: var(--fill-color);\n",
              "    }\n",
              "    40% {\n",
              "      border-color: transparent;\n",
              "      border-right-color: var(--fill-color);\n",
              "      border-top-color: var(--fill-color);\n",
              "    }\n",
              "    60% {\n",
              "      border-color: transparent;\n",
              "      border-right-color: var(--fill-color);\n",
              "    }\n",
              "    80% {\n",
              "      border-color: transparent;\n",
              "      border-right-color: var(--fill-color);\n",
              "      border-bottom-color: var(--fill-color);\n",
              "    }\n",
              "    90% {\n",
              "      border-color: transparent;\n",
              "      border-bottom-color: var(--fill-color);\n",
              "    }\n",
              "  }\n",
              "</style>\n",
              "\n",
              "  <script>\n",
              "    async function quickchart(key) {\n",
              "      const quickchartButtonEl =\n",
              "        document.querySelector('#' + key + ' button');\n",
              "      quickchartButtonEl.disabled = true;  // To prevent multiple clicks.\n",
              "      quickchartButtonEl.classList.add('colab-df-spinner');\n",
              "      try {\n",
              "        const charts = await google.colab.kernel.invokeFunction(\n",
              "            'suggestCharts', [key], {});\n",
              "      } catch (error) {\n",
              "        console.error('Error during call to suggestCharts:', error);\n",
              "      }\n",
              "      quickchartButtonEl.classList.remove('colab-df-spinner');\n",
              "      quickchartButtonEl.classList.add('colab-df-quickchart-complete');\n",
              "    }\n",
              "    (() => {\n",
              "      let quickchartButtonEl =\n",
              "        document.querySelector('#df-b9f4e195-a493-4a17-b2c0-5460071b28f4 button');\n",
              "      quickchartButtonEl.style.display =\n",
              "        google.colab.kernel.accessAllowed ? 'block' : 'none';\n",
              "    })();\n",
              "  </script>\n",
              "</div>\n",
              "    </div>\n",
              "  </div>\n"
            ]
          },
          "metadata": {},
          "execution_count": 5
        }
      ],
      "source": [
        "train.head()"
      ]
    },
    {
      "cell_type": "code",
      "execution_count": null,
      "metadata": {
        "colab": {
          "base_uri": "https://localhost:8080/",
          "height": 256
        },
        "id": "BomUC5Id8mna",
        "outputId": "b24b3483-fd8c-457c-87ad-dd2443e6dee0"
      },
      "outputs": [
        {
          "output_type": "execute_result",
          "data": {
            "text/plain": [
              "   feature_1  feature_2  feature_3  feature_4  feature_5  feature_6  \\\n",
              "0   0.153978   0.503276   0.022196   0.226684   0.466179   0.154995   \n",
              "1   0.056877   0.261613   0.050610   0.097744   0.322375  -0.011609   \n",
              "2   0.225439   0.350977  -0.295782   0.280168   0.705114   0.020545   \n",
              "3   0.288556   0.513905  -0.205246   0.279660   0.469121   0.068339   \n",
              "4   0.165176   0.312492  -0.217504   0.259960   0.568979  -0.093011   \n",
              "\n",
              "   feature_7  feature_8  feature_9  feature_10  ...  feature_763  feature_764  \\\n",
              "0   0.195452  -0.288972  -0.297589   -0.008409  ...    -0.503624    -0.056849   \n",
              "1   0.201331  -0.194763  -0.194228   -0.094267  ...    -0.442110     0.008424   \n",
              "2   0.390878  -0.322853   0.071575    0.013803  ...    -0.380124    -0.089572   \n",
              "3   0.131205  -0.338951  -0.270848    0.007799  ...    -0.529678    -0.093194   \n",
              "4   0.257977  -0.277132  -0.172113   -0.025929  ...    -0.504997    -0.108256   \n",
              "\n",
              "   feature_765  feature_766  feature_767  feature_768  label_1  label_2  \\\n",
              "0    -0.117077     0.168611     0.373346     0.037188       45      NaN   \n",
              "1    -0.067920     0.165600     0.333104    -0.270913       45      NaN   \n",
              "2    -0.023344     0.194312     0.269537    -0.292029       45      NaN   \n",
              "3    -0.148418     0.405543     0.438906    -0.055119       45      NaN   \n",
              "4     0.036867     0.267815     0.245041     0.117444       45      NaN   \n",
              "\n",
              "   label_3  label_4  \n",
              "0        1        6  \n",
              "1        1        6  \n",
              "2        1        6  \n",
              "3        1        6  \n",
              "4        1        6  \n",
              "\n",
              "[5 rows x 772 columns]"
            ],
            "text/html": [
              "\n",
              "  <div id=\"df-edf1d356-897a-47a7-8992-86f8e0430654\" class=\"colab-df-container\">\n",
              "    <div>\n",
              "<style scoped>\n",
              "    .dataframe tbody tr th:only-of-type {\n",
              "        vertical-align: middle;\n",
              "    }\n",
              "\n",
              "    .dataframe tbody tr th {\n",
              "        vertical-align: top;\n",
              "    }\n",
              "\n",
              "    .dataframe thead th {\n",
              "        text-align: right;\n",
              "    }\n",
              "</style>\n",
              "<table border=\"1\" class=\"dataframe\">\n",
              "  <thead>\n",
              "    <tr style=\"text-align: right;\">\n",
              "      <th></th>\n",
              "      <th>feature_1</th>\n",
              "      <th>feature_2</th>\n",
              "      <th>feature_3</th>\n",
              "      <th>feature_4</th>\n",
              "      <th>feature_5</th>\n",
              "      <th>feature_6</th>\n",
              "      <th>feature_7</th>\n",
              "      <th>feature_8</th>\n",
              "      <th>feature_9</th>\n",
              "      <th>feature_10</th>\n",
              "      <th>...</th>\n",
              "      <th>feature_763</th>\n",
              "      <th>feature_764</th>\n",
              "      <th>feature_765</th>\n",
              "      <th>feature_766</th>\n",
              "      <th>feature_767</th>\n",
              "      <th>feature_768</th>\n",
              "      <th>label_1</th>\n",
              "      <th>label_2</th>\n",
              "      <th>label_3</th>\n",
              "      <th>label_4</th>\n",
              "    </tr>\n",
              "  </thead>\n",
              "  <tbody>\n",
              "    <tr>\n",
              "      <th>0</th>\n",
              "      <td>0.153978</td>\n",
              "      <td>0.503276</td>\n",
              "      <td>0.022196</td>\n",
              "      <td>0.226684</td>\n",
              "      <td>0.466179</td>\n",
              "      <td>0.154995</td>\n",
              "      <td>0.195452</td>\n",
              "      <td>-0.288972</td>\n",
              "      <td>-0.297589</td>\n",
              "      <td>-0.008409</td>\n",
              "      <td>...</td>\n",
              "      <td>-0.503624</td>\n",
              "      <td>-0.056849</td>\n",
              "      <td>-0.117077</td>\n",
              "      <td>0.168611</td>\n",
              "      <td>0.373346</td>\n",
              "      <td>0.037188</td>\n",
              "      <td>45</td>\n",
              "      <td>NaN</td>\n",
              "      <td>1</td>\n",
              "      <td>6</td>\n",
              "    </tr>\n",
              "    <tr>\n",
              "      <th>1</th>\n",
              "      <td>0.056877</td>\n",
              "      <td>0.261613</td>\n",
              "      <td>0.050610</td>\n",
              "      <td>0.097744</td>\n",
              "      <td>0.322375</td>\n",
              "      <td>-0.011609</td>\n",
              "      <td>0.201331</td>\n",
              "      <td>-0.194763</td>\n",
              "      <td>-0.194228</td>\n",
              "      <td>-0.094267</td>\n",
              "      <td>...</td>\n",
              "      <td>-0.442110</td>\n",
              "      <td>0.008424</td>\n",
              "      <td>-0.067920</td>\n",
              "      <td>0.165600</td>\n",
              "      <td>0.333104</td>\n",
              "      <td>-0.270913</td>\n",
              "      <td>45</td>\n",
              "      <td>NaN</td>\n",
              "      <td>1</td>\n",
              "      <td>6</td>\n",
              "    </tr>\n",
              "    <tr>\n",
              "      <th>2</th>\n",
              "      <td>0.225439</td>\n",
              "      <td>0.350977</td>\n",
              "      <td>-0.295782</td>\n",
              "      <td>0.280168</td>\n",
              "      <td>0.705114</td>\n",
              "      <td>0.020545</td>\n",
              "      <td>0.390878</td>\n",
              "      <td>-0.322853</td>\n",
              "      <td>0.071575</td>\n",
              "      <td>0.013803</td>\n",
              "      <td>...</td>\n",
              "      <td>-0.380124</td>\n",
              "      <td>-0.089572</td>\n",
              "      <td>-0.023344</td>\n",
              "      <td>0.194312</td>\n",
              "      <td>0.269537</td>\n",
              "      <td>-0.292029</td>\n",
              "      <td>45</td>\n",
              "      <td>NaN</td>\n",
              "      <td>1</td>\n",
              "      <td>6</td>\n",
              "    </tr>\n",
              "    <tr>\n",
              "      <th>3</th>\n",
              "      <td>0.288556</td>\n",
              "      <td>0.513905</td>\n",
              "      <td>-0.205246</td>\n",
              "      <td>0.279660</td>\n",
              "      <td>0.469121</td>\n",
              "      <td>0.068339</td>\n",
              "      <td>0.131205</td>\n",
              "      <td>-0.338951</td>\n",
              "      <td>-0.270848</td>\n",
              "      <td>0.007799</td>\n",
              "      <td>...</td>\n",
              "      <td>-0.529678</td>\n",
              "      <td>-0.093194</td>\n",
              "      <td>-0.148418</td>\n",
              "      <td>0.405543</td>\n",
              "      <td>0.438906</td>\n",
              "      <td>-0.055119</td>\n",
              "      <td>45</td>\n",
              "      <td>NaN</td>\n",
              "      <td>1</td>\n",
              "      <td>6</td>\n",
              "    </tr>\n",
              "    <tr>\n",
              "      <th>4</th>\n",
              "      <td>0.165176</td>\n",
              "      <td>0.312492</td>\n",
              "      <td>-0.217504</td>\n",
              "      <td>0.259960</td>\n",
              "      <td>0.568979</td>\n",
              "      <td>-0.093011</td>\n",
              "      <td>0.257977</td>\n",
              "      <td>-0.277132</td>\n",
              "      <td>-0.172113</td>\n",
              "      <td>-0.025929</td>\n",
              "      <td>...</td>\n",
              "      <td>-0.504997</td>\n",
              "      <td>-0.108256</td>\n",
              "      <td>0.036867</td>\n",
              "      <td>0.267815</td>\n",
              "      <td>0.245041</td>\n",
              "      <td>0.117444</td>\n",
              "      <td>45</td>\n",
              "      <td>NaN</td>\n",
              "      <td>1</td>\n",
              "      <td>6</td>\n",
              "    </tr>\n",
              "  </tbody>\n",
              "</table>\n",
              "<p>5 rows × 772 columns</p>\n",
              "</div>\n",
              "    <div class=\"colab-df-buttons\">\n",
              "\n",
              "  <div class=\"colab-df-container\">\n",
              "    <button class=\"colab-df-convert\" onclick=\"convertToInteractive('df-edf1d356-897a-47a7-8992-86f8e0430654')\"\n",
              "            title=\"Convert this dataframe to an interactive table.\"\n",
              "            style=\"display:none;\">\n",
              "\n",
              "  <svg xmlns=\"http://www.w3.org/2000/svg\" height=\"24px\" viewBox=\"0 -960 960 960\">\n",
              "    <path d=\"M120-120v-720h720v720H120Zm60-500h600v-160H180v160Zm220 220h160v-160H400v160Zm0 220h160v-160H400v160ZM180-400h160v-160H180v160Zm440 0h160v-160H620v160ZM180-180h160v-160H180v160Zm440 0h160v-160H620v160Z\"/>\n",
              "  </svg>\n",
              "    </button>\n",
              "\n",
              "  <style>\n",
              "    .colab-df-container {\n",
              "      display:flex;\n",
              "      gap: 12px;\n",
              "    }\n",
              "\n",
              "    .colab-df-convert {\n",
              "      background-color: #E8F0FE;\n",
              "      border: none;\n",
              "      border-radius: 50%;\n",
              "      cursor: pointer;\n",
              "      display: none;\n",
              "      fill: #1967D2;\n",
              "      height: 32px;\n",
              "      padding: 0 0 0 0;\n",
              "      width: 32px;\n",
              "    }\n",
              "\n",
              "    .colab-df-convert:hover {\n",
              "      background-color: #E2EBFA;\n",
              "      box-shadow: 0px 1px 2px rgba(60, 64, 67, 0.3), 0px 1px 3px 1px rgba(60, 64, 67, 0.15);\n",
              "      fill: #174EA6;\n",
              "    }\n",
              "\n",
              "    .colab-df-buttons div {\n",
              "      margin-bottom: 4px;\n",
              "    }\n",
              "\n",
              "    [theme=dark] .colab-df-convert {\n",
              "      background-color: #3B4455;\n",
              "      fill: #D2E3FC;\n",
              "    }\n",
              "\n",
              "    [theme=dark] .colab-df-convert:hover {\n",
              "      background-color: #434B5C;\n",
              "      box-shadow: 0px 1px 3px 1px rgba(0, 0, 0, 0.15);\n",
              "      filter: drop-shadow(0px 1px 2px rgba(0, 0, 0, 0.3));\n",
              "      fill: #FFFFFF;\n",
              "    }\n",
              "  </style>\n",
              "\n",
              "    <script>\n",
              "      const buttonEl =\n",
              "        document.querySelector('#df-edf1d356-897a-47a7-8992-86f8e0430654 button.colab-df-convert');\n",
              "      buttonEl.style.display =\n",
              "        google.colab.kernel.accessAllowed ? 'block' : 'none';\n",
              "\n",
              "      async function convertToInteractive(key) {\n",
              "        const element = document.querySelector('#df-edf1d356-897a-47a7-8992-86f8e0430654');\n",
              "        const dataTable =\n",
              "          await google.colab.kernel.invokeFunction('convertToInteractive',\n",
              "                                                    [key], {});\n",
              "        if (!dataTable) return;\n",
              "\n",
              "        const docLinkHtml = 'Like what you see? Visit the ' +\n",
              "          '<a target=\"_blank\" href=https://colab.research.google.com/notebooks/data_table.ipynb>data table notebook</a>'\n",
              "          + ' to learn more about interactive tables.';\n",
              "        element.innerHTML = '';\n",
              "        dataTable['output_type'] = 'display_data';\n",
              "        await google.colab.output.renderOutput(dataTable, element);\n",
              "        const docLink = document.createElement('div');\n",
              "        docLink.innerHTML = docLinkHtml;\n",
              "        element.appendChild(docLink);\n",
              "      }\n",
              "    </script>\n",
              "  </div>\n",
              "\n",
              "\n",
              "<div id=\"df-16d6fc48-8428-4d6e-a832-c0eec03d18e6\">\n",
              "  <button class=\"colab-df-quickchart\" onclick=\"quickchart('df-16d6fc48-8428-4d6e-a832-c0eec03d18e6')\"\n",
              "            title=\"Suggest charts.\"\n",
              "            style=\"display:none;\">\n",
              "\n",
              "<svg xmlns=\"http://www.w3.org/2000/svg\" height=\"24px\"viewBox=\"0 0 24 24\"\n",
              "     width=\"24px\">\n",
              "    <g>\n",
              "        <path d=\"M19 3H5c-1.1 0-2 .9-2 2v14c0 1.1.9 2 2 2h14c1.1 0 2-.9 2-2V5c0-1.1-.9-2-2-2zM9 17H7v-7h2v7zm4 0h-2V7h2v10zm4 0h-2v-4h2v4z\"/>\n",
              "    </g>\n",
              "</svg>\n",
              "  </button>\n",
              "\n",
              "<style>\n",
              "  .colab-df-quickchart {\n",
              "      --bg-color: #E8F0FE;\n",
              "      --fill-color: #1967D2;\n",
              "      --hover-bg-color: #E2EBFA;\n",
              "      --hover-fill-color: #174EA6;\n",
              "      --disabled-fill-color: #AAA;\n",
              "      --disabled-bg-color: #DDD;\n",
              "  }\n",
              "\n",
              "  [theme=dark] .colab-df-quickchart {\n",
              "      --bg-color: #3B4455;\n",
              "      --fill-color: #D2E3FC;\n",
              "      --hover-bg-color: #434B5C;\n",
              "      --hover-fill-color: #FFFFFF;\n",
              "      --disabled-bg-color: #3B4455;\n",
              "      --disabled-fill-color: #666;\n",
              "  }\n",
              "\n",
              "  .colab-df-quickchart {\n",
              "    background-color: var(--bg-color);\n",
              "    border: none;\n",
              "    border-radius: 50%;\n",
              "    cursor: pointer;\n",
              "    display: none;\n",
              "    fill: var(--fill-color);\n",
              "    height: 32px;\n",
              "    padding: 0;\n",
              "    width: 32px;\n",
              "  }\n",
              "\n",
              "  .colab-df-quickchart:hover {\n",
              "    background-color: var(--hover-bg-color);\n",
              "    box-shadow: 0 1px 2px rgba(60, 64, 67, 0.3), 0 1px 3px 1px rgba(60, 64, 67, 0.15);\n",
              "    fill: var(--button-hover-fill-color);\n",
              "  }\n",
              "\n",
              "  .colab-df-quickchart-complete:disabled,\n",
              "  .colab-df-quickchart-complete:disabled:hover {\n",
              "    background-color: var(--disabled-bg-color);\n",
              "    fill: var(--disabled-fill-color);\n",
              "    box-shadow: none;\n",
              "  }\n",
              "\n",
              "  .colab-df-spinner {\n",
              "    border: 2px solid var(--fill-color);\n",
              "    border-color: transparent;\n",
              "    border-bottom-color: var(--fill-color);\n",
              "    animation:\n",
              "      spin 1s steps(1) infinite;\n",
              "  }\n",
              "\n",
              "  @keyframes spin {\n",
              "    0% {\n",
              "      border-color: transparent;\n",
              "      border-bottom-color: var(--fill-color);\n",
              "      border-left-color: var(--fill-color);\n",
              "    }\n",
              "    20% {\n",
              "      border-color: transparent;\n",
              "      border-left-color: var(--fill-color);\n",
              "      border-top-color: var(--fill-color);\n",
              "    }\n",
              "    30% {\n",
              "      border-color: transparent;\n",
              "      border-left-color: var(--fill-color);\n",
              "      border-top-color: var(--fill-color);\n",
              "      border-right-color: var(--fill-color);\n",
              "    }\n",
              "    40% {\n",
              "      border-color: transparent;\n",
              "      border-right-color: var(--fill-color);\n",
              "      border-top-color: var(--fill-color);\n",
              "    }\n",
              "    60% {\n",
              "      border-color: transparent;\n",
              "      border-right-color: var(--fill-color);\n",
              "    }\n",
              "    80% {\n",
              "      border-color: transparent;\n",
              "      border-right-color: var(--fill-color);\n",
              "      border-bottom-color: var(--fill-color);\n",
              "    }\n",
              "    90% {\n",
              "      border-color: transparent;\n",
              "      border-bottom-color: var(--fill-color);\n",
              "    }\n",
              "  }\n",
              "</style>\n",
              "\n",
              "  <script>\n",
              "    async function quickchart(key) {\n",
              "      const quickchartButtonEl =\n",
              "        document.querySelector('#' + key + ' button');\n",
              "      quickchartButtonEl.disabled = true;  // To prevent multiple clicks.\n",
              "      quickchartButtonEl.classList.add('colab-df-spinner');\n",
              "      try {\n",
              "        const charts = await google.colab.kernel.invokeFunction(\n",
              "            'suggestCharts', [key], {});\n",
              "      } catch (error) {\n",
              "        console.error('Error during call to suggestCharts:', error);\n",
              "      }\n",
              "      quickchartButtonEl.classList.remove('colab-df-spinner');\n",
              "      quickchartButtonEl.classList.add('colab-df-quickchart-complete');\n",
              "    }\n",
              "    (() => {\n",
              "      let quickchartButtonEl =\n",
              "        document.querySelector('#df-16d6fc48-8428-4d6e-a832-c0eec03d18e6 button');\n",
              "      quickchartButtonEl.style.display =\n",
              "        google.colab.kernel.accessAllowed ? 'block' : 'none';\n",
              "    })();\n",
              "  </script>\n",
              "</div>\n",
              "    </div>\n",
              "  </div>\n"
            ]
          },
          "metadata": {},
          "execution_count": 6
        }
      ],
      "source": [
        "valid.head()"
      ]
    },
    {
      "cell_type": "code",
      "execution_count": null,
      "metadata": {
        "colab": {
          "base_uri": "https://localhost:8080/",
          "height": 256
        },
        "id": "xuMOfvf88rwK",
        "outputId": "3144c531-da46-48e0-fabb-11f11c2bf537"
      },
      "outputs": [
        {
          "output_type": "execute_result",
          "data": {
            "text/plain": [
              "   ID  feature_1  feature_2  feature_3  feature_4  feature_5  feature_6  \\\n",
              "0   1   0.124623   0.196628   0.257004  -0.156045  -0.054916   0.006071   \n",
              "1   2   0.109655   0.170158   0.227644  -0.127088  -0.044476  -0.046852   \n",
              "2   3   0.014854   0.030051   0.115092  -0.017179   0.002720  -0.011692   \n",
              "3   4   0.196893   0.113314   0.352175  -0.108499  -0.064472  -0.073239   \n",
              "4   5   0.033004   0.013373   0.124001  -0.016143   0.010120   0.010635   \n",
              "\n",
              "   feature_7  feature_8  feature_9  ...  feature_759  feature_760  \\\n",
              "0  -0.035149  -0.092019  -0.196302  ...    -0.221466     0.140292   \n",
              "1  -0.090026  -0.061321  -0.227288  ...    -0.204930     0.110203   \n",
              "2  -0.078855  -0.042991  -0.096283  ...    -0.032937     0.075821   \n",
              "3  -0.086402   0.008671  -0.342217  ...    -0.255167     0.096579   \n",
              "4  -0.055789  -0.036282  -0.059422  ...    -0.035814     0.093764   \n",
              "\n",
              "   feature_761  feature_762  feature_763  feature_764  feature_765  \\\n",
              "0     0.123622    -0.175572    -0.107030    -0.087621    -0.026501   \n",
              "1     0.085665    -0.286787    -0.113195    -0.057312    -0.055680   \n",
              "2     0.030987    -0.149850    -0.003155    -0.010207    -0.001427   \n",
              "3     0.069413    -0.215386    -0.075168    -0.035071    -0.023375   \n",
              "4     0.027321    -0.116009     0.010096    -0.042293     0.005347   \n",
              "\n",
              "   feature_766  feature_767  feature_768  \n",
              "0     0.139337    -0.083030     0.059507  \n",
              "1     0.143939    -0.045760     0.106113  \n",
              "2     0.000934    -0.017069     0.048123  \n",
              "3     0.067768    -0.181530     0.174444  \n",
              "4     0.007722    -0.007731     0.058799  \n",
              "\n",
              "[5 rows x 769 columns]"
            ],
            "text/html": [
              "\n",
              "  <div id=\"df-d1be1f58-dd80-48ee-bde4-75efe806f8a8\" class=\"colab-df-container\">\n",
              "    <div>\n",
              "<style scoped>\n",
              "    .dataframe tbody tr th:only-of-type {\n",
              "        vertical-align: middle;\n",
              "    }\n",
              "\n",
              "    .dataframe tbody tr th {\n",
              "        vertical-align: top;\n",
              "    }\n",
              "\n",
              "    .dataframe thead th {\n",
              "        text-align: right;\n",
              "    }\n",
              "</style>\n",
              "<table border=\"1\" class=\"dataframe\">\n",
              "  <thead>\n",
              "    <tr style=\"text-align: right;\">\n",
              "      <th></th>\n",
              "      <th>ID</th>\n",
              "      <th>feature_1</th>\n",
              "      <th>feature_2</th>\n",
              "      <th>feature_3</th>\n",
              "      <th>feature_4</th>\n",
              "      <th>feature_5</th>\n",
              "      <th>feature_6</th>\n",
              "      <th>feature_7</th>\n",
              "      <th>feature_8</th>\n",
              "      <th>feature_9</th>\n",
              "      <th>...</th>\n",
              "      <th>feature_759</th>\n",
              "      <th>feature_760</th>\n",
              "      <th>feature_761</th>\n",
              "      <th>feature_762</th>\n",
              "      <th>feature_763</th>\n",
              "      <th>feature_764</th>\n",
              "      <th>feature_765</th>\n",
              "      <th>feature_766</th>\n",
              "      <th>feature_767</th>\n",
              "      <th>feature_768</th>\n",
              "    </tr>\n",
              "  </thead>\n",
              "  <tbody>\n",
              "    <tr>\n",
              "      <th>0</th>\n",
              "      <td>1</td>\n",
              "      <td>0.124623</td>\n",
              "      <td>0.196628</td>\n",
              "      <td>0.257004</td>\n",
              "      <td>-0.156045</td>\n",
              "      <td>-0.054916</td>\n",
              "      <td>0.006071</td>\n",
              "      <td>-0.035149</td>\n",
              "      <td>-0.092019</td>\n",
              "      <td>-0.196302</td>\n",
              "      <td>...</td>\n",
              "      <td>-0.221466</td>\n",
              "      <td>0.140292</td>\n",
              "      <td>0.123622</td>\n",
              "      <td>-0.175572</td>\n",
              "      <td>-0.107030</td>\n",
              "      <td>-0.087621</td>\n",
              "      <td>-0.026501</td>\n",
              "      <td>0.139337</td>\n",
              "      <td>-0.083030</td>\n",
              "      <td>0.059507</td>\n",
              "    </tr>\n",
              "    <tr>\n",
              "      <th>1</th>\n",
              "      <td>2</td>\n",
              "      <td>0.109655</td>\n",
              "      <td>0.170158</td>\n",
              "      <td>0.227644</td>\n",
              "      <td>-0.127088</td>\n",
              "      <td>-0.044476</td>\n",
              "      <td>-0.046852</td>\n",
              "      <td>-0.090026</td>\n",
              "      <td>-0.061321</td>\n",
              "      <td>-0.227288</td>\n",
              "      <td>...</td>\n",
              "      <td>-0.204930</td>\n",
              "      <td>0.110203</td>\n",
              "      <td>0.085665</td>\n",
              "      <td>-0.286787</td>\n",
              "      <td>-0.113195</td>\n",
              "      <td>-0.057312</td>\n",
              "      <td>-0.055680</td>\n",
              "      <td>0.143939</td>\n",
              "      <td>-0.045760</td>\n",
              "      <td>0.106113</td>\n",
              "    </tr>\n",
              "    <tr>\n",
              "      <th>2</th>\n",
              "      <td>3</td>\n",
              "      <td>0.014854</td>\n",
              "      <td>0.030051</td>\n",
              "      <td>0.115092</td>\n",
              "      <td>-0.017179</td>\n",
              "      <td>0.002720</td>\n",
              "      <td>-0.011692</td>\n",
              "      <td>-0.078855</td>\n",
              "      <td>-0.042991</td>\n",
              "      <td>-0.096283</td>\n",
              "      <td>...</td>\n",
              "      <td>-0.032937</td>\n",
              "      <td>0.075821</td>\n",
              "      <td>0.030987</td>\n",
              "      <td>-0.149850</td>\n",
              "      <td>-0.003155</td>\n",
              "      <td>-0.010207</td>\n",
              "      <td>-0.001427</td>\n",
              "      <td>0.000934</td>\n",
              "      <td>-0.017069</td>\n",
              "      <td>0.048123</td>\n",
              "    </tr>\n",
              "    <tr>\n",
              "      <th>3</th>\n",
              "      <td>4</td>\n",
              "      <td>0.196893</td>\n",
              "      <td>0.113314</td>\n",
              "      <td>0.352175</td>\n",
              "      <td>-0.108499</td>\n",
              "      <td>-0.064472</td>\n",
              "      <td>-0.073239</td>\n",
              "      <td>-0.086402</td>\n",
              "      <td>0.008671</td>\n",
              "      <td>-0.342217</td>\n",
              "      <td>...</td>\n",
              "      <td>-0.255167</td>\n",
              "      <td>0.096579</td>\n",
              "      <td>0.069413</td>\n",
              "      <td>-0.215386</td>\n",
              "      <td>-0.075168</td>\n",
              "      <td>-0.035071</td>\n",
              "      <td>-0.023375</td>\n",
              "      <td>0.067768</td>\n",
              "      <td>-0.181530</td>\n",
              "      <td>0.174444</td>\n",
              "    </tr>\n",
              "    <tr>\n",
              "      <th>4</th>\n",
              "      <td>5</td>\n",
              "      <td>0.033004</td>\n",
              "      <td>0.013373</td>\n",
              "      <td>0.124001</td>\n",
              "      <td>-0.016143</td>\n",
              "      <td>0.010120</td>\n",
              "      <td>0.010635</td>\n",
              "      <td>-0.055789</td>\n",
              "      <td>-0.036282</td>\n",
              "      <td>-0.059422</td>\n",
              "      <td>...</td>\n",
              "      <td>-0.035814</td>\n",
              "      <td>0.093764</td>\n",
              "      <td>0.027321</td>\n",
              "      <td>-0.116009</td>\n",
              "      <td>0.010096</td>\n",
              "      <td>-0.042293</td>\n",
              "      <td>0.005347</td>\n",
              "      <td>0.007722</td>\n",
              "      <td>-0.007731</td>\n",
              "      <td>0.058799</td>\n",
              "    </tr>\n",
              "  </tbody>\n",
              "</table>\n",
              "<p>5 rows × 769 columns</p>\n",
              "</div>\n",
              "    <div class=\"colab-df-buttons\">\n",
              "\n",
              "  <div class=\"colab-df-container\">\n",
              "    <button class=\"colab-df-convert\" onclick=\"convertToInteractive('df-d1be1f58-dd80-48ee-bde4-75efe806f8a8')\"\n",
              "            title=\"Convert this dataframe to an interactive table.\"\n",
              "            style=\"display:none;\">\n",
              "\n",
              "  <svg xmlns=\"http://www.w3.org/2000/svg\" height=\"24px\" viewBox=\"0 -960 960 960\">\n",
              "    <path d=\"M120-120v-720h720v720H120Zm60-500h600v-160H180v160Zm220 220h160v-160H400v160Zm0 220h160v-160H400v160ZM180-400h160v-160H180v160Zm440 0h160v-160H620v160ZM180-180h160v-160H180v160Zm440 0h160v-160H620v160Z\"/>\n",
              "  </svg>\n",
              "    </button>\n",
              "\n",
              "  <style>\n",
              "    .colab-df-container {\n",
              "      display:flex;\n",
              "      gap: 12px;\n",
              "    }\n",
              "\n",
              "    .colab-df-convert {\n",
              "      background-color: #E8F0FE;\n",
              "      border: none;\n",
              "      border-radius: 50%;\n",
              "      cursor: pointer;\n",
              "      display: none;\n",
              "      fill: #1967D2;\n",
              "      height: 32px;\n",
              "      padding: 0 0 0 0;\n",
              "      width: 32px;\n",
              "    }\n",
              "\n",
              "    .colab-df-convert:hover {\n",
              "      background-color: #E2EBFA;\n",
              "      box-shadow: 0px 1px 2px rgba(60, 64, 67, 0.3), 0px 1px 3px 1px rgba(60, 64, 67, 0.15);\n",
              "      fill: #174EA6;\n",
              "    }\n",
              "\n",
              "    .colab-df-buttons div {\n",
              "      margin-bottom: 4px;\n",
              "    }\n",
              "\n",
              "    [theme=dark] .colab-df-convert {\n",
              "      background-color: #3B4455;\n",
              "      fill: #D2E3FC;\n",
              "    }\n",
              "\n",
              "    [theme=dark] .colab-df-convert:hover {\n",
              "      background-color: #434B5C;\n",
              "      box-shadow: 0px 1px 3px 1px rgba(0, 0, 0, 0.15);\n",
              "      filter: drop-shadow(0px 1px 2px rgba(0, 0, 0, 0.3));\n",
              "      fill: #FFFFFF;\n",
              "    }\n",
              "  </style>\n",
              "\n",
              "    <script>\n",
              "      const buttonEl =\n",
              "        document.querySelector('#df-d1be1f58-dd80-48ee-bde4-75efe806f8a8 button.colab-df-convert');\n",
              "      buttonEl.style.display =\n",
              "        google.colab.kernel.accessAllowed ? 'block' : 'none';\n",
              "\n",
              "      async function convertToInteractive(key) {\n",
              "        const element = document.querySelector('#df-d1be1f58-dd80-48ee-bde4-75efe806f8a8');\n",
              "        const dataTable =\n",
              "          await google.colab.kernel.invokeFunction('convertToInteractive',\n",
              "                                                    [key], {});\n",
              "        if (!dataTable) return;\n",
              "\n",
              "        const docLinkHtml = 'Like what you see? Visit the ' +\n",
              "          '<a target=\"_blank\" href=https://colab.research.google.com/notebooks/data_table.ipynb>data table notebook</a>'\n",
              "          + ' to learn more about interactive tables.';\n",
              "        element.innerHTML = '';\n",
              "        dataTable['output_type'] = 'display_data';\n",
              "        await google.colab.output.renderOutput(dataTable, element);\n",
              "        const docLink = document.createElement('div');\n",
              "        docLink.innerHTML = docLinkHtml;\n",
              "        element.appendChild(docLink);\n",
              "      }\n",
              "    </script>\n",
              "  </div>\n",
              "\n",
              "\n",
              "<div id=\"df-3363cf17-8dab-4451-bd2b-354fe877982b\">\n",
              "  <button class=\"colab-df-quickchart\" onclick=\"quickchart('df-3363cf17-8dab-4451-bd2b-354fe877982b')\"\n",
              "            title=\"Suggest charts.\"\n",
              "            style=\"display:none;\">\n",
              "\n",
              "<svg xmlns=\"http://www.w3.org/2000/svg\" height=\"24px\"viewBox=\"0 0 24 24\"\n",
              "     width=\"24px\">\n",
              "    <g>\n",
              "        <path d=\"M19 3H5c-1.1 0-2 .9-2 2v14c0 1.1.9 2 2 2h14c1.1 0 2-.9 2-2V5c0-1.1-.9-2-2-2zM9 17H7v-7h2v7zm4 0h-2V7h2v10zm4 0h-2v-4h2v4z\"/>\n",
              "    </g>\n",
              "</svg>\n",
              "  </button>\n",
              "\n",
              "<style>\n",
              "  .colab-df-quickchart {\n",
              "      --bg-color: #E8F0FE;\n",
              "      --fill-color: #1967D2;\n",
              "      --hover-bg-color: #E2EBFA;\n",
              "      --hover-fill-color: #174EA6;\n",
              "      --disabled-fill-color: #AAA;\n",
              "      --disabled-bg-color: #DDD;\n",
              "  }\n",
              "\n",
              "  [theme=dark] .colab-df-quickchart {\n",
              "      --bg-color: #3B4455;\n",
              "      --fill-color: #D2E3FC;\n",
              "      --hover-bg-color: #434B5C;\n",
              "      --hover-fill-color: #FFFFFF;\n",
              "      --disabled-bg-color: #3B4455;\n",
              "      --disabled-fill-color: #666;\n",
              "  }\n",
              "\n",
              "  .colab-df-quickchart {\n",
              "    background-color: var(--bg-color);\n",
              "    border: none;\n",
              "    border-radius: 50%;\n",
              "    cursor: pointer;\n",
              "    display: none;\n",
              "    fill: var(--fill-color);\n",
              "    height: 32px;\n",
              "    padding: 0;\n",
              "    width: 32px;\n",
              "  }\n",
              "\n",
              "  .colab-df-quickchart:hover {\n",
              "    background-color: var(--hover-bg-color);\n",
              "    box-shadow: 0 1px 2px rgba(60, 64, 67, 0.3), 0 1px 3px 1px rgba(60, 64, 67, 0.15);\n",
              "    fill: var(--button-hover-fill-color);\n",
              "  }\n",
              "\n",
              "  .colab-df-quickchart-complete:disabled,\n",
              "  .colab-df-quickchart-complete:disabled:hover {\n",
              "    background-color: var(--disabled-bg-color);\n",
              "    fill: var(--disabled-fill-color);\n",
              "    box-shadow: none;\n",
              "  }\n",
              "\n",
              "  .colab-df-spinner {\n",
              "    border: 2px solid var(--fill-color);\n",
              "    border-color: transparent;\n",
              "    border-bottom-color: var(--fill-color);\n",
              "    animation:\n",
              "      spin 1s steps(1) infinite;\n",
              "  }\n",
              "\n",
              "  @keyframes spin {\n",
              "    0% {\n",
              "      border-color: transparent;\n",
              "      border-bottom-color: var(--fill-color);\n",
              "      border-left-color: var(--fill-color);\n",
              "    }\n",
              "    20% {\n",
              "      border-color: transparent;\n",
              "      border-left-color: var(--fill-color);\n",
              "      border-top-color: var(--fill-color);\n",
              "    }\n",
              "    30% {\n",
              "      border-color: transparent;\n",
              "      border-left-color: var(--fill-color);\n",
              "      border-top-color: var(--fill-color);\n",
              "      border-right-color: var(--fill-color);\n",
              "    }\n",
              "    40% {\n",
              "      border-color: transparent;\n",
              "      border-right-color: var(--fill-color);\n",
              "      border-top-color: var(--fill-color);\n",
              "    }\n",
              "    60% {\n",
              "      border-color: transparent;\n",
              "      border-right-color: var(--fill-color);\n",
              "    }\n",
              "    80% {\n",
              "      border-color: transparent;\n",
              "      border-right-color: var(--fill-color);\n",
              "      border-bottom-color: var(--fill-color);\n",
              "    }\n",
              "    90% {\n",
              "      border-color: transparent;\n",
              "      border-bottom-color: var(--fill-color);\n",
              "    }\n",
              "  }\n",
              "</style>\n",
              "\n",
              "  <script>\n",
              "    async function quickchart(key) {\n",
              "      const quickchartButtonEl =\n",
              "        document.querySelector('#' + key + ' button');\n",
              "      quickchartButtonEl.disabled = true;  // To prevent multiple clicks.\n",
              "      quickchartButtonEl.classList.add('colab-df-spinner');\n",
              "      try {\n",
              "        const charts = await google.colab.kernel.invokeFunction(\n",
              "            'suggestCharts', [key], {});\n",
              "      } catch (error) {\n",
              "        console.error('Error during call to suggestCharts:', error);\n",
              "      }\n",
              "      quickchartButtonEl.classList.remove('colab-df-spinner');\n",
              "      quickchartButtonEl.classList.add('colab-df-quickchart-complete');\n",
              "    }\n",
              "    (() => {\n",
              "      let quickchartButtonEl =\n",
              "        document.querySelector('#df-3363cf17-8dab-4451-bd2b-354fe877982b button');\n",
              "      quickchartButtonEl.style.display =\n",
              "        google.colab.kernel.accessAllowed ? 'block' : 'none';\n",
              "    })();\n",
              "  </script>\n",
              "</div>\n",
              "    </div>\n",
              "  </div>\n"
            ]
          },
          "metadata": {},
          "execution_count": 7
        }
      ],
      "source": [
        "test.head()"
      ]
    },
    {
      "cell_type": "markdown",
      "metadata": {
        "id": "EDJwvJDTHwPA"
      },
      "source": [
        "##Distribution of labels"
      ]
    },
    {
      "cell_type": "markdown",
      "metadata": {
        "id": "WCdX3EM982CI"
      },
      "source": [
        "#Handling Missing Values\n",
        "\n",
        "##Missing values in training data"
      ]
    },
    {
      "cell_type": "code",
      "execution_count": null,
      "metadata": {
        "colab": {
          "base_uri": "https://localhost:8080/"
        },
        "id": "D3scQNFu85lM",
        "outputId": "1539349c-d68b-43b9-823e-9064d2d2ce3d"
      },
      "outputs": [
        {
          "output_type": "execute_result",
          "data": {
            "text/plain": [
              "label_1      0\n",
              "label_2    480\n",
              "label_3      0\n",
              "label_4      0\n",
              "dtype: int64"
            ]
          },
          "metadata": {},
          "execution_count": 3
        }
      ],
      "source": [
        "# Check for missing values in each label\n",
        "labels = [\"label_1\", \"label_2\", \"label_3\", \"label_4\"]\n",
        "train[labels].isnull().sum()"
      ]
    },
    {
      "cell_type": "code",
      "execution_count": null,
      "metadata": {
        "colab": {
          "base_uri": "https://localhost:8080/"
        },
        "id": "V-U54P6i9Bb4",
        "outputId": "6ce91891-128d-4735-de26-c762fda8185a"
      },
      "outputs": [
        {
          "output_type": "execute_result",
          "data": {
            "text/plain": [
              "28520"
            ]
          },
          "metadata": {},
          "execution_count": 7
        }
      ],
      "source": [
        "len(train[\"label_2\"])"
      ]
    },
    {
      "cell_type": "code",
      "execution_count": null,
      "metadata": {
        "colab": {
          "base_uri": "https://localhost:8080/"
        },
        "id": "3vwhVNo79RUn",
        "outputId": "0d36e981-96d8-49bb-e4c7-d14f58fe2c07"
      },
      "outputs": [
        {
          "output_type": "execute_result",
          "data": {
            "text/plain": [
              "label_1    0\n",
              "label_2    0\n",
              "label_3    0\n",
              "label_4    0\n",
              "dtype: int64"
            ]
          },
          "metadata": {},
          "execution_count": 6
        }
      ],
      "source": [
        "from sklearn.impute import SimpleImputer\n",
        "\n",
        "imputer = SimpleImputer(strategy='mean')\n",
        "columns = [\"label_2\"]\n",
        "imputer.fit(train[columns])\n",
        "\n",
        "# Insert the missing values with the mean with the nearest integer\n",
        "train[columns] = imputer.transform(train[columns]).round().astype(\"int\")\n",
        "\n",
        "# Recheck for missing values in each label to confirm whether there are no missing values left\n",
        "train[labels].isnull().sum()"
      ]
    },
    {
      "cell_type": "markdown",
      "metadata": {
        "id": "SwQVukpU9saI"
      },
      "source": [
        "##Missing values in validation data"
      ]
    },
    {
      "cell_type": "code",
      "execution_count": null,
      "metadata": {
        "colab": {
          "base_uri": "https://localhost:8080/"
        },
        "id": "d7IQEvyx9vmT",
        "outputId": "2efdac2c-da10-4038-e64d-dbdbfecd2759"
      },
      "outputs": [
        {
          "output_type": "execute_result",
          "data": {
            "text/plain": [
              "label_1     0\n",
              "label_2    14\n",
              "label_3     0\n",
              "label_4     0\n",
              "dtype: int64"
            ]
          },
          "metadata": {},
          "execution_count": 9
        }
      ],
      "source": [
        "valid[labels].isnull().sum()"
      ]
    },
    {
      "cell_type": "code",
      "execution_count": null,
      "metadata": {
        "colab": {
          "base_uri": "https://localhost:8080/"
        },
        "id": "Wi-oQALF-LBB",
        "outputId": "922b73f2-45e4-4a40-f2b2-c24b912af787"
      },
      "outputs": [
        {
          "output_type": "execute_result",
          "data": {
            "text/plain": [
              "750"
            ]
          },
          "metadata": {},
          "execution_count": 10
        }
      ],
      "source": [
        "len(valid[\"label_2\"])"
      ]
    },
    {
      "cell_type": "code",
      "execution_count": null,
      "metadata": {
        "colab": {
          "base_uri": "https://localhost:8080/"
        },
        "id": "zvdTxioQ9_1w",
        "outputId": "0d7ccc6a-a994-4e70-b9f0-2ff51a7744d3"
      },
      "outputs": [
        {
          "output_type": "execute_result",
          "data": {
            "text/plain": [
              "label_1    0\n",
              "label_2    0\n",
              "label_3    0\n",
              "label_4    0\n",
              "dtype: int64"
            ]
          },
          "metadata": {},
          "execution_count": 7
        }
      ],
      "source": [
        "imputer = SimpleImputer(strategy='mean')\n",
        "columns = [\"label_2\"]\n",
        "imputer.fit(valid[columns])\n",
        "\n",
        "# Insert the missing values with the mean with the nearest integer\n",
        "valid[columns] = imputer.transform(valid[columns]).round().astype(\"int\")\n",
        "valid[labels].isnull().sum()"
      ]
    },
    {
      "cell_type": "markdown",
      "metadata": {
        "id": "FAaD98QDPzRW"
      },
      "source": [
        "#Label 1 - Speaker ID"
      ]
    },
    {
      "cell_type": "code",
      "execution_count": null,
      "metadata": {
        "id": "Agzu8Ck1P3F9"
      },
      "outputs": [],
      "source": [
        "# Split X and Y\n",
        "x_label_1 = train.iloc[:, : -4]\n",
        "y_label_1 = train[\"label_1\"]\n",
        "x_valid_label_1 = valid.iloc[:, : -4]\n",
        "y_valid_label_1 = valid[\"label_1\"]"
      ]
    },
    {
      "cell_type": "code",
      "execution_count": null,
      "metadata": {
        "colab": {
          "base_uri": "https://localhost:8080/",
          "height": 256
        },
        "id": "P6N2hPWkQBee",
        "outputId": "e1acfd40-fe90-4ce5-ccf3-bf2435bae747"
      },
      "outputs": [
        {
          "output_type": "execute_result",
          "data": {
            "text/plain": [
              "   feature_1  feature_2  feature_3  feature_4  feature_5  feature_6  \\\n",
              "0   0.031138   0.079892   0.157382  -0.014636  -0.051778  -0.021332   \n",
              "1   0.113040   0.175731   0.217741  -0.196254  -0.010129  -0.030586   \n",
              "2   0.048570   0.091281   0.160776  -0.150937   0.020115   0.044117   \n",
              "3   0.039212   0.118388   0.173831  -0.096659  -0.008702   0.061298   \n",
              "4   0.056019   0.170639   0.157917  -0.228605  -0.065965  -0.088732   \n",
              "\n",
              "   feature_7  feature_8  feature_9  feature_10  ...  feature_759  feature_760  \\\n",
              "0  -0.073593  -0.005386  -0.212557    0.099683  ...    -0.085613     0.116276   \n",
              "1   0.067114  -0.072412  -0.239192    0.104741  ...    -0.235261     0.075487   \n",
              "2  -0.050092  -0.045661  -0.155332    0.117206  ...    -0.146143     0.113063   \n",
              "3   0.008974  -0.003277  -0.065046    0.095480  ...    -0.102543     0.101914   \n",
              "4  -0.082243  -0.080568  -0.341500    0.142430  ...    -0.253095     0.131308   \n",
              "\n",
              "   feature_761  feature_762  feature_763  feature_764  feature_765  \\\n",
              "0    -0.009873    -0.168441    -0.085248    -0.096007    -0.000766   \n",
              "1     0.032231    -0.318012    -0.090283    -0.053885    -0.010967   \n",
              "2     0.038823    -0.199746    -0.021524    -0.008411    -0.006248   \n",
              "3     0.043303    -0.202432    -0.071936    -0.023120    -0.007812   \n",
              "4     0.089454    -0.219729    -0.155621    -0.079447     0.015316   \n",
              "\n",
              "   feature_766  feature_767  feature_768  \n",
              "0     0.021399    -0.041432     0.094806  \n",
              "1     0.062209    -0.122958     0.192949  \n",
              "2     0.031468    -0.056915     0.154731  \n",
              "3     0.057600    -0.121892     0.072796  \n",
              "4     0.127726    -0.151966     0.169634  \n",
              "\n",
              "[5 rows x 768 columns]"
            ],
            "text/html": [
              "\n",
              "  <div id=\"df-27e343b8-944d-4bb3-ba6a-c9b765129663\" class=\"colab-df-container\">\n",
              "    <div>\n",
              "<style scoped>\n",
              "    .dataframe tbody tr th:only-of-type {\n",
              "        vertical-align: middle;\n",
              "    }\n",
              "\n",
              "    .dataframe tbody tr th {\n",
              "        vertical-align: top;\n",
              "    }\n",
              "\n",
              "    .dataframe thead th {\n",
              "        text-align: right;\n",
              "    }\n",
              "</style>\n",
              "<table border=\"1\" class=\"dataframe\">\n",
              "  <thead>\n",
              "    <tr style=\"text-align: right;\">\n",
              "      <th></th>\n",
              "      <th>feature_1</th>\n",
              "      <th>feature_2</th>\n",
              "      <th>feature_3</th>\n",
              "      <th>feature_4</th>\n",
              "      <th>feature_5</th>\n",
              "      <th>feature_6</th>\n",
              "      <th>feature_7</th>\n",
              "      <th>feature_8</th>\n",
              "      <th>feature_9</th>\n",
              "      <th>feature_10</th>\n",
              "      <th>...</th>\n",
              "      <th>feature_759</th>\n",
              "      <th>feature_760</th>\n",
              "      <th>feature_761</th>\n",
              "      <th>feature_762</th>\n",
              "      <th>feature_763</th>\n",
              "      <th>feature_764</th>\n",
              "      <th>feature_765</th>\n",
              "      <th>feature_766</th>\n",
              "      <th>feature_767</th>\n",
              "      <th>feature_768</th>\n",
              "    </tr>\n",
              "  </thead>\n",
              "  <tbody>\n",
              "    <tr>\n",
              "      <th>0</th>\n",
              "      <td>0.031138</td>\n",
              "      <td>0.079892</td>\n",
              "      <td>0.157382</td>\n",
              "      <td>-0.014636</td>\n",
              "      <td>-0.051778</td>\n",
              "      <td>-0.021332</td>\n",
              "      <td>-0.073593</td>\n",
              "      <td>-0.005386</td>\n",
              "      <td>-0.212557</td>\n",
              "      <td>0.099683</td>\n",
              "      <td>...</td>\n",
              "      <td>-0.085613</td>\n",
              "      <td>0.116276</td>\n",
              "      <td>-0.009873</td>\n",
              "      <td>-0.168441</td>\n",
              "      <td>-0.085248</td>\n",
              "      <td>-0.096007</td>\n",
              "      <td>-0.000766</td>\n",
              "      <td>0.021399</td>\n",
              "      <td>-0.041432</td>\n",
              "      <td>0.094806</td>\n",
              "    </tr>\n",
              "    <tr>\n",
              "      <th>1</th>\n",
              "      <td>0.113040</td>\n",
              "      <td>0.175731</td>\n",
              "      <td>0.217741</td>\n",
              "      <td>-0.196254</td>\n",
              "      <td>-0.010129</td>\n",
              "      <td>-0.030586</td>\n",
              "      <td>0.067114</td>\n",
              "      <td>-0.072412</td>\n",
              "      <td>-0.239192</td>\n",
              "      <td>0.104741</td>\n",
              "      <td>...</td>\n",
              "      <td>-0.235261</td>\n",
              "      <td>0.075487</td>\n",
              "      <td>0.032231</td>\n",
              "      <td>-0.318012</td>\n",
              "      <td>-0.090283</td>\n",
              "      <td>-0.053885</td>\n",
              "      <td>-0.010967</td>\n",
              "      <td>0.062209</td>\n",
              "      <td>-0.122958</td>\n",
              "      <td>0.192949</td>\n",
              "    </tr>\n",
              "    <tr>\n",
              "      <th>2</th>\n",
              "      <td>0.048570</td>\n",
              "      <td>0.091281</td>\n",
              "      <td>0.160776</td>\n",
              "      <td>-0.150937</td>\n",
              "      <td>0.020115</td>\n",
              "      <td>0.044117</td>\n",
              "      <td>-0.050092</td>\n",
              "      <td>-0.045661</td>\n",
              "      <td>-0.155332</td>\n",
              "      <td>0.117206</td>\n",
              "      <td>...</td>\n",
              "      <td>-0.146143</td>\n",
              "      <td>0.113063</td>\n",
              "      <td>0.038823</td>\n",
              "      <td>-0.199746</td>\n",
              "      <td>-0.021524</td>\n",
              "      <td>-0.008411</td>\n",
              "      <td>-0.006248</td>\n",
              "      <td>0.031468</td>\n",
              "      <td>-0.056915</td>\n",
              "      <td>0.154731</td>\n",
              "    </tr>\n",
              "    <tr>\n",
              "      <th>3</th>\n",
              "      <td>0.039212</td>\n",
              "      <td>0.118388</td>\n",
              "      <td>0.173831</td>\n",
              "      <td>-0.096659</td>\n",
              "      <td>-0.008702</td>\n",
              "      <td>0.061298</td>\n",
              "      <td>0.008974</td>\n",
              "      <td>-0.003277</td>\n",
              "      <td>-0.065046</td>\n",
              "      <td>0.095480</td>\n",
              "      <td>...</td>\n",
              "      <td>-0.102543</td>\n",
              "      <td>0.101914</td>\n",
              "      <td>0.043303</td>\n",
              "      <td>-0.202432</td>\n",
              "      <td>-0.071936</td>\n",
              "      <td>-0.023120</td>\n",
              "      <td>-0.007812</td>\n",
              "      <td>0.057600</td>\n",
              "      <td>-0.121892</td>\n",
              "      <td>0.072796</td>\n",
              "    </tr>\n",
              "    <tr>\n",
              "      <th>4</th>\n",
              "      <td>0.056019</td>\n",
              "      <td>0.170639</td>\n",
              "      <td>0.157917</td>\n",
              "      <td>-0.228605</td>\n",
              "      <td>-0.065965</td>\n",
              "      <td>-0.088732</td>\n",
              "      <td>-0.082243</td>\n",
              "      <td>-0.080568</td>\n",
              "      <td>-0.341500</td>\n",
              "      <td>0.142430</td>\n",
              "      <td>...</td>\n",
              "      <td>-0.253095</td>\n",
              "      <td>0.131308</td>\n",
              "      <td>0.089454</td>\n",
              "      <td>-0.219729</td>\n",
              "      <td>-0.155621</td>\n",
              "      <td>-0.079447</td>\n",
              "      <td>0.015316</td>\n",
              "      <td>0.127726</td>\n",
              "      <td>-0.151966</td>\n",
              "      <td>0.169634</td>\n",
              "    </tr>\n",
              "  </tbody>\n",
              "</table>\n",
              "<p>5 rows × 768 columns</p>\n",
              "</div>\n",
              "    <div class=\"colab-df-buttons\">\n",
              "\n",
              "  <div class=\"colab-df-container\">\n",
              "    <button class=\"colab-df-convert\" onclick=\"convertToInteractive('df-27e343b8-944d-4bb3-ba6a-c9b765129663')\"\n",
              "            title=\"Convert this dataframe to an interactive table.\"\n",
              "            style=\"display:none;\">\n",
              "\n",
              "  <svg xmlns=\"http://www.w3.org/2000/svg\" height=\"24px\" viewBox=\"0 -960 960 960\">\n",
              "    <path d=\"M120-120v-720h720v720H120Zm60-500h600v-160H180v160Zm220 220h160v-160H400v160Zm0 220h160v-160H400v160ZM180-400h160v-160H180v160Zm440 0h160v-160H620v160ZM180-180h160v-160H180v160Zm440 0h160v-160H620v160Z\"/>\n",
              "  </svg>\n",
              "    </button>\n",
              "\n",
              "  <style>\n",
              "    .colab-df-container {\n",
              "      display:flex;\n",
              "      gap: 12px;\n",
              "    }\n",
              "\n",
              "    .colab-df-convert {\n",
              "      background-color: #E8F0FE;\n",
              "      border: none;\n",
              "      border-radius: 50%;\n",
              "      cursor: pointer;\n",
              "      display: none;\n",
              "      fill: #1967D2;\n",
              "      height: 32px;\n",
              "      padding: 0 0 0 0;\n",
              "      width: 32px;\n",
              "    }\n",
              "\n",
              "    .colab-df-convert:hover {\n",
              "      background-color: #E2EBFA;\n",
              "      box-shadow: 0px 1px 2px rgba(60, 64, 67, 0.3), 0px 1px 3px 1px rgba(60, 64, 67, 0.15);\n",
              "      fill: #174EA6;\n",
              "    }\n",
              "\n",
              "    .colab-df-buttons div {\n",
              "      margin-bottom: 4px;\n",
              "    }\n",
              "\n",
              "    [theme=dark] .colab-df-convert {\n",
              "      background-color: #3B4455;\n",
              "      fill: #D2E3FC;\n",
              "    }\n",
              "\n",
              "    [theme=dark] .colab-df-convert:hover {\n",
              "      background-color: #434B5C;\n",
              "      box-shadow: 0px 1px 3px 1px rgba(0, 0, 0, 0.15);\n",
              "      filter: drop-shadow(0px 1px 2px rgba(0, 0, 0, 0.3));\n",
              "      fill: #FFFFFF;\n",
              "    }\n",
              "  </style>\n",
              "\n",
              "    <script>\n",
              "      const buttonEl =\n",
              "        document.querySelector('#df-27e343b8-944d-4bb3-ba6a-c9b765129663 button.colab-df-convert');\n",
              "      buttonEl.style.display =\n",
              "        google.colab.kernel.accessAllowed ? 'block' : 'none';\n",
              "\n",
              "      async function convertToInteractive(key) {\n",
              "        const element = document.querySelector('#df-27e343b8-944d-4bb3-ba6a-c9b765129663');\n",
              "        const dataTable =\n",
              "          await google.colab.kernel.invokeFunction('convertToInteractive',\n",
              "                                                    [key], {});\n",
              "        if (!dataTable) return;\n",
              "\n",
              "        const docLinkHtml = 'Like what you see? Visit the ' +\n",
              "          '<a target=\"_blank\" href=https://colab.research.google.com/notebooks/data_table.ipynb>data table notebook</a>'\n",
              "          + ' to learn more about interactive tables.';\n",
              "        element.innerHTML = '';\n",
              "        dataTable['output_type'] = 'display_data';\n",
              "        await google.colab.output.renderOutput(dataTable, element);\n",
              "        const docLink = document.createElement('div');\n",
              "        docLink.innerHTML = docLinkHtml;\n",
              "        element.appendChild(docLink);\n",
              "      }\n",
              "    </script>\n",
              "  </div>\n",
              "\n",
              "\n",
              "<div id=\"df-18b7187d-396c-48ae-b704-17b655f4f835\">\n",
              "  <button class=\"colab-df-quickchart\" onclick=\"quickchart('df-18b7187d-396c-48ae-b704-17b655f4f835')\"\n",
              "            title=\"Suggest charts.\"\n",
              "            style=\"display:none;\">\n",
              "\n",
              "<svg xmlns=\"http://www.w3.org/2000/svg\" height=\"24px\"viewBox=\"0 0 24 24\"\n",
              "     width=\"24px\">\n",
              "    <g>\n",
              "        <path d=\"M19 3H5c-1.1 0-2 .9-2 2v14c0 1.1.9 2 2 2h14c1.1 0 2-.9 2-2V5c0-1.1-.9-2-2-2zM9 17H7v-7h2v7zm4 0h-2V7h2v10zm4 0h-2v-4h2v4z\"/>\n",
              "    </g>\n",
              "</svg>\n",
              "  </button>\n",
              "\n",
              "<style>\n",
              "  .colab-df-quickchart {\n",
              "      --bg-color: #E8F0FE;\n",
              "      --fill-color: #1967D2;\n",
              "      --hover-bg-color: #E2EBFA;\n",
              "      --hover-fill-color: #174EA6;\n",
              "      --disabled-fill-color: #AAA;\n",
              "      --disabled-bg-color: #DDD;\n",
              "  }\n",
              "\n",
              "  [theme=dark] .colab-df-quickchart {\n",
              "      --bg-color: #3B4455;\n",
              "      --fill-color: #D2E3FC;\n",
              "      --hover-bg-color: #434B5C;\n",
              "      --hover-fill-color: #FFFFFF;\n",
              "      --disabled-bg-color: #3B4455;\n",
              "      --disabled-fill-color: #666;\n",
              "  }\n",
              "\n",
              "  .colab-df-quickchart {\n",
              "    background-color: var(--bg-color);\n",
              "    border: none;\n",
              "    border-radius: 50%;\n",
              "    cursor: pointer;\n",
              "    display: none;\n",
              "    fill: var(--fill-color);\n",
              "    height: 32px;\n",
              "    padding: 0;\n",
              "    width: 32px;\n",
              "  }\n",
              "\n",
              "  .colab-df-quickchart:hover {\n",
              "    background-color: var(--hover-bg-color);\n",
              "    box-shadow: 0 1px 2px rgba(60, 64, 67, 0.3), 0 1px 3px 1px rgba(60, 64, 67, 0.15);\n",
              "    fill: var(--button-hover-fill-color);\n",
              "  }\n",
              "\n",
              "  .colab-df-quickchart-complete:disabled,\n",
              "  .colab-df-quickchart-complete:disabled:hover {\n",
              "    background-color: var(--disabled-bg-color);\n",
              "    fill: var(--disabled-fill-color);\n",
              "    box-shadow: none;\n",
              "  }\n",
              "\n",
              "  .colab-df-spinner {\n",
              "    border: 2px solid var(--fill-color);\n",
              "    border-color: transparent;\n",
              "    border-bottom-color: var(--fill-color);\n",
              "    animation:\n",
              "      spin 1s steps(1) infinite;\n",
              "  }\n",
              "\n",
              "  @keyframes spin {\n",
              "    0% {\n",
              "      border-color: transparent;\n",
              "      border-bottom-color: var(--fill-color);\n",
              "      border-left-color: var(--fill-color);\n",
              "    }\n",
              "    20% {\n",
              "      border-color: transparent;\n",
              "      border-left-color: var(--fill-color);\n",
              "      border-top-color: var(--fill-color);\n",
              "    }\n",
              "    30% {\n",
              "      border-color: transparent;\n",
              "      border-left-color: var(--fill-color);\n",
              "      border-top-color: var(--fill-color);\n",
              "      border-right-color: var(--fill-color);\n",
              "    }\n",
              "    40% {\n",
              "      border-color: transparent;\n",
              "      border-right-color: var(--fill-color);\n",
              "      border-top-color: var(--fill-color);\n",
              "    }\n",
              "    60% {\n",
              "      border-color: transparent;\n",
              "      border-right-color: var(--fill-color);\n",
              "    }\n",
              "    80% {\n",
              "      border-color: transparent;\n",
              "      border-right-color: var(--fill-color);\n",
              "      border-bottom-color: var(--fill-color);\n",
              "    }\n",
              "    90% {\n",
              "      border-color: transparent;\n",
              "      border-bottom-color: var(--fill-color);\n",
              "    }\n",
              "  }\n",
              "</style>\n",
              "\n",
              "  <script>\n",
              "    async function quickchart(key) {\n",
              "      const quickchartButtonEl =\n",
              "        document.querySelector('#' + key + ' button');\n",
              "      quickchartButtonEl.disabled = true;  // To prevent multiple clicks.\n",
              "      quickchartButtonEl.classList.add('colab-df-spinner');\n",
              "      try {\n",
              "        const charts = await google.colab.kernel.invokeFunction(\n",
              "            'suggestCharts', [key], {});\n",
              "      } catch (error) {\n",
              "        console.error('Error during call to suggestCharts:', error);\n",
              "      }\n",
              "      quickchartButtonEl.classList.remove('colab-df-spinner');\n",
              "      quickchartButtonEl.classList.add('colab-df-quickchart-complete');\n",
              "    }\n",
              "    (() => {\n",
              "      let quickchartButtonEl =\n",
              "        document.querySelector('#df-18b7187d-396c-48ae-b704-17b655f4f835 button');\n",
              "      quickchartButtonEl.style.display =\n",
              "        google.colab.kernel.accessAllowed ? 'block' : 'none';\n",
              "    })();\n",
              "  </script>\n",
              "</div>\n",
              "    </div>\n",
              "  </div>\n"
            ]
          },
          "metadata": {},
          "execution_count": 96
        }
      ],
      "source": [
        "x_label_1.head()"
      ]
    },
    {
      "cell_type": "code",
      "execution_count": null,
      "metadata": {
        "colab": {
          "base_uri": "https://localhost:8080/"
        },
        "id": "rG6ik9dCQMDr",
        "outputId": "2af6642a-ce18-458b-c81a-73a813a71188"
      },
      "outputs": [
        {
          "output_type": "execute_result",
          "data": {
            "text/plain": [
              "0    45\n",
              "1    45\n",
              "2    45\n",
              "3    45\n",
              "4    45\n",
              "Name: label_1, dtype: int64"
            ]
          },
          "metadata": {},
          "execution_count": 16
        }
      ],
      "source": [
        "y_label_1.head()"
      ]
    },
    {
      "cell_type": "code",
      "source": [
        "x_test_label_1 = test.iloc[:, 1:]\n",
        "x_test_label_1.head()"
      ],
      "metadata": {
        "colab": {
          "base_uri": "https://localhost:8080/",
          "height": 256
        },
        "id": "Vl5jzY5Xm5H1",
        "outputId": "8b1bf069-c0e2-4eea-a3cd-0c42efdc9ad4"
      },
      "execution_count": null,
      "outputs": [
        {
          "output_type": "execute_result",
          "data": {
            "text/plain": [
              "   feature_1  feature_2  feature_3  feature_4  feature_5  feature_6  \\\n",
              "0   0.124623   0.196628   0.257004  -0.156045  -0.054916   0.006071   \n",
              "1   0.109655   0.170158   0.227644  -0.127088  -0.044476  -0.046852   \n",
              "2   0.014854   0.030051   0.115092  -0.017179   0.002720  -0.011692   \n",
              "3   0.196893   0.113314   0.352175  -0.108499  -0.064472  -0.073239   \n",
              "4   0.033004   0.013373   0.124001  -0.016143   0.010120   0.010635   \n",
              "\n",
              "   feature_7  feature_8  feature_9  feature_10  ...  feature_759  feature_760  \\\n",
              "0  -0.035149  -0.092019  -0.196302    0.077971  ...    -0.221466     0.140292   \n",
              "1  -0.090026  -0.061321  -0.227288    0.066863  ...    -0.204930     0.110203   \n",
              "2  -0.078855  -0.042991  -0.096283    0.042701  ...    -0.032937     0.075821   \n",
              "3  -0.086402   0.008671  -0.342217    0.104941  ...    -0.255167     0.096579   \n",
              "4  -0.055789  -0.036282  -0.059422    0.060278  ...    -0.035814     0.093764   \n",
              "\n",
              "   feature_761  feature_762  feature_763  feature_764  feature_765  \\\n",
              "0     0.123622    -0.175572    -0.107030    -0.087621    -0.026501   \n",
              "1     0.085665    -0.286787    -0.113195    -0.057312    -0.055680   \n",
              "2     0.030987    -0.149850    -0.003155    -0.010207    -0.001427   \n",
              "3     0.069413    -0.215386    -0.075168    -0.035071    -0.023375   \n",
              "4     0.027321    -0.116009     0.010096    -0.042293     0.005347   \n",
              "\n",
              "   feature_766  feature_767  feature_768  \n",
              "0     0.139337    -0.083030     0.059507  \n",
              "1     0.143939    -0.045760     0.106113  \n",
              "2     0.000934    -0.017069     0.048123  \n",
              "3     0.067768    -0.181530     0.174444  \n",
              "4     0.007722    -0.007731     0.058799  \n",
              "\n",
              "[5 rows x 768 columns]"
            ],
            "text/html": [
              "\n",
              "  <div id=\"df-bcb7f097-8b7d-40c8-b5de-88c325576530\" class=\"colab-df-container\">\n",
              "    <div>\n",
              "<style scoped>\n",
              "    .dataframe tbody tr th:only-of-type {\n",
              "        vertical-align: middle;\n",
              "    }\n",
              "\n",
              "    .dataframe tbody tr th {\n",
              "        vertical-align: top;\n",
              "    }\n",
              "\n",
              "    .dataframe thead th {\n",
              "        text-align: right;\n",
              "    }\n",
              "</style>\n",
              "<table border=\"1\" class=\"dataframe\">\n",
              "  <thead>\n",
              "    <tr style=\"text-align: right;\">\n",
              "      <th></th>\n",
              "      <th>feature_1</th>\n",
              "      <th>feature_2</th>\n",
              "      <th>feature_3</th>\n",
              "      <th>feature_4</th>\n",
              "      <th>feature_5</th>\n",
              "      <th>feature_6</th>\n",
              "      <th>feature_7</th>\n",
              "      <th>feature_8</th>\n",
              "      <th>feature_9</th>\n",
              "      <th>feature_10</th>\n",
              "      <th>...</th>\n",
              "      <th>feature_759</th>\n",
              "      <th>feature_760</th>\n",
              "      <th>feature_761</th>\n",
              "      <th>feature_762</th>\n",
              "      <th>feature_763</th>\n",
              "      <th>feature_764</th>\n",
              "      <th>feature_765</th>\n",
              "      <th>feature_766</th>\n",
              "      <th>feature_767</th>\n",
              "      <th>feature_768</th>\n",
              "    </tr>\n",
              "  </thead>\n",
              "  <tbody>\n",
              "    <tr>\n",
              "      <th>0</th>\n",
              "      <td>0.124623</td>\n",
              "      <td>0.196628</td>\n",
              "      <td>0.257004</td>\n",
              "      <td>-0.156045</td>\n",
              "      <td>-0.054916</td>\n",
              "      <td>0.006071</td>\n",
              "      <td>-0.035149</td>\n",
              "      <td>-0.092019</td>\n",
              "      <td>-0.196302</td>\n",
              "      <td>0.077971</td>\n",
              "      <td>...</td>\n",
              "      <td>-0.221466</td>\n",
              "      <td>0.140292</td>\n",
              "      <td>0.123622</td>\n",
              "      <td>-0.175572</td>\n",
              "      <td>-0.107030</td>\n",
              "      <td>-0.087621</td>\n",
              "      <td>-0.026501</td>\n",
              "      <td>0.139337</td>\n",
              "      <td>-0.083030</td>\n",
              "      <td>0.059507</td>\n",
              "    </tr>\n",
              "    <tr>\n",
              "      <th>1</th>\n",
              "      <td>0.109655</td>\n",
              "      <td>0.170158</td>\n",
              "      <td>0.227644</td>\n",
              "      <td>-0.127088</td>\n",
              "      <td>-0.044476</td>\n",
              "      <td>-0.046852</td>\n",
              "      <td>-0.090026</td>\n",
              "      <td>-0.061321</td>\n",
              "      <td>-0.227288</td>\n",
              "      <td>0.066863</td>\n",
              "      <td>...</td>\n",
              "      <td>-0.204930</td>\n",
              "      <td>0.110203</td>\n",
              "      <td>0.085665</td>\n",
              "      <td>-0.286787</td>\n",
              "      <td>-0.113195</td>\n",
              "      <td>-0.057312</td>\n",
              "      <td>-0.055680</td>\n",
              "      <td>0.143939</td>\n",
              "      <td>-0.045760</td>\n",
              "      <td>0.106113</td>\n",
              "    </tr>\n",
              "    <tr>\n",
              "      <th>2</th>\n",
              "      <td>0.014854</td>\n",
              "      <td>0.030051</td>\n",
              "      <td>0.115092</td>\n",
              "      <td>-0.017179</td>\n",
              "      <td>0.002720</td>\n",
              "      <td>-0.011692</td>\n",
              "      <td>-0.078855</td>\n",
              "      <td>-0.042991</td>\n",
              "      <td>-0.096283</td>\n",
              "      <td>0.042701</td>\n",
              "      <td>...</td>\n",
              "      <td>-0.032937</td>\n",
              "      <td>0.075821</td>\n",
              "      <td>0.030987</td>\n",
              "      <td>-0.149850</td>\n",
              "      <td>-0.003155</td>\n",
              "      <td>-0.010207</td>\n",
              "      <td>-0.001427</td>\n",
              "      <td>0.000934</td>\n",
              "      <td>-0.017069</td>\n",
              "      <td>0.048123</td>\n",
              "    </tr>\n",
              "    <tr>\n",
              "      <th>3</th>\n",
              "      <td>0.196893</td>\n",
              "      <td>0.113314</td>\n",
              "      <td>0.352175</td>\n",
              "      <td>-0.108499</td>\n",
              "      <td>-0.064472</td>\n",
              "      <td>-0.073239</td>\n",
              "      <td>-0.086402</td>\n",
              "      <td>0.008671</td>\n",
              "      <td>-0.342217</td>\n",
              "      <td>0.104941</td>\n",
              "      <td>...</td>\n",
              "      <td>-0.255167</td>\n",
              "      <td>0.096579</td>\n",
              "      <td>0.069413</td>\n",
              "      <td>-0.215386</td>\n",
              "      <td>-0.075168</td>\n",
              "      <td>-0.035071</td>\n",
              "      <td>-0.023375</td>\n",
              "      <td>0.067768</td>\n",
              "      <td>-0.181530</td>\n",
              "      <td>0.174444</td>\n",
              "    </tr>\n",
              "    <tr>\n",
              "      <th>4</th>\n",
              "      <td>0.033004</td>\n",
              "      <td>0.013373</td>\n",
              "      <td>0.124001</td>\n",
              "      <td>-0.016143</td>\n",
              "      <td>0.010120</td>\n",
              "      <td>0.010635</td>\n",
              "      <td>-0.055789</td>\n",
              "      <td>-0.036282</td>\n",
              "      <td>-0.059422</td>\n",
              "      <td>0.060278</td>\n",
              "      <td>...</td>\n",
              "      <td>-0.035814</td>\n",
              "      <td>0.093764</td>\n",
              "      <td>0.027321</td>\n",
              "      <td>-0.116009</td>\n",
              "      <td>0.010096</td>\n",
              "      <td>-0.042293</td>\n",
              "      <td>0.005347</td>\n",
              "      <td>0.007722</td>\n",
              "      <td>-0.007731</td>\n",
              "      <td>0.058799</td>\n",
              "    </tr>\n",
              "  </tbody>\n",
              "</table>\n",
              "<p>5 rows × 768 columns</p>\n",
              "</div>\n",
              "    <div class=\"colab-df-buttons\">\n",
              "\n",
              "  <div class=\"colab-df-container\">\n",
              "    <button class=\"colab-df-convert\" onclick=\"convertToInteractive('df-bcb7f097-8b7d-40c8-b5de-88c325576530')\"\n",
              "            title=\"Convert this dataframe to an interactive table.\"\n",
              "            style=\"display:none;\">\n",
              "\n",
              "  <svg xmlns=\"http://www.w3.org/2000/svg\" height=\"24px\" viewBox=\"0 -960 960 960\">\n",
              "    <path d=\"M120-120v-720h720v720H120Zm60-500h600v-160H180v160Zm220 220h160v-160H400v160Zm0 220h160v-160H400v160ZM180-400h160v-160H180v160Zm440 0h160v-160H620v160ZM180-180h160v-160H180v160Zm440 0h160v-160H620v160Z\"/>\n",
              "  </svg>\n",
              "    </button>\n",
              "\n",
              "  <style>\n",
              "    .colab-df-container {\n",
              "      display:flex;\n",
              "      gap: 12px;\n",
              "    }\n",
              "\n",
              "    .colab-df-convert {\n",
              "      background-color: #E8F0FE;\n",
              "      border: none;\n",
              "      border-radius: 50%;\n",
              "      cursor: pointer;\n",
              "      display: none;\n",
              "      fill: #1967D2;\n",
              "      height: 32px;\n",
              "      padding: 0 0 0 0;\n",
              "      width: 32px;\n",
              "    }\n",
              "\n",
              "    .colab-df-convert:hover {\n",
              "      background-color: #E2EBFA;\n",
              "      box-shadow: 0px 1px 2px rgba(60, 64, 67, 0.3), 0px 1px 3px 1px rgba(60, 64, 67, 0.15);\n",
              "      fill: #174EA6;\n",
              "    }\n",
              "\n",
              "    .colab-df-buttons div {\n",
              "      margin-bottom: 4px;\n",
              "    }\n",
              "\n",
              "    [theme=dark] .colab-df-convert {\n",
              "      background-color: #3B4455;\n",
              "      fill: #D2E3FC;\n",
              "    }\n",
              "\n",
              "    [theme=dark] .colab-df-convert:hover {\n",
              "      background-color: #434B5C;\n",
              "      box-shadow: 0px 1px 3px 1px rgba(0, 0, 0, 0.15);\n",
              "      filter: drop-shadow(0px 1px 2px rgba(0, 0, 0, 0.3));\n",
              "      fill: #FFFFFF;\n",
              "    }\n",
              "  </style>\n",
              "\n",
              "    <script>\n",
              "      const buttonEl =\n",
              "        document.querySelector('#df-bcb7f097-8b7d-40c8-b5de-88c325576530 button.colab-df-convert');\n",
              "      buttonEl.style.display =\n",
              "        google.colab.kernel.accessAllowed ? 'block' : 'none';\n",
              "\n",
              "      async function convertToInteractive(key) {\n",
              "        const element = document.querySelector('#df-bcb7f097-8b7d-40c8-b5de-88c325576530');\n",
              "        const dataTable =\n",
              "          await google.colab.kernel.invokeFunction('convertToInteractive',\n",
              "                                                    [key], {});\n",
              "        if (!dataTable) return;\n",
              "\n",
              "        const docLinkHtml = 'Like what you see? Visit the ' +\n",
              "          '<a target=\"_blank\" href=https://colab.research.google.com/notebooks/data_table.ipynb>data table notebook</a>'\n",
              "          + ' to learn more about interactive tables.';\n",
              "        element.innerHTML = '';\n",
              "        dataTable['output_type'] = 'display_data';\n",
              "        await google.colab.output.renderOutput(dataTable, element);\n",
              "        const docLink = document.createElement('div');\n",
              "        docLink.innerHTML = docLinkHtml;\n",
              "        element.appendChild(docLink);\n",
              "      }\n",
              "    </script>\n",
              "  </div>\n",
              "\n",
              "\n",
              "<div id=\"df-4312ad29-6125-4411-bcea-1aae6ebe00ce\">\n",
              "  <button class=\"colab-df-quickchart\" onclick=\"quickchart('df-4312ad29-6125-4411-bcea-1aae6ebe00ce')\"\n",
              "            title=\"Suggest charts.\"\n",
              "            style=\"display:none;\">\n",
              "\n",
              "<svg xmlns=\"http://www.w3.org/2000/svg\" height=\"24px\"viewBox=\"0 0 24 24\"\n",
              "     width=\"24px\">\n",
              "    <g>\n",
              "        <path d=\"M19 3H5c-1.1 0-2 .9-2 2v14c0 1.1.9 2 2 2h14c1.1 0 2-.9 2-2V5c0-1.1-.9-2-2-2zM9 17H7v-7h2v7zm4 0h-2V7h2v10zm4 0h-2v-4h2v4z\"/>\n",
              "    </g>\n",
              "</svg>\n",
              "  </button>\n",
              "\n",
              "<style>\n",
              "  .colab-df-quickchart {\n",
              "      --bg-color: #E8F0FE;\n",
              "      --fill-color: #1967D2;\n",
              "      --hover-bg-color: #E2EBFA;\n",
              "      --hover-fill-color: #174EA6;\n",
              "      --disabled-fill-color: #AAA;\n",
              "      --disabled-bg-color: #DDD;\n",
              "  }\n",
              "\n",
              "  [theme=dark] .colab-df-quickchart {\n",
              "      --bg-color: #3B4455;\n",
              "      --fill-color: #D2E3FC;\n",
              "      --hover-bg-color: #434B5C;\n",
              "      --hover-fill-color: #FFFFFF;\n",
              "      --disabled-bg-color: #3B4455;\n",
              "      --disabled-fill-color: #666;\n",
              "  }\n",
              "\n",
              "  .colab-df-quickchart {\n",
              "    background-color: var(--bg-color);\n",
              "    border: none;\n",
              "    border-radius: 50%;\n",
              "    cursor: pointer;\n",
              "    display: none;\n",
              "    fill: var(--fill-color);\n",
              "    height: 32px;\n",
              "    padding: 0;\n",
              "    width: 32px;\n",
              "  }\n",
              "\n",
              "  .colab-df-quickchart:hover {\n",
              "    background-color: var(--hover-bg-color);\n",
              "    box-shadow: 0 1px 2px rgba(60, 64, 67, 0.3), 0 1px 3px 1px rgba(60, 64, 67, 0.15);\n",
              "    fill: var(--button-hover-fill-color);\n",
              "  }\n",
              "\n",
              "  .colab-df-quickchart-complete:disabled,\n",
              "  .colab-df-quickchart-complete:disabled:hover {\n",
              "    background-color: var(--disabled-bg-color);\n",
              "    fill: var(--disabled-fill-color);\n",
              "    box-shadow: none;\n",
              "  }\n",
              "\n",
              "  .colab-df-spinner {\n",
              "    border: 2px solid var(--fill-color);\n",
              "    border-color: transparent;\n",
              "    border-bottom-color: var(--fill-color);\n",
              "    animation:\n",
              "      spin 1s steps(1) infinite;\n",
              "  }\n",
              "\n",
              "  @keyframes spin {\n",
              "    0% {\n",
              "      border-color: transparent;\n",
              "      border-bottom-color: var(--fill-color);\n",
              "      border-left-color: var(--fill-color);\n",
              "    }\n",
              "    20% {\n",
              "      border-color: transparent;\n",
              "      border-left-color: var(--fill-color);\n",
              "      border-top-color: var(--fill-color);\n",
              "    }\n",
              "    30% {\n",
              "      border-color: transparent;\n",
              "      border-left-color: var(--fill-color);\n",
              "      border-top-color: var(--fill-color);\n",
              "      border-right-color: var(--fill-color);\n",
              "    }\n",
              "    40% {\n",
              "      border-color: transparent;\n",
              "      border-right-color: var(--fill-color);\n",
              "      border-top-color: var(--fill-color);\n",
              "    }\n",
              "    60% {\n",
              "      border-color: transparent;\n",
              "      border-right-color: var(--fill-color);\n",
              "    }\n",
              "    80% {\n",
              "      border-color: transparent;\n",
              "      border-right-color: var(--fill-color);\n",
              "      border-bottom-color: var(--fill-color);\n",
              "    }\n",
              "    90% {\n",
              "      border-color: transparent;\n",
              "      border-bottom-color: var(--fill-color);\n",
              "    }\n",
              "  }\n",
              "</style>\n",
              "\n",
              "  <script>\n",
              "    async function quickchart(key) {\n",
              "      const quickchartButtonEl =\n",
              "        document.querySelector('#' + key + ' button');\n",
              "      quickchartButtonEl.disabled = true;  // To prevent multiple clicks.\n",
              "      quickchartButtonEl.classList.add('colab-df-spinner');\n",
              "      try {\n",
              "        const charts = await google.colab.kernel.invokeFunction(\n",
              "            'suggestCharts', [key], {});\n",
              "      } catch (error) {\n",
              "        console.error('Error during call to suggestCharts:', error);\n",
              "      }\n",
              "      quickchartButtonEl.classList.remove('colab-df-spinner');\n",
              "      quickchartButtonEl.classList.add('colab-df-quickchart-complete');\n",
              "    }\n",
              "    (() => {\n",
              "      let quickchartButtonEl =\n",
              "        document.querySelector('#df-4312ad29-6125-4411-bcea-1aae6ebe00ce button');\n",
              "      quickchartButtonEl.style.display =\n",
              "        google.colab.kernel.accessAllowed ? 'block' : 'none';\n",
              "    })();\n",
              "  </script>\n",
              "</div>\n",
              "    </div>\n",
              "  </div>\n"
            ]
          },
          "metadata": {},
          "execution_count": 9
        }
      ]
    },
    {
      "cell_type": "markdown",
      "metadata": {
        "id": "dzr0TaCRIYwH"
      },
      "source": [
        "##Class Distribution"
      ]
    },
    {
      "cell_type": "code",
      "execution_count": null,
      "metadata": {
        "id": "zrSD-mfQIcBt"
      },
      "outputs": [],
      "source": [
        "\n",
        "import matplotlib.pyplot as plt\n",
        "\n",
        "def plot_class_distribution(y):\n",
        "  label_counts = y.value_counts()\n",
        "  plt.figure(figsize=(12, 6))\n",
        "  label_counts.plot(kind='bar')\n",
        "  plt.xlabel('Value')\n",
        "  plt.ylabel('Count')\n",
        "  plt.title('Class Distribution')\n",
        "  plt.xticks(rotation=45)\n",
        "  plt.show()"
      ]
    },
    {
      "cell_type": "code",
      "execution_count": null,
      "metadata": {
        "colab": {
          "base_uri": "https://localhost:8080/",
          "height": 573
        },
        "id": "vfMYTSgAJIYK",
        "outputId": "466af5b4-14f2-493d-ad44-eb2d7a0ddb28"
      },
      "outputs": [
        {
          "output_type": "display_data",
          "data": {
            "text/plain": [
              "<Figure size 1200x600 with 1 Axes>"
            ],
            "image/png": "[encoded data removed]"
          },
          "metadata": {}
        }
      ],
      "source": [
        "plot_class_distribution(y_label_1)"
      ]
    },
    {
      "cell_type": "markdown",
      "metadata": {
        "id": "Qfpi4hAAIfLy"
      },
      "source": [
        "`label 1` shows an even class distribition."
      ]
    },
    {
      "cell_type": "markdown",
      "metadata": {
        "id": "R3J3bo0dR3O5"
      },
      "source": [
        "##Feature Selection\n",
        "###Check for columns with low variance"
      ]
    },
    {
      "cell_type": "code",
      "execution_count": null,
      "metadata": {
        "id": "d0mDE-nDR7jl"
      },
      "outputs": [],
      "source": [
        "from sklearn.feature_selection import VarianceThreshold\n",
        "\n",
        "def variance_check(x: pd.DataFrame, variance: float) -> []:\n",
        "  try:\n",
        "    var_thres = VarianceThreshold(variance)\n",
        "    var_thres.fit(x)\n",
        "\n",
        "    const_columns = [column for column in x.columns\n",
        "                        if column not in x_label_1.columns[var_thres.get_support()]]\n",
        "\n",
        "    print(f\"The number of constant columns is {len(const_columns)}.\")\n",
        "    return const_columns\n",
        "\n",
        "  except ValueError:\n",
        "    print(f\"No feature exists with variance grater than {variance}.\")\n",
        "    return []"
      ]
    },
    {
      "cell_type": "code",
      "execution_count": null,
      "metadata": {
        "colab": {
          "base_uri": "https://localhost:8080/"
        },
        "id": "N25Tp2vBbk3t",
        "outputId": "b8f00d4e-2445-4a53-f14f-89ab6c7354fd"
      },
      "outputs": [
        {
          "output_type": "stream",
          "name": "stdout",
          "text": [
            "No feature exists with variance grater than 0.3.\n"
          ]
        }
      ],
      "source": [
        "const_columns_label_1 = variance_check(x_label_1, 0.3)"
      ]
    },
    {
      "cell_type": "code",
      "execution_count": null,
      "metadata": {
        "colab": {
          "base_uri": "https://localhost:8080/"
        },
        "id": "RCjW5HGkbpcU",
        "outputId": "fd0f9de4-7fb5-47e0-8559-a6f8897a0775"
      },
      "outputs": [
        {
          "output_type": "stream",
          "name": "stdout",
          "text": [
            "No feature exists with variance grater than 0.2.\n"
          ]
        }
      ],
      "source": [
        "const_columns_label_1 = variance_check(x_label_1, 0.2)"
      ]
    },
    {
      "cell_type": "code",
      "execution_count": null,
      "metadata": {
        "colab": {
          "base_uri": "https://localhost:8080/"
        },
        "id": "Y1D0ayQobsO7",
        "outputId": "08395fdd-5845-4a8f-c5b3-8f89ef6f56fc"
      },
      "outputs": [
        {
          "output_type": "stream",
          "name": "stdout",
          "text": [
            "No feature exists with variance grater than 0.13.\n"
          ]
        }
      ],
      "source": [
        "const_columns_label_1 = variance_check(x_label_1, 0.13)"
      ]
    },
    {
      "cell_type": "code",
      "execution_count": null,
      "metadata": {
        "colab": {
          "base_uri": "https://localhost:8080/"
        },
        "id": "prCr4-_tbvMM",
        "outputId": "a0b317a9-199e-4026-f467-df102c52b2c3"
      },
      "outputs": [
        {
          "output_type": "stream",
          "name": "stdout",
          "text": [
            "The number of constant columns is 767.\n"
          ]
        }
      ],
      "source": [
        "const_columns_label_1 = variance_check(x_label_1, 0.12)"
      ]
    },
    {
      "cell_type": "markdown",
      "metadata": {
        "id": "3lZWRTJLd35S"
      },
      "source": [
        "Almost all columns have lower variance than 0.13. Therefore, I could not take any feature selection decision based on the variance."
      ]
    },
    {
      "cell_type": "markdown",
      "metadata": {
        "id": "sA2SzX3IWBy-"
      },
      "source": [
        "###Check for correlation between features"
      ]
    },
    {
      "cell_type": "code",
      "execution_count": null,
      "metadata": {
        "id": "kH_ZmZnBWHwr"
      },
      "outputs": [],
      "source": [
        "def correlation_check(x: pd.DataFrame, threshold: float) -> set:\n",
        "  correlated_features = set()\n",
        "  correlation_matrix = x.corr()\n",
        "  for i in range(len(x.columns)):\n",
        "      for j in range(i):\n",
        "          if abs(correlation_matrix.iloc[i, j]) > threshold:\n",
        "              colname = correlation_matrix.columns[i]\n",
        "              correlated_features.add(colname)\n",
        "  return correlated_features"
      ]
    },
    {
      "cell_type": "code",
      "execution_count": null,
      "metadata": {
        "colab": {
          "base_uri": "https://localhost:8080/"
        },
        "id": "wNP3tvingDHV",
        "outputId": "ad9a156d-5a83-4d44-f6b0-6565e70f26c4"
      },
      "outputs": [
        {
          "output_type": "stream",
          "name": "stdout",
          "text": [
            "8\n"
          ]
        }
      ],
      "source": [
        "corr = correlation_check(x_label_1, 0.95)\n",
        "print(len(corr))"
      ]
    },
    {
      "cell_type": "code",
      "execution_count": null,
      "metadata": {
        "colab": {
          "base_uri": "https://localhost:8080/"
        },
        "id": "aW7tAGy8g0SS",
        "outputId": "7bc773a1-5583-4002-e78c-2440d5ac795c"
      },
      "outputs": [
        {
          "output_type": "stream",
          "name": "stdout",
          "text": [
            "70\n"
          ]
        }
      ],
      "source": [
        "corr = correlation_check(x_label_1, 0.9)\n",
        "print(len(corr))"
      ]
    },
    {
      "cell_type": "markdown",
      "metadata": {
        "id": "JbCwvEdchJzx"
      },
      "source": [
        "There are 70 features with correlation value greater than 0.9. Dropping those columns."
      ]
    },
    {
      "cell_type": "code",
      "execution_count": null,
      "metadata": {
        "colab": {
          "base_uri": "https://localhost:8080/"
        },
        "id": "jSkt6_3xhWnr",
        "outputId": "cec4d229-970b-41e4-dba6-b51c7aaf2df6"
      },
      "outputs": [
        {
          "output_type": "execute_result",
          "data": {
            "text/plain": [
              "{'feature_126',\n",
              " 'feature_148',\n",
              " 'feature_158',\n",
              " 'feature_168',\n",
              " 'feature_178',\n",
              " 'feature_199',\n",
              " 'feature_210',\n",
              " 'feature_24',\n",
              " 'feature_244',\n",
              " 'feature_247',\n",
              " 'feature_253',\n",
              " 'feature_265',\n",
              " 'feature_272',\n",
              " 'feature_281',\n",
              " 'feature_282',\n",
              " 'feature_311',\n",
              " 'feature_312',\n",
              " 'feature_327',\n",
              " 'feature_357',\n",
              " 'feature_363',\n",
              " 'feature_364',\n",
              " 'feature_366',\n",
              " 'feature_371',\n",
              " 'feature_373',\n",
              " 'feature_394',\n",
              " 'feature_396',\n",
              " 'feature_399',\n",
              " 'feature_408',\n",
              " 'feature_410',\n",
              " 'feature_419',\n",
              " 'feature_420',\n",
              " 'feature_421',\n",
              " 'feature_422',\n",
              " 'feature_424',\n",
              " 'feature_427',\n",
              " 'feature_436',\n",
              " 'feature_450',\n",
              " 'feature_461',\n",
              " 'feature_480',\n",
              " 'feature_481',\n",
              " 'feature_49',\n",
              " 'feature_493',\n",
              " 'feature_503',\n",
              " 'feature_530',\n",
              " 'feature_539',\n",
              " 'feature_548',\n",
              " 'feature_569',\n",
              " 'feature_571',\n",
              " 'feature_572',\n",
              " 'feature_575',\n",
              " 'feature_581',\n",
              " 'feature_603',\n",
              " 'feature_610',\n",
              " 'feature_615',\n",
              " 'feature_617',\n",
              " 'feature_638',\n",
              " 'feature_639',\n",
              " 'feature_673',\n",
              " 'feature_695',\n",
              " 'feature_699',\n",
              " 'feature_703',\n",
              " 'feature_710',\n",
              " 'feature_713',\n",
              " 'feature_718',\n",
              " 'feature_722',\n",
              " 'feature_725',\n",
              " 'feature_741',\n",
              " 'feature_745',\n",
              " 'feature_88',\n",
              " 'feature_9'}"
            ]
          },
          "metadata": {},
          "execution_count": 72
        }
      ],
      "source": [
        "corr"
      ]
    },
    {
      "cell_type": "code",
      "execution_count": null,
      "metadata": {
        "id": "U8d59DudhZFc"
      },
      "outputs": [],
      "source": [
        "x_label_1 = x_label_1.drop(corr, axis = 1)"
      ]
    },
    {
      "cell_type": "code",
      "execution_count": null,
      "metadata": {
        "id": "m7F317X-inPs"
      },
      "outputs": [],
      "source": [
        "x_valid_label_1 = x_valid_label_1.drop(corr, axis = 1)"
      ]
    },
    {
      "cell_type": "code",
      "source": [
        "x_test_label_1 = x_test_label_1.drop(corr, axis = 1)"
      ],
      "metadata": {
        "id": "TW-UKgF6ognn"
      },
      "execution_count": null,
      "outputs": []
    },
    {
      "cell_type": "markdown",
      "metadata": {
        "id": "CKTFQVnZIynY"
      },
      "source": [
        "###Mutual Information Classification"
      ]
    },
    {
      "cell_type": "code",
      "execution_count": null,
      "metadata": {
        "id": "BjZdK7WEI39g"
      },
      "outputs": [],
      "source": [
        "from sklearn.feature_selection import mutual_info_classif\n",
        "\n",
        "def plot_mi(x: pd.DataFrame, y: pd.DataFrame) -> pd.Series:\n",
        "  mi = pd.Series(mutual_info_classif(x, y))\n",
        "  mi = mi.sort_values(ascending=False)\n",
        "  mi.plot.bar(figsize=(32, 12))\n",
        "  return mi"
      ]
    },
    {
      "cell_type": "code",
      "source": [
        "def feature_selection_mi(mi: pd.Series, x: pd.DataFrame, threshold: float) -> pd.DataFrame:\n",
        "  selected_features = mi[mi > threshold]\n",
        "  print (f\"Selected {selected_features.count()} features out of {len(mi)} features.\")\n",
        "  selected_cols = x.columns[selected_features.index]\n",
        "  print(selected_cols)\n",
        "  return selected_cols"
      ],
      "metadata": {
        "id": "cw8JI9zUq2zH"
      },
      "execution_count": null,
      "outputs": []
    },
    {
      "cell_type": "code",
      "execution_count": null,
      "metadata": {
        "colab": {
          "base_uri": "https://localhost:8080/",
          "height": 709
        },
        "id": "iGB30elFLTuA",
        "outputId": "ba5d408e-20a3-4c78-b45c-b55b6bb0863f"
      },
      "outputs": [
        {
          "output_type": "display_data",
          "data": {
            "text/plain": [
              "<Figure size 3200x1200 with 1 Axes>"
            ],
            "image/png": "[encoded data removed]"
          },
          "metadata": {}
        }
      ],
      "source": [
        "mi_label_1 = plot_mi(x_label_1, y_label_1)"
      ]
    },
    {
      "cell_type": "markdown",
      "metadata": {
        "id": "iJFdHum5Mu34"
      },
      "source": [
        "From the shape of the graph, I could not decide a threshold to drop. Therefore, feature selection based on mutual information was not used"
      ]
    },
    {
      "cell_type": "markdown",
      "source": [
        "##Principal Component Analysis"
      ],
      "metadata": {
        "id": "LFtsGd2xr1hP"
      }
    },
    {
      "cell_type": "code",
      "source": [
        "from sklearn.decomposition import PCA\n",
        "\n",
        "pca = PCA(n_components = 0.95, svd_solver = 'full')\n",
        "pca.fit(x_label_1)\n",
        "x_label_1_selected = pd.DataFrame(pca.transform(x_label_1))\n",
        "x_valid_label_1_selected = pd.DataFrame(pca.transform(x_valid_label_1))\n",
        "x_test_label_1_selected = pd.DataFrame(pca.transform(x_test_label_1))\n",
        "x_label_1_selected.shape"
      ],
      "metadata": {
        "colab": {
          "base_uri": "https://localhost:8080/"
        },
        "id": "WuryosXZr4Yo",
        "outputId": "7d1404ca-7d20-4b95-f4eb-0b2acbcb4bf5"
      },
      "execution_count": null,
      "outputs": [
        {
          "output_type": "execute_result",
          "data": {
            "text/plain": [
              "(28520, 116)"
            ]
          },
          "metadata": {},
          "execution_count": 34
        }
      ]
    },
    {
      "cell_type": "markdown",
      "metadata": {
        "id": "JMAgAFaTQflb"
      },
      "source": [
        "##Modelling\n",
        "\n",
        "###Model Evaluation"
      ]
    },
    {
      "cell_type": "code",
      "execution_count": null,
      "metadata": {
        "id": "Nxb-fVhfQlGQ"
      },
      "outputs": [],
      "source": [
        "from sklearn.metrics import confusion_matrix, classification_report, accuracy_score, f1_score\n",
        "import numpy as np\n",
        "\n",
        "def eval_model(y_actual: pd.DataFrame, y_predicted: pd.DataFrame, print_metrics = False) -> float:\n",
        "  accuracy = accuracy_score(y_true = y_actual, y_pred = y_predicted)\n",
        "  f_score = f1_score(y_true = y_actual, y_pred = y_predicted, average = 'weighted')\n",
        "\n",
        "  print(f\"Accuracy:      {accuracy:.4f}\")\n",
        "  print(f\"F1 Score:      {f_score:.4f}\")\n",
        "\n",
        "  return f_score"
      ]
    },
    {
      "cell_type": "code",
      "source": [
        "from sklearn.model_selection import cross_val_score"
      ],
      "metadata": {
        "id": "d80LKygmFA_4"
      },
      "execution_count": null,
      "outputs": []
    },
    {
      "cell_type": "code",
      "source": [
        "def scorer(estimator: any, X: pd.DataFrame, y: pd.DataFrame):\n",
        "  y_pred = estimator.predict(X)\n",
        "  f1_score = eval_model(y, y_pred)\n",
        "  return f1_score"
      ],
      "metadata": {
        "id": "TMQ-q38RFm8u"
      },
      "execution_count": null,
      "outputs": []
    },
    {
      "cell_type": "code",
      "source": [
        "label_1_scores = []"
      ],
      "metadata": {
        "id": "aM27IyV3G4ky"
      },
      "execution_count": null,
      "outputs": []
    },
    {
      "cell_type": "markdown",
      "metadata": {
        "id": "EN7mX2PG76hy"
      },
      "source": [
        "###KNN Model"
      ]
    },
    {
      "cell_type": "code",
      "execution_count": null,
      "metadata": {
        "id": "jgU21qlt75_8"
      },
      "outputs": [],
      "source": [
        "from sklearn.neighbors import KNeighborsClassifier\n",
        "\n",
        "def knn_model(x_train: pd.DataFrame, y_train: pd.DataFrame, x_valid: pd.DataFrame, y_valid: pd.DataFrame, k: int):\n",
        "  knn = KNeighborsClassifier(n_neighbors = k)\n",
        "  f_score = cross_val_score(knn, x_train, y_train, cv = 5, scoring = scorer)\n",
        "  knn.fit(x_train, y_train)\n",
        "  y_pred = knn.predict(x_valid)\n",
        "  print(\"\\nValidation:\")\n",
        "  eval_model(y_valid, y_pred, True)\n",
        "  return [knn, f_score]"
      ]
    },
    {
      "cell_type": "code",
      "execution_count": null,
      "metadata": {
        "colab": {
          "base_uri": "https://localhost:8080/"
        },
        "id": "A-NAL8Fy9Nkt",
        "outputId": "353e7115-f4bb-4f71-bae7-d0e1cf2066b6"
      },
      "outputs": [
        {
          "output_type": "stream",
          "name": "stdout",
          "text": [
            "Accuracy:      0.7207\n",
            "F1 Score:      0.7212\n",
            "Accuracy:      0.7107\n",
            "F1 Score:      0.7121\n",
            "Accuracy:      0.7184\n",
            "F1 Score:      0.7181\n",
            "Accuracy:      0.7130\n",
            "F1 Score:      0.7127\n",
            "Accuracy:      0.7179\n",
            "F1 Score:      0.7184\n",
            "\n",
            "Validation:\n",
            "Accuracy:      0.2507\n",
            "F1 Score:      0.2623\n",
            "\n",
            "Average F1 score of KNN cross validation: 0.7164990608827582.\n"
          ]
        }
      ],
      "source": [
        "knn_label_1, f_score_knn_label_1 = knn_model(x_label_1_selected, y_label_1, x_valid_label_1_selected, y_valid_label_1, 13)\n",
        "avg_f1_score_knn_label_1 = f_score_knn_label_1.mean()\n",
        "print(f\"\\nAverage F1 score of KNN cross validation: {avg_f1_score_knn_label_1}.\")\n",
        "label_1_scores.append([knn_label_1, \"KNN\", avg_f1_score_knn_label_1])"
      ]
    },
    {
      "cell_type": "markdown",
      "metadata": {
        "id": "91LKqPQf-HOT"
      },
      "source": [
        "###Random Forest Model"
      ]
    },
    {
      "cell_type": "code",
      "execution_count": null,
      "metadata": {
        "id": "HDOW2PL_-QgW"
      },
      "outputs": [],
      "source": [
        "from sklearn.ensemble import RandomForestClassifier\n",
        "\n",
        "def rf_model(x_train: pd.DataFrame, y_train: pd.DataFrame, x_valid: pd.DataFrame, y_valid: pd.DataFrame, n_estimators: int, random_state: int):\n",
        "  rf = RandomForestClassifier(n_estimators = n_estimators, random_state = random_state)\n",
        "  f_score = cross_val_score(rf, x_train, y_train, cv = 5, scoring = scorer)\n",
        "  rf.fit(x_train, y_train)\n",
        "  y_pred = rf.predict(x_valid)\n",
        "  print(\"\\nValidation:\")\n",
        "  eval_model(y_valid, y_pred, True)\n",
        "  return [rf, f_score]"
      ]
    },
    {
      "cell_type": "code",
      "execution_count": null,
      "metadata": {
        "colab": {
          "base_uri": "https://localhost:8080/"
        },
        "id": "OIy2-0TP--N8",
        "outputId": "ab93881c-3731-4aef-afec-0490d4c0d5fa"
      },
      "outputs": [
        {
          "output_type": "stream",
          "name": "stdout",
          "text": [
            "Accuracy:      0.7891\n",
            "F1 Score:      0.7877\n",
            "Accuracy:      0.7747\n",
            "F1 Score:      0.7735\n",
            "Accuracy:      0.7845\n",
            "F1 Score:      0.7827\n",
            "Accuracy:      0.7744\n",
            "F1 Score:      0.7721\n",
            "Accuracy:      0.7842\n",
            "F1 Score:      0.7828\n",
            "\n",
            "Validation:\n",
            "Accuracy:      0.0947\n",
            "F1 Score:      0.0875\n",
            "\n",
            "Average F1 score of RF cross validation: 0.7797581229685739.\n"
          ]
        }
      ],
      "source": [
        "rf_label_1, f_score_rf_label_1 = rf_model(x_label_1_selected, y_label_1, x_valid_label_1_selected, y_valid_label_1, 100, 42)\n",
        "avg_f1_score_rf_label_1 = f_score_rf_label_1.mean()\n",
        "print(f\"\\nAverage F1 score of RF cross validation: {avg_f1_score_rf_label_1}.\")\n",
        "label_1_scores.append([rf_label_1, \"Random Forest\", avg_f1_score_rf_label_1])"
      ]
    },
    {
      "cell_type": "markdown",
      "metadata": {
        "id": "pR0kvQJA_fZW"
      },
      "source": [
        "###XG Boost Model"
      ]
    },
    {
      "cell_type": "code",
      "execution_count": null,
      "metadata": {
        "id": "IiNhD7xo_mav"
      },
      "outputs": [],
      "source": [
        "import xgboost as xgb\n",
        "import torch\n",
        "\n",
        "def xgb_model_gpu(x_train, y_train, x_valid, y_valid, n_estimators, random_state):\n",
        "  xgb_gpu = None\n",
        "  if (torch.cuda.is_available()):\n",
        "    xgb_gpu = xgb.XGBClassifier(\n",
        "        n_estimators = n_estimators,\n",
        "        random_state = random_state,\n",
        "        tree_method = 'gpu_hist',\n",
        "        gpu_id = 0,\n",
        "    )\n",
        "  else:\n",
        "    xgb_gpu = xgb.XGBClassifier(n_estimators = n_estimators, random_state = random_state)\n",
        "\n",
        "  f_score = cross_val_score(xgb_gpu, x_train, y_train, cv = 5, scoring = scorer)\n",
        "  xgb_gpu.fit(x_train, y_train)\n",
        "  y_pred = xgb_gpu.predict(x_valid)\n",
        "  print(\"\\nValidation:\")\n",
        "  eval_model(y_valid, y_pred, True)\n",
        "\n",
        "  return [xgb_gpu, f_score]"
      ]
    },
    {
      "cell_type": "code",
      "source": [
        "from sklearn.preprocessing import LabelEncoder\n",
        "\n",
        "label_1_encoder = LabelEncoder()\n",
        "y_label_1_encoded = label_1_encoder.fit_transform(y_label_1.copy(deep = True))\n",
        "y_valid_label_1_encoded = label_1_encoder.transform(y_valid_label_1.copy(deep = True))"
      ],
      "metadata": {
        "id": "fxQFNha8jeHn"
      },
      "execution_count": null,
      "outputs": []
    },
    {
      "cell_type": "code",
      "execution_count": null,
      "metadata": {
        "id": "Gh9wgEYLAZ57",
        "colab": {
          "base_uri": "https://localhost:8080/"
        },
        "outputId": "c49b20f5-9149-405f-fc8d-a5b05ad9c3b5"
      },
      "outputs": [
        {
          "output_type": "stream",
          "name": "stdout",
          "text": [
            "Accuracy:      0.7765\n",
            "F1 Score:      0.7767\n",
            "Accuracy:      0.7754\n",
            "F1 Score:      0.7752\n",
            "Accuracy:      0.7688\n",
            "F1 Score:      0.7691\n",
            "Accuracy:      0.7695\n",
            "F1 Score:      0.7691\n",
            "Accuracy:      0.7603\n",
            "F1 Score:      0.7600\n",
            "\n",
            "Validation:\n",
            "Accuracy:      0.0760\n",
            "F1 Score:      0.0745\n",
            "Average F1 score of XGB cross validation: 0.7700140786204555.\n"
          ]
        }
      ],
      "source": [
        "xgb_label_1, f_score_xgb_label_1 = xgb_model_gpu(x_label_1_selected, y_label_1_encoded, x_valid_label_1_selected, y_valid_label_1_encoded, 50, 42)\n",
        "avg_f1_score_xgb_label_1 = f_score_xgb_label_1.mean()\n",
        "print(f\"Average F1 score of XGB cross validation: {avg_f1_score_xgb_label_1}.\")\n",
        "label_1_scores.append([xgb_label_1, \"XGBoost\", avg_f1_score_xgb_label_1])"
      ]
    },
    {
      "cell_type": "markdown",
      "metadata": {
        "id": "Xul8w7rHEqUW"
      },
      "source": [
        "###Support Vector Machine Model"
      ]
    },
    {
      "cell_type": "code",
      "execution_count": null,
      "metadata": {
        "id": "9Og46hiBDVew"
      },
      "outputs": [],
      "source": [
        "from sklearn.svm import SVC\n",
        "\n",
        "def svm_model(x_train: pd.DataFrame, y_train: pd.DataFrame, x_valid: pd.DataFrame, y_valid: pd.DataFrame, kernel: str):\n",
        "  svm = SVC(kernel = kernel)\n",
        "  f_score = cross_val_score(svm, x_train, y_train, cv = 5, scoring = scorer)\n",
        "  svm.fit(x_train, y_train)\n",
        "  y_pred = svm.predict(x_valid)\n",
        "  print(\"\\nValidation:\")\n",
        "  eval_model(y_valid, y_pred, True)\n",
        "  return [svm, f_score]"
      ]
    },
    {
      "cell_type": "code",
      "execution_count": null,
      "metadata": {
        "id": "yav_oSatEpXZ",
        "colab": {
          "base_uri": "https://localhost:8080/"
        },
        "outputId": "45a568bf-1f42-4502-c949-66da533a11ce"
      },
      "outputs": [
        {
          "output_type": "stream",
          "name": "stdout",
          "text": [
            "Linear\n",
            "Accuracy:      0.8156\n",
            "F1 Score:      0.8176\n",
            "Accuracy:      0.8177\n",
            "F1 Score:      0.8183\n",
            "Accuracy:      0.8073\n",
            "F1 Score:      0.8087\n",
            "Accuracy:      0.8096\n",
            "F1 Score:      0.8101\n",
            "Accuracy:      0.8131\n",
            "F1 Score:      0.8146\n",
            "\n",
            "Validation:\n",
            "Accuracy:      0.1800\n",
            "F1 Score:      0.1738\n",
            "\n",
            "Average F1 score of SVM Linear cross validation: 0.813848062980524.\n",
            "\n",
            "Rbf\n",
            "Accuracy:      0.8468\n",
            "F1 Score:      0.8488\n",
            "Accuracy:      0.8510\n",
            "F1 Score:      0.8522\n",
            "Accuracy:      0.8447\n",
            "F1 Score:      0.8459\n",
            "Accuracy:      0.8410\n",
            "F1 Score:      0.8416\n",
            "Accuracy:      0.8492\n",
            "F1 Score:      0.8509\n",
            "\n",
            "Validation:\n",
            "Accuracy:      0.0133\n",
            "F1 Score:      0.0004\n",
            "\n",
            "Average F1 score of SVM Rbf cross validation: 0.8478566540004813.\n",
            "\n",
            "Poly\n",
            "Accuracy:      0.5419\n",
            "F1 Score:      0.5914\n",
            "Accuracy:      0.5288\n",
            "F1 Score:      0.5784\n",
            "Accuracy:      0.5337\n",
            "F1 Score:      0.5786\n",
            "Accuracy:      0.5412\n",
            "F1 Score:      0.5869\n",
            "Accuracy:      0.5256\n",
            "F1 Score:      0.5782\n",
            "\n",
            "Validation:\n",
            "Accuracy:      0.1960\n",
            "F1 Score:      0.1656\n",
            "\n",
            "Average F1 score of SVM Poly cross validation: 0.5826910945396502.\n"
          ]
        }
      ],
      "source": [
        "kernels = [\"linear\", \"rbf\", \"poly\"]\n",
        "\n",
        "for i in range(3):\n",
        "  kernel = kernels[i]\n",
        "  Kernel = kernel.capitalize()\n",
        "  print(Kernel)\n",
        "  svm, f_sc = svm_model(x_label_1_selected, y_label_1, x_valid_label_1_selected, y_valid_label_1, kernel)\n",
        "  avg_f_sc = f_sc.mean()\n",
        "  print(f\"\\nAverage F1 score of SVM {Kernel} cross validation: {avg_f_sc}.\")\n",
        "  label_1_scores.append([svm, f\"SVM {Kernel}\", avg_f_sc])\n",
        "  if (i!= 2): print()"
      ]
    },
    {
      "cell_type": "markdown",
      "source": [
        "###Final Model"
      ],
      "metadata": {
        "id": "T-L7EjTqPg31"
      }
    },
    {
      "cell_type": "code",
      "execution_count": null,
      "metadata": {
        "id": "IxCtP-F5iIdp",
        "colab": {
          "base_uri": "https://localhost:8080/"
        },
        "outputId": "d23dea60-453e-4853-c757-3d579a11d783"
      },
      "outputs": [
        {
          "output_type": "stream",
          "name": "stdout",
          "text": [
            "['KNN', 0.7164990608827582]\n",
            "['Random Forest', 0.7797581229685739]\n",
            "['XGBoost', 0.7700140786204555]\n",
            "['KNN', 0.7164990608827582]\n",
            "['XGBoost', 0.7700140786204555]\n",
            "['SVM Linear', 0.813848062980524]\n",
            "['SVM Rbf', 0.8478566540004813]\n",
            "['SVM Poly', 0.5826910945396502]\n"
          ]
        }
      ],
      "source": [
        "for score in label_1_scores:\n",
        "  print(score[1:])"
      ]
    },
    {
      "cell_type": "code",
      "source": [
        "def get_best_model(scores):\n",
        "  max_index = 0\n",
        "  for i in range(len(scores)):\n",
        "    if scores[i][2] > scores[max_index][2]:\n",
        "      max_index = i\n",
        "  return scores[max_index]"
      ],
      "metadata": {
        "id": "Ehkhnll5kp4q"
      },
      "execution_count": null,
      "outputs": []
    },
    {
      "cell_type": "code",
      "source": [
        "final_model_label_1, final_model_label_1_name, final_model_label_1_f1_score = get_best_model(label_1_scores)\n",
        "print(f\"Selected {final_model_label_1_name} with cross validation score of {final_model_label_1_f1_score}.\")"
      ],
      "metadata": {
        "id": "VL1qSDvBpfJd",
        "colab": {
          "base_uri": "https://localhost:8080/"
        },
        "outputId": "1d8a596a-346f-47cd-b63c-dc860091031b"
      },
      "execution_count": null,
      "outputs": [
        {
          "output_type": "stream",
          "name": "stdout",
          "text": [
            "Selected SVM Rbf with cross validation score of 0.8478566540004813.\n"
          ]
        }
      ]
    },
    {
      "cell_type": "markdown",
      "source": [],
      "metadata": {
        "id": "vfMeGPNp67jT"
      }
    },
    {
      "cell_type": "markdown",
      "source": [
        "##Tuning\n",
        "\n",
        "###Hyper Paramer Tuning\n",
        "\n",
        "Since the accuracy score is not enough, using hyper parameter tuning.\n",
        "Split the training set into two sets for training and validation."
      ],
      "metadata": {
        "id": "ldjQouhJ6zUo"
      }
    },
    {
      "cell_type": "code",
      "source": [
        "from sklearn.model_selection import RandomizedSearchCV\n",
        "\n",
        "param_dist_label_1 = {\n",
        "    'C': np.logspace(-3, 3, 7),\n",
        "    'gamma': np.logspace(-3, 3, 7)\n",
        "}\n",
        "\n",
        "svm_rbf_label_1 = SVC(kernel='rbf', random_state=42)\n",
        "random_search_label_1 = RandomizedSearchCV(\n",
        "    svm_rbf_label_1, param_distributions=param_dist_label_1, n_iter=3, cv=3, scoring=scorer, random_state=42, n_jobs=10)\n",
        "random_search_label_1.fit(x_label_1_selected, y_label_1)\n",
        "\n",
        "best_params_random_label_1 = random_search_label_1.best_params_\n",
        "best_score_random_label_1 = random_search_label_1.best_score_\n",
        "print(\"Best Hyperparameters (Random Search):\", best_params_random_label_1)\n",
        "print(\"Best Accuracy (Random Search):\", best_score_random_label_1)"
      ],
      "metadata": {
        "colab": {
          "base_uri": "https://localhost:8080/"
        },
        "id": "1W067i-m85oT",
        "outputId": "f756e9e6-6947-4ed0-a55d-a210adaf9f6e"
      },
      "execution_count": null,
      "outputs": [
        {
          "output_type": "stream",
          "name": "stdout",
          "text": [
            "Best Hyperparameters (Random Search): {'gamma': 1.0, 'C': 1000.0}\n",
            "Best Accuracy (Random Search): 0.8980091753792595\n"
          ]
        }
      ]
    },
    {
      "cell_type": "code",
      "source": [
        "from sklearn.model_selection import GridSearchCV\n",
        "\n",
        "param_grid = {\n",
        "    'C': [980.0, 990.0, 1000.0, 1010.0, 1020.0],\n",
        "    'gamma': [0.5, 0.8, 1.0, 2.2, 1.3]\n",
        "}\n",
        "\n",
        "random_search_label_1_2 = RandomizedSearchCV(\n",
        "    svm_rbf_label_1, param_distributions=param_dist_label_1, n_iter=3, cv=3, scoring=scorer, random_state=42, n_jobs=10)\n",
        "random_search_label_1_2.fit(x_label_1_selected, y_label_1)\n",
        "\n",
        "best_params_random_label_1_2 = random_search_label_1_2.best_params_\n",
        "best_score_random_label_1_2 = random_search_label_1_2.best_score_\n",
        "print(\"Best Hyperparameters (Random Search):\", best_params_random_label_1_2)\n",
        "print(\"Best Accuracy (Random Search):\", best_score_random_label_1_2)"
      ],
      "metadata": {
        "id": "SQFieXDlDqtg",
        "colab": {
          "base_uri": "https://localhost:8080/"
        },
        "outputId": "d5edc3e3-f6d6-4734-9e5e-20de32ef1dc5"
      },
      "execution_count": null,
      "outputs": [
        {
          "output_type": "stream",
          "name": "stdout",
          "text": [
            "Best Hyperparameters (Random Search): {'gamma': 1.0, 'C': 1000.0}\n",
            "Best Accuracy (Random Search): 0.8980091753792595\n"
          ]
        }
      ]
    },
    {
      "cell_type": "markdown",
      "source": [
        "Selecting `C` and `gamma` hyperparameters as 1.0 and 1000.0 respectively."
      ],
      "metadata": {
        "id": "U-sec83idUPO"
      }
    },
    {
      "cell_type": "code",
      "source": [
        "best_svm_model_label_1 = SVC(kernel='rbf', C=best_params_random_label_1_2['C'], gamma=best_params_random_label_1_2['gamma'], random_state=42)\n",
        "best_svm_model_label_1.fit(x_label_1_selected, y_label_1)"
      ],
      "metadata": {
        "colab": {
          "base_uri": "https://localhost:8080/",
          "height": 75
        },
        "id": "JaN4HZpQdfqO",
        "outputId": "3775da9e-bf94-47a1-be13-fb628398b8fc"
      },
      "execution_count": null,
      "outputs": [
        {
          "output_type": "execute_result",
          "data": {
            "text/plain": [
              "SVC(C=1000.0, gamma=1.0, random_state=42)"
            ],
            "text/html": [
              "<style>#sk-container-id-1 {color: black;background-color: white;}#sk-container-id-1 pre{padding: 0;}#sk-container-id-1 div.sk-toggleable {background-color: white;}#sk-container-id-1 label.sk-toggleable__label {cursor: pointer;display: block;width: 100%;margin-bottom: 0;padding: 0.3em;box-sizing: border-box;text-align: center;}#sk-container-id-1 label.sk-toggleable__label-arrow:before {content: \"▸\";float: left;margin-right: 0.25em;color: #696969;}#sk-container-id-1 label.sk-toggleable__label-arrow:hover:before {color: black;}#sk-container-id-1 div.sk-estimator:hover label.sk-toggleable__label-arrow:before {color: black;}#sk-container-id-1 div.sk-toggleable__content {max-height: 0;max-width: 0;overflow: hidden;text-align: left;background-color: #f0f8ff;}#sk-container-id-1 div.sk-toggleable__content pre {margin: 0.2em;color: black;border-radius: 0.25em;background-color: #f0f8ff;}#sk-container-id-1 input.sk-toggleable__control:checked~div.sk-toggleable__content {max-height: 200px;max-width: 100%;overflow: auto;}#sk-container-id-1 input.sk-toggleable__control:checked~label.sk-toggleable__label-arrow:before {content: \"▾\";}#sk-container-id-1 div.sk-estimator input.sk-toggleable__control:checked~label.sk-toggleable__label {background-color: #d4ebff;}#sk-container-id-1 div.sk-label input.sk-toggleable__control:checked~label.sk-toggleable__label {background-color: #d4ebff;}#sk-container-id-1 input.sk-hidden--visually {border: 0;clip: rect(1px 1px 1px 1px);clip: rect(1px, 1px, 1px, 1px);height: 1px;margin: -1px;overflow: hidden;padding: 0;position: absolute;width: 1px;}#sk-container-id-1 div.sk-estimator {font-family: monospace;background-color: #f0f8ff;border: 1px dotted black;border-radius: 0.25em;box-sizing: border-box;margin-bottom: 0.5em;}#sk-container-id-1 div.sk-estimator:hover {background-color: #d4ebff;}#sk-container-id-1 div.sk-parallel-item::after {content: \"\";width: 100%;border-bottom: 1px solid gray;flex-grow: 1;}#sk-container-id-1 div.sk-label:hover label.sk-toggleable__label {background-color: #d4ebff;}#sk-container-id-1 div.sk-serial::before {content: \"\";position: absolute;border-left: 1px solid gray;box-sizing: border-box;top: 0;bottom: 0;left: 50%;z-index: 0;}#sk-container-id-1 div.sk-serial {display: flex;flex-direction: column;align-items: center;background-color: white;padding-right: 0.2em;padding-left: 0.2em;position: relative;}#sk-container-id-1 div.sk-item {position: relative;z-index: 1;}#sk-container-id-1 div.sk-parallel {display: flex;align-items: stretch;justify-content: center;background-color: white;position: relative;}#sk-container-id-1 div.sk-item::before, #sk-container-id-1 div.sk-parallel-item::before {content: \"\";position: absolute;border-left: 1px solid gray;box-sizing: border-box;top: 0;bottom: 0;left: 50%;z-index: -1;}#sk-container-id-1 div.sk-parallel-item {display: flex;flex-direction: column;z-index: 1;position: relative;background-color: white;}#sk-container-id-1 div.sk-parallel-item:first-child::after {align-self: flex-end;width: 50%;}#sk-container-id-1 div.sk-parallel-item:last-child::after {align-self: flex-start;width: 50%;}#sk-container-id-1 div.sk-parallel-item:only-child::after {width: 0;}#sk-container-id-1 div.sk-dashed-wrapped {border: 1px dashed gray;margin: 0 0.4em 0.5em 0.4em;box-sizing: border-box;padding-bottom: 0.4em;background-color: white;}#sk-container-id-1 div.sk-label label {font-family: monospace;font-weight: bold;display: inline-block;line-height: 1.2em;}#sk-container-id-1 div.sk-label-container {text-align: center;}#sk-container-id-1 div.sk-container {/* jupyter's `normalize.less` sets `[hidden] { display: none; }` but bootstrap.min.css set `[hidden] { display: none !important; }` so we also need the `!important` here to be able to override the default hidden behavior on the sphinx rendered scikit-learn.org. See: https://github.com/scikit-learn/scikit-learn/issues/21755 */display: inline-block !important;position: relative;}#sk-container-id-1 div.sk-text-repr-fallback {display: none;}</style><div id=\"sk-container-id-1\" class=\"sk-top-container\"><div class=\"sk-text-repr-fallback\"><pre>SVC(C=1000.0, gamma=1.0, random_state=42)</pre><b>In a Jupyter environment, please rerun this cell to show the HTML representation or trust the notebook. <br />On GitHub, the HTML representation is unable to render, please try loading this page with nbviewer.org.</b></div><div class=\"sk-container\" hidden><div class=\"sk-item\"><div class=\"sk-estimator sk-toggleable\"><input class=\"sk-toggleable__control sk-hidden--visually\" id=\"sk-estimator-id-1\" type=\"checkbox\" checked><label for=\"sk-estimator-id-1\" class=\"sk-toggleable__label sk-toggleable__label-arrow\">SVC</label><div class=\"sk-toggleable__content\"><pre>SVC(C=1000.0, gamma=1.0, random_state=42)</pre></div></div></div></div></div>"
            ]
          },
          "metadata": {},
          "execution_count": 124
        }
      ]
    },
    {
      "cell_type": "code",
      "source": [
        "y_valid_pred_label_1 = best_svm_model_label_1.predict(x_valid_label_1_selected)\n",
        "eval_model(y_valid_label_1, y_valid_pred_label_1)"
      ],
      "metadata": {
        "colab": {
          "base_uri": "https://localhost:8080/"
        },
        "id": "Sz2kghdRd2q8",
        "outputId": "86a0037d-a511-49d3-9838-0949bc926080"
      },
      "execution_count": null,
      "outputs": [
        {
          "output_type": "stream",
          "name": "stdout",
          "text": [
            "Accuracy:      0.0133\n",
            "F1 Score:      0.0004\n"
          ]
        },
        {
          "output_type": "execute_result",
          "data": {
            "text/plain": [
              "0.0003508771929824561"
            ]
          },
          "metadata": {},
          "execution_count": 126
        }
      ]
    },
    {
      "cell_type": "code",
      "source": [
        "from sklearn.model_selection import train_test_split\n",
        "\n",
        "x_label_1_train_subset, x_label_1_valid_subset, y_label_1_train_subset, y_label_1_valid_subset = train_test_split(x_label_1_selected, y_label_1, test_size=0.2, random_state=42)"
      ],
      "metadata": {
        "id": "iACu0bz07iV_"
      },
      "execution_count": null,
      "outputs": []
    },
    {
      "cell_type": "code",
      "source": [
        "best_svm_model_label_1 = SVC(kernel='rbf', C=best_params_random_label_1_2['C'], gamma=best_params_random_label_1_2['gamma'], random_state=42)\n",
        "best_svm_model_label_1.fit(x_label_1_train_subset, y_label_1_train_subset)"
      ],
      "metadata": {
        "colab": {
          "base_uri": "https://localhost:8080/",
          "height": 75
        },
        "id": "N7WhImYUeqUX",
        "outputId": "631b9988-1f7d-4c9e-d3a7-e1d878533f53"
      },
      "execution_count": null,
      "outputs": [
        {
          "output_type": "execute_result",
          "data": {
            "text/plain": [
              "SVC(C=1000.0, gamma=1.0, random_state=42)"
            ],
            "text/html": [
              "<style>#sk-container-id-3 {color: black;background-color: white;}#sk-container-id-3 pre{padding: 0;}#sk-container-id-3 div.sk-toggleable {background-color: white;}#sk-container-id-3 label.sk-toggleable__label {cursor: pointer;display: block;width: 100%;margin-bottom: 0;padding: 0.3em;box-sizing: border-box;text-align: center;}#sk-container-id-3 label.sk-toggleable__label-arrow:before {content: \"▸\";float: left;margin-right: 0.25em;color: #696969;}#sk-container-id-3 label.sk-toggleable__label-arrow:hover:before {color: black;}#sk-container-id-3 div.sk-estimator:hover label.sk-toggleable__label-arrow:before {color: black;}#sk-container-id-3 div.sk-toggleable__content {max-height: 0;max-width: 0;overflow: hidden;text-align: left;background-color: #f0f8ff;}#sk-container-id-3 div.sk-toggleable__content pre {margin: 0.2em;color: black;border-radius: 0.25em;background-color: #f0f8ff;}#sk-container-id-3 input.sk-toggleable__control:checked~div.sk-toggleable__content {max-height: 200px;max-width: 100%;overflow: auto;}#sk-container-id-3 input.sk-toggleable__control:checked~label.sk-toggleable__label-arrow:before {content: \"▾\";}#sk-container-id-3 div.sk-estimator input.sk-toggleable__control:checked~label.sk-toggleable__label {background-color: #d4ebff;}#sk-container-id-3 div.sk-label input.sk-toggleable__control:checked~label.sk-toggleable__label {background-color: #d4ebff;}#sk-container-id-3 input.sk-hidden--visually {border: 0;clip: rect(1px 1px 1px 1px);clip: rect(1px, 1px, 1px, 1px);height: 1px;margin: -1px;overflow: hidden;padding: 0;position: absolute;width: 1px;}#sk-container-id-3 div.sk-estimator {font-family: monospace;background-color: #f0f8ff;border: 1px dotted black;border-radius: 0.25em;box-sizing: border-box;margin-bottom: 0.5em;}#sk-container-id-3 div.sk-estimator:hover {background-color: #d4ebff;}#sk-container-id-3 div.sk-parallel-item::after {content: \"\";width: 100%;border-bottom: 1px solid gray;flex-grow: 1;}#sk-container-id-3 div.sk-label:hover label.sk-toggleable__label {background-color: #d4ebff;}#sk-container-id-3 div.sk-serial::before {content: \"\";position: absolute;border-left: 1px solid gray;box-sizing: border-box;top: 0;bottom: 0;left: 50%;z-index: 0;}#sk-container-id-3 div.sk-serial {display: flex;flex-direction: column;align-items: center;background-color: white;padding-right: 0.2em;padding-left: 0.2em;position: relative;}#sk-container-id-3 div.sk-item {position: relative;z-index: 1;}#sk-container-id-3 div.sk-parallel {display: flex;align-items: stretch;justify-content: center;background-color: white;position: relative;}#sk-container-id-3 div.sk-item::before, #sk-container-id-3 div.sk-parallel-item::before {content: \"\";position: absolute;border-left: 1px solid gray;box-sizing: border-box;top: 0;bottom: 0;left: 50%;z-index: -1;}#sk-container-id-3 div.sk-parallel-item {display: flex;flex-direction: column;z-index: 1;position: relative;background-color: white;}#sk-container-id-3 div.sk-parallel-item:first-child::after {align-self: flex-end;width: 50%;}#sk-container-id-3 div.sk-parallel-item:last-child::after {align-self: flex-start;width: 50%;}#sk-container-id-3 div.sk-parallel-item:only-child::after {width: 0;}#sk-container-id-3 div.sk-dashed-wrapped {border: 1px dashed gray;margin: 0 0.4em 0.5em 0.4em;box-sizing: border-box;padding-bottom: 0.4em;background-color: white;}#sk-container-id-3 div.sk-label label {font-family: monospace;font-weight: bold;display: inline-block;line-height: 1.2em;}#sk-container-id-3 div.sk-label-container {text-align: center;}#sk-container-id-3 div.sk-container {/* jupyter's `normalize.less` sets `[hidden] { display: none; }` but bootstrap.min.css set `[hidden] { display: none !important; }` so we also need the `!important` here to be able to override the default hidden behavior on the sphinx rendered scikit-learn.org. See: https://github.com/scikit-learn/scikit-learn/issues/21755 */display: inline-block !important;position: relative;}#sk-container-id-3 div.sk-text-repr-fallback {display: none;}</style><div id=\"sk-container-id-3\" class=\"sk-top-container\"><div class=\"sk-text-repr-fallback\"><pre>SVC(C=1000.0, gamma=1.0, random_state=42)</pre><b>In a Jupyter environment, please rerun this cell to show the HTML representation or trust the notebook. <br />On GitHub, the HTML representation is unable to render, please try loading this page with nbviewer.org.</b></div><div class=\"sk-container\" hidden><div class=\"sk-item\"><div class=\"sk-estimator sk-toggleable\"><input class=\"sk-toggleable__control sk-hidden--visually\" id=\"sk-estimator-id-3\" type=\"checkbox\" checked><label for=\"sk-estimator-id-3\" class=\"sk-toggleable__label sk-toggleable__label-arrow\">SVC</label><div class=\"sk-toggleable__content\"><pre>SVC(C=1000.0, gamma=1.0, random_state=42)</pre></div></div></div></div></div>"
            ]
          },
          "metadata": {},
          "execution_count": 133
        }
      ]
    },
    {
      "cell_type": "code",
      "source": [
        "y_valid_pred_label_1 = best_svm_model_label_1.predict(x_label_1_valid_subset)\n",
        "eval_model(y_label_1_valid_subset, y_valid_pred_label_1)"
      ],
      "metadata": {
        "colab": {
          "base_uri": "https://localhost:8080/"
        },
        "id": "PnmVnMWxewu4",
        "outputId": "4b1e3c20-1469-4ab3-a8cf-a685c9effeb6"
      },
      "execution_count": null,
      "outputs": [
        {
          "output_type": "stream",
          "name": "stdout",
          "text": [
            "Accuracy:      0.9048\n",
            "F1 Score:      0.9050\n"
          ]
        },
        {
          "output_type": "execute_result",
          "data": {
            "text/plain": [
              "0.90499344678708"
            ]
          },
          "metadata": {},
          "execution_count": 134
        }
      ]
    },
    {
      "cell_type": "code",
      "source": [
        "def create_csv(y_pred, label_name):\n",
        "  output_filename = f\"/content/drive/My Drive/Semester7/ML/Project/Layer_12/Results/{label_name}.csv\"\n",
        "  combined_data = pd.DataFrame()\n",
        "  combined_data[label_name] = y_pred\n",
        "  combined_data.to_csv(output_filename, index=False)"
      ],
      "metadata": {
        "id": "PV9eS1uN3cEN"
      },
      "execution_count": null,
      "outputs": []
    },
    {
      "cell_type": "code",
      "source": [
        "y_test_pred_label_1 = best_svm_model_label_1.predict(x_test_label_1_selected)\n",
        "create_csv(y_test_pred_label_1, \"label_1\")"
      ],
      "metadata": {
        "id": "m_5LKv844FKA"
      },
      "execution_count": null,
      "outputs": []
    },
    {
      "cell_type": "markdown",
      "source": [
        "#Label 2"
      ],
      "metadata": {
        "id": "MeVsKT2-sobP"
      }
    },
    {
      "cell_type": "code",
      "source": [
        "x_label_2 = train.iloc[:, : -4]\n",
        "y_label_2 = train[\"label_2\"]\n",
        "x_valid_label_2 = valid.iloc[:, : -4]\n",
        "y_valid_label_2 = valid[\"label_2\"]\n",
        "x_test_label_2 = test.iloc[:, 1:]"
      ],
      "metadata": {
        "id": "6BjU62AXqGRB"
      },
      "execution_count": null,
      "outputs": []
    },
    {
      "cell_type": "markdown",
      "source": [
        "## Class Distribition"
      ],
      "metadata": {
        "id": "4qz4DRXftlol"
      }
    },
    {
      "cell_type": "code",
      "source": [
        "plot_class_distribution(y_label_2)"
      ],
      "metadata": {
        "id": "qtFMXUsXtpIU",
        "colab": {
          "base_uri": "https://localhost:8080/",
          "height": 573
        },
        "outputId": "b1786307-586a-4e20-d47f-511c81e6a9ff"
      },
      "execution_count": null,
      "outputs": [
        {
          "output_type": "display_data",
          "data": {
            "text/plain": [
              "<Figure size 1200x600 with 1 Axes>"
            ],
            "image/png": "[encoded data removed]"
          },
          "metadata": {}
        }
      ]
    },
    {
      "cell_type": "markdown",
      "source": [
        "The dataset is imbalanced. Therefore resampling is required. SMOTE will be used."
      ],
      "metadata": {
        "id": "Av6C61nNvC2F"
      }
    },
    {
      "cell_type": "code",
      "source": [
        "from imblearn.over_sampling import SMOTE\n",
        "\n",
        "smote = SMOTE(sampling_strategy='auto', random_state=42)\n",
        "x_label_2_resampled, y_label_2_resampled = smote.fit_resample(x_label_2, y_label_2)"
      ],
      "metadata": {
        "id": "1Pt4isFNvJxi"
      },
      "execution_count": null,
      "outputs": []
    },
    {
      "cell_type": "code",
      "source": [
        "plot_class_distribution(y_label_2_resampled)"
      ],
      "metadata": {
        "id": "3t46KI_zv3__",
        "colab": {
          "base_uri": "https://localhost:8080/",
          "height": 573
        },
        "outputId": "555e5d74-437d-47e8-aabc-40bdff01b747"
      },
      "execution_count": null,
      "outputs": [
        {
          "output_type": "display_data",
          "data": {
            "text/plain": [
              "<Figure size 1200x600 with 1 Axes>"
            ],
            "image/png": "[encoded data removed]"
          },
          "metadata": {}
        }
      ]
    },
    {
      "cell_type": "markdown",
      "source": [
        "##Feature Selection\n",
        "\n",
        "###Correlation"
      ],
      "metadata": {
        "id": "VxQIgd_mtA9I"
      }
    },
    {
      "cell_type": "code",
      "source": [
        "x_label_2_resampled = x_label_2_resampled.drop(corr, axis = 1)\n",
        "x_valid_label_2 = x_valid_label_2.drop(corr, axis = 1)\n",
        "x_test_label_2 = x_test_label_2.drop(corr, axis = 1)"
      ],
      "metadata": {
        "id": "90qRHgGXs4cw"
      },
      "execution_count": null,
      "outputs": []
    },
    {
      "cell_type": "markdown",
      "source": [
        "###Mutual Information Classification"
      ],
      "metadata": {
        "id": "f0_3lMuVtT2F"
      }
    },
    {
      "cell_type": "code",
      "source": [
        "mi_label_2 = plot_mi(x_label_2_resampled, y_label_2_resampled)"
      ],
      "metadata": {
        "id": "IVlTCRi-x3-2",
        "colab": {
          "base_uri": "https://localhost:8080/",
          "height": 709
        },
        "outputId": "7f5385c8-0761-4536-c3de-7212cbd33610"
      },
      "execution_count": null,
      "outputs": [
        {
          "output_type": "display_data",
          "data": {
            "text/plain": [
              "<Figure size 3200x1200 with 1 Axes>"
            ],
            "image/png": "[encoded data removed]"
          },
          "metadata": {}
        }
      ]
    },
    {
      "cell_type": "markdown",
      "source": [
        "Similar to the `label_1` cannot drop features using utual information."
      ],
      "metadata": {
        "id": "csY4jUWt0FOg"
      }
    },
    {
      "cell_type": "code",
      "source": [
        "from sklearn.decomposition import PCA\n",
        "\n",
        "pca_2 = PCA(n_components = 0.95, svd_solver = 'full')\n",
        "pca_2.fit(x_label_2_resampled)\n",
        "x_label_2_selected = pd.DataFrame(pca_2.transform(x_label_2_resampled))\n",
        "x_valid_label_2_selected = pd.DataFrame(pca_2.transform(x_valid_label_2))\n",
        "x_test_label_2_selected = pd.DataFrame(pca_2.transform(x_test_label_2))\n",
        "x_label_2_selected.shape"
      ],
      "metadata": {
        "colab": {
          "base_uri": "https://localhost:8080/"
        },
        "id": "K1RzJNr2qBpm",
        "outputId": "d96db19b-fb2e-48c2-8429-792e8adb7290"
      },
      "execution_count": null,
      "outputs": [
        {
          "output_type": "execute_result",
          "data": {
            "text/plain": [
              "(80954, 98)"
            ]
          },
          "metadata": {},
          "execution_count": 33
        }
      ]
    },
    {
      "cell_type": "markdown",
      "source": [
        "##Modelling\n",
        "\n",
        "###KNN Model"
      ],
      "metadata": {
        "id": "z_ng5Lb-07MQ"
      }
    },
    {
      "cell_type": "code",
      "source": [
        "label_2_scores = []"
      ],
      "metadata": {
        "id": "X_H6myTO1PxB"
      },
      "execution_count": null,
      "outputs": []
    },
    {
      "cell_type": "code",
      "source": [
        "knn_label_2, f_score_knn_label_2 = knn_model(x_label_2_selected, y_label_2_resampled, x_valid_label_2_selected, y_valid_label_2, 13)\n",
        "avg_f1_score_knn_label_2 = f_score_knn_label_2.mean()\n",
        "print(f\"\\nAverage F1 score of KNN cross validation: {avg_f1_score_knn_label_2}.\")\n",
        "label_2_scores.append([knn_label_2, \"KNN\", avg_f1_score_knn_label_2])"
      ],
      "metadata": {
        "id": "XNxGaBG11DNv",
        "colab": {
          "base_uri": "https://localhost:8080/"
        },
        "outputId": "1d6c590d-9d59-42fc-8c1b-b8a62990a3ae"
      },
      "execution_count": null,
      "outputs": [
        {
          "output_type": "stream",
          "name": "stdout",
          "text": [
            "Accuracy:      0.8007\n",
            "F1 Score:      0.7797\n",
            "Accuracy:      0.8107\n",
            "F1 Score:      0.7887\n",
            "Accuracy:      0.8258\n",
            "F1 Score:      0.8032\n",
            "Accuracy:      0.8796\n",
            "F1 Score:      0.8570\n",
            "Accuracy:      0.8775\n",
            "F1 Score:      0.8568\n",
            "\n",
            "Validation:\n",
            "Accuracy:      0.2440\n",
            "F1 Score:      0.2448\n",
            "\n",
            "Average F1 score of KNN cross validation: 0.8170776583519656.\n"
          ]
        }
      ]
    },
    {
      "cell_type": "markdown",
      "source": [
        "###Random Forest Model"
      ],
      "metadata": {
        "id": "kfZGhV651i0o"
      }
    },
    {
      "cell_type": "code",
      "source": [
        "rf_label_2, f_score_rf_label_2 = rf_model(x_label_2_selected, y_label_2_resampled, x_valid_label_2_selected, y_valid_label_2, 100, 42)\n",
        "avg_f1_score_rf_label_2 = f_score_rf_label_2.mean()\n",
        "print(f\"\\nAverage F1 score of RF cross validation: {avg_f1_score_rf_label_2}.\")\n",
        "label_2_scores.append([rf_label_2, \"Random Forest\", avg_f1_score_rf_label_2])"
      ],
      "metadata": {
        "id": "i7OIKxVf1lTv",
        "colab": {
          "base_uri": "https://localhost:8080/"
        },
        "outputId": "e64ffeeb-ed60-498c-f40b-3b4e57e1f510"
      },
      "execution_count": null,
      "outputs": [
        {
          "output_type": "stream",
          "name": "stdout",
          "text": [
            "Accuracy:      0.8788\n",
            "F1 Score:      0.8706\n",
            "Accuracy:      0.8825\n",
            "F1 Score:      0.8735\n",
            "Accuracy:      0.8986\n",
            "F1 Score:      0.8893\n",
            "Accuracy:      0.9479\n",
            "F1 Score:      0.9326\n",
            "Accuracy:      0.9495\n",
            "F1 Score:      0.9367\n",
            "\n",
            "Validation:\n",
            "Accuracy:      0.1347\n",
            "F1 Score:      0.1070\n",
            "\n",
            "Average F1 score of RF cross validation: 0.9005388013295939.\n"
          ]
        }
      ]
    },
    {
      "cell_type": "markdown",
      "source": [
        "###XG Boost Model"
      ],
      "metadata": {
        "id": "yWCyaPM92Q-8"
      }
    },
    {
      "cell_type": "code",
      "source": [
        "label_2_encoder = LabelEncoder()\n",
        "y_label_2_encoded = label_2_encoder.fit_transform(y_label_2_resampled.copy(deep = True))\n",
        "y_valid_label_2_encoded = label_2_encoder.transform(y_valid_label_2.copy(deep = True))"
      ],
      "metadata": {
        "id": "VC5BdgRmiN4Y"
      },
      "execution_count": null,
      "outputs": []
    },
    {
      "cell_type": "code",
      "source": [
        "xgb_label_2, f_score_xgb_label_2 = xgb_model_gpu(x_label_2_selected, y_label_2_encoded, x_valid_label_2_selected, y_valid_label_2_encoded, 50, 42)\n",
        "avg_f1_score_xgb_label_2 = f_score_xgb_label_2.mean()\n",
        "print(f\"\\nAverage F1 score of XGB cross validation: {avg_f1_score_xgb_label_2}.\")\n",
        "label_2_scores.append([xgb_label_2, \"XGBoost\", avg_f1_score_xgb_label_2])"
      ],
      "metadata": {
        "id": "2MdWz1152Tnf"
      },
      "execution_count": null,
      "outputs": []
    },
    {
      "cell_type": "markdown",
      "source": [
        "###SVM Model"
      ],
      "metadata": {
        "id": "dC4flNtq2hmo"
      }
    },
    {
      "cell_type": "code",
      "source": [
        "kernels = [\"linear\", \"rbf\", \"poly\"]\n",
        "\n",
        "for i in range(3):\n",
        "  kernel = kernels[i]\n",
        "  Kernel = kernel.capitalize()\n",
        "  print(Kernel)\n",
        "  svm, f_sc = svm_model(x_label_2_selected, y_label_2_resampled, x_valid_label_2_selected, y_valid_label_2, kernel)\n",
        "  avg_f_sc = f_sc.mean()\n",
        "  print(f\"\\nAverage F1 score of SVM {Kernel} cross validation: {avg_f_sc}.\")\n",
        "  label_2_scores.append([svm, f\"SVM {Kernel}\", avg_f_sc])\n",
        "  if (i!= 2): print()"
      ],
      "metadata": {
        "id": "RoVqrXBI2qA-",
        "colab": {
          "base_uri": "https://localhost:8080/"
        },
        "outputId": "6ab7c430-f6b1-4602-e03c-faa6f09a66fd"
      },
      "execution_count": null,
      "outputs": [
        {
          "output_type": "stream",
          "name": "stdout",
          "text": [
            "Linear\n",
            "Accuracy:      0.6207\n",
            "F1 Score:      0.6050\n",
            "Accuracy:      0.6546\n",
            "F1 Score:      0.6395\n",
            "Accuracy:      0.7023\n",
            "F1 Score:      0.6839\n",
            "Accuracy:      0.7469\n",
            "F1 Score:      0.7403\n",
            "Accuracy:      0.7548\n",
            "F1 Score:      0.7450\n",
            "\n",
            "Validation:\n",
            "Accuracy:      0.1120\n",
            "F1 Score:      0.0738\n",
            "\n",
            "Average F1 score of SVM Linear cross validation: 0.682729828782574.\n",
            "\n",
            "Rbf\n",
            "Accuracy:      0.7797\n",
            "F1 Score:      0.7702\n",
            "Accuracy:      0.7932\n",
            "F1 Score:      0.7848\n",
            "Accuracy:      0.8277\n",
            "F1 Score:      0.8174\n",
            "Accuracy:      0.8765\n",
            "F1 Score:      0.8661\n",
            "Accuracy:      0.8790\n",
            "F1 Score:      0.8675\n",
            "\n",
            "Validation:\n",
            "Accuracy:      0.1533\n",
            "F1 Score:      0.0408\n",
            "\n",
            "Average F1 score of SVM Rbf cross validation: 0.8211894474191709.\n",
            "\n",
            "Poly\n",
            "Accuracy:      0.6890\n",
            "F1 Score:      0.6843\n",
            "Accuracy:      0.7085\n",
            "F1 Score:      0.7027\n",
            "Accuracy:      0.7516\n",
            "F1 Score:      0.7445\n",
            "Accuracy:      0.8011\n",
            "F1 Score:      0.8012\n",
            "Accuracy:      0.8075\n",
            "F1 Score:      0.8073\n",
            "\n",
            "Validation:\n",
            "Accuracy:      0.1453\n",
            "F1 Score:      0.1068\n",
            "\n",
            "Average F1 score of SVM Poly cross validation: 0.7479868071201398.\n"
          ]
        }
      ]
    },
    {
      "cell_type": "markdown",
      "source": [
        "##Final Model"
      ],
      "metadata": {
        "id": "oebmPnDK5xsx"
      }
    },
    {
      "cell_type": "code",
      "source": [
        "for score in label_2_scores:\n",
        "  print(score[1:])"
      ],
      "metadata": {
        "id": "Lk5awSt95zWx",
        "colab": {
          "base_uri": "https://localhost:8080/"
        },
        "outputId": "0e1e0f16-cf0e-470a-97cd-3f10064105cc"
      },
      "execution_count": null,
      "outputs": [
        {
          "output_type": "stream",
          "name": "stdout",
          "text": [
            "['KNN', 0.8170776583519656]\n",
            "['Random Forest', 0.9005388013295939]\n",
            "['SVM Linear', 0.682729828782574]\n",
            "['SVM Rbf', 0.8211894474191709]\n",
            "['SVM Poly', 0.7479868071201398]\n"
          ]
        }
      ]
    },
    {
      "cell_type": "code",
      "source": [
        "final_model_label_2, final_model_label_2_name, final_model_label_2_f1_score = get_best_model(label_2_scores)\n",
        "print(f\"Selected {final_model_label_2_name} with cross validation score of {final_model_label_2_f1_score}.\")"
      ],
      "metadata": {
        "id": "D3Kap-5x55l1",
        "colab": {
          "base_uri": "https://localhost:8080/"
        },
        "outputId": "ecabe4ae-89ab-4bc8-8ff8-8f3ade3bc8a8"
      },
      "execution_count": null,
      "outputs": [
        {
          "output_type": "stream",
          "name": "stdout",
          "text": [
            "Selected Random Forest with cross validation score of 0.9005388013295939.\n"
          ]
        }
      ]
    },
    {
      "cell_type": "markdown",
      "source": [
        "##Tuning\n",
        "\n",
        "###Hyperparameter Tuning"
      ],
      "metadata": {
        "id": "_P9cfPCJD7oX"
      }
    },
    {
      "cell_type": "code",
      "source": [
        "from sklearn.model_selection import RandomizedSearchCV\n",
        "\n",
        "param_dist = {\n",
        "    'n_estimators': np.arange(100, 1000, 100),\n",
        "    'max_depth': [None] + list(np.arange(10, 110, 10)),\n",
        "    'min_samples_split': [2, 5, 10, 15],\n",
        "    'min_samples_leaf': [1, 2, 4, 8],\n",
        "}\n",
        "\n",
        "rf_model_label_2 = RandomForestClassifier(random_state=42)\n",
        "random_search_label_2 = RandomizedSearchCV(estimator=rf_model_label_2, param_distributions=param_dist, n_iter=3, cv=3, scoring=scorer, random_state=42, verbose=1, n_jobs=10)\n",
        "random_search_label_2.fit(x_label_2_selected, y_label_2_resampled)\n",
        "\n",
        "best_params_label_2 = random_search_label_2.best_params_\n",
        "best_score_label_2 = random_search_label_2.best_score_\n",
        "\n",
        "print(\"Best Hyperparameters:\", best_params_label_2)\n",
        "print(\"Best Accuracy:\", best_score_label_2)"
      ],
      "metadata": {
        "colab": {
          "base_uri": "https://localhost:8080/"
        },
        "id": "SS_g2LdwEA2W",
        "outputId": "fcb54432-fefa-4ab5-b46c-fcc16e699eb2"
      },
      "execution_count": null,
      "outputs": [
        {
          "output_type": "stream",
          "name": "stdout",
          "text": [
            "Fitting 3 folds for each of 3 candidates, totalling 9 fits\n"
          ]
        },
        {
          "output_type": "stream",
          "name": "stderr",
          "text": [
            "/usr/local/lib/python3.10/dist-packages/joblib/externals/loky/process_executor.py:752: UserWarning: A worker stopped while some jobs were given to the executor. This can be caused by a too short worker timeout or by a memory leak.\n",
            "  warnings.warn(\n"
          ]
        },
        {
          "output_type": "stream",
          "name": "stdout",
          "text": [
            "Best Hyperparameters: {'n_estimators': 200, 'min_samples_split': 10, 'min_samples_leaf': 1, 'max_depth': 100}\n",
            "Best Accuracy: 0.903867676268332\n"
          ]
        }
      ]
    },
    {
      "cell_type": "code",
      "source": [
        "best_rf_model_label_2 = RandomForestClassifier(\n",
        "    n_estimators=best_params_label_2['n_estimators'],\n",
        "    max_depth=best_params_label_2['max_depth'],\n",
        "    min_samples_split=best_params_label_2['min_samples_split'],\n",
        "    min_samples_leaf=best_params_label_2['min_samples_leaf'],\n",
        "    random_state=42\n",
        ")\n",
        "\n",
        "best_rf_model_label_2.fit(x_label_2_selected, y_label_2_resampled)"
      ],
      "metadata": {
        "colab": {
          "base_uri": "https://localhost:8080/",
          "height": 92
        },
        "id": "0x-uG34zOzou",
        "outputId": "f97551f7-d7ae-4a20-ee9a-0bcdcbc2735c"
      },
      "execution_count": null,
      "outputs": [
        {
          "output_type": "execute_result",
          "data": {
            "text/plain": [
              "RandomForestClassifier(max_depth=100, min_samples_split=10, n_estimators=200,\n",
              "                       random_state=42)"
            ],
            "text/html": [
              "<style>#sk-container-id-1 {color: black;background-color: white;}#sk-container-id-1 pre{padding: 0;}#sk-container-id-1 div.sk-toggleable {background-color: white;}#sk-container-id-1 label.sk-toggleable__label {cursor: pointer;display: block;width: 100%;margin-bottom: 0;padding: 0.3em;box-sizing: border-box;text-align: center;}#sk-container-id-1 label.sk-toggleable__label-arrow:before {content: \"▸\";float: left;margin-right: 0.25em;color: #696969;}#sk-container-id-1 label.sk-toggleable__label-arrow:hover:before {color: black;}#sk-container-id-1 div.sk-estimator:hover label.sk-toggleable__label-arrow:before {color: black;}#sk-container-id-1 div.sk-toggleable__content {max-height: 0;max-width: 0;overflow: hidden;text-align: left;background-color: #f0f8ff;}#sk-container-id-1 div.sk-toggleable__content pre {margin: 0.2em;color: black;border-radius: 0.25em;background-color: #f0f8ff;}#sk-container-id-1 input.sk-toggleable__control:checked~div.sk-toggleable__content {max-height: 200px;max-width: 100%;overflow: auto;}#sk-container-id-1 input.sk-toggleable__control:checked~label.sk-toggleable__label-arrow:before {content: \"▾\";}#sk-container-id-1 div.sk-estimator input.sk-toggleable__control:checked~label.sk-toggleable__label {background-color: #d4ebff;}#sk-container-id-1 div.sk-label input.sk-toggleable__control:checked~label.sk-toggleable__label {background-color: #d4ebff;}#sk-container-id-1 input.sk-hidden--visually {border: 0;clip: rect(1px 1px 1px 1px);clip: rect(1px, 1px, 1px, 1px);height: 1px;margin: -1px;overflow: hidden;padding: 0;position: absolute;width: 1px;}#sk-container-id-1 div.sk-estimator {font-family: monospace;background-color: #f0f8ff;border: 1px dotted black;border-radius: 0.25em;box-sizing: border-box;margin-bottom: 0.5em;}#sk-container-id-1 div.sk-estimator:hover {background-color: #d4ebff;}#sk-container-id-1 div.sk-parallel-item::after {content: \"\";width: 100%;border-bottom: 1px solid gray;flex-grow: 1;}#sk-container-id-1 div.sk-label:hover label.sk-toggleable__label {background-color: #d4ebff;}#sk-container-id-1 div.sk-serial::before {content: \"\";position: absolute;border-left: 1px solid gray;box-sizing: border-box;top: 0;bottom: 0;left: 50%;z-index: 0;}#sk-container-id-1 div.sk-serial {display: flex;flex-direction: column;align-items: center;background-color: white;padding-right: 0.2em;padding-left: 0.2em;position: relative;}#sk-container-id-1 div.sk-item {position: relative;z-index: 1;}#sk-container-id-1 div.sk-parallel {display: flex;align-items: stretch;justify-content: center;background-color: white;position: relative;}#sk-container-id-1 div.sk-item::before, #sk-container-id-1 div.sk-parallel-item::before {content: \"\";position: absolute;border-left: 1px solid gray;box-sizing: border-box;top: 0;bottom: 0;left: 50%;z-index: -1;}#sk-container-id-1 div.sk-parallel-item {display: flex;flex-direction: column;z-index: 1;position: relative;background-color: white;}#sk-container-id-1 div.sk-parallel-item:first-child::after {align-self: flex-end;width: 50%;}#sk-container-id-1 div.sk-parallel-item:last-child::after {align-self: flex-start;width: 50%;}#sk-container-id-1 div.sk-parallel-item:only-child::after {width: 0;}#sk-container-id-1 div.sk-dashed-wrapped {border: 1px dashed gray;margin: 0 0.4em 0.5em 0.4em;box-sizing: border-box;padding-bottom: 0.4em;background-color: white;}#sk-container-id-1 div.sk-label label {font-family: monospace;font-weight: bold;display: inline-block;line-height: 1.2em;}#sk-container-id-1 div.sk-label-container {text-align: center;}#sk-container-id-1 div.sk-container {/* jupyter's `normalize.less` sets `[hidden] { display: none; }` but bootstrap.min.css set `[hidden] { display: none !important; }` so we also need the `!important` here to be able to override the default hidden behavior on the sphinx rendered scikit-learn.org. See: https://github.com/scikit-learn/scikit-learn/issues/21755 */display: inline-block !important;position: relative;}#sk-container-id-1 div.sk-text-repr-fallback {display: none;}</style><div id=\"sk-container-id-1\" class=\"sk-top-container\"><div class=\"sk-text-repr-fallback\"><pre>RandomForestClassifier(max_depth=100, min_samples_split=10, n_estimators=200,\n",
              "                       random_state=42)</pre><b>In a Jupyter environment, please rerun this cell to show the HTML representation or trust the notebook. <br />On GitHub, the HTML representation is unable to render, please try loading this page with nbviewer.org.</b></div><div class=\"sk-container\" hidden><div class=\"sk-item\"><div class=\"sk-estimator sk-toggleable\"><input class=\"sk-toggleable__control sk-hidden--visually\" id=\"sk-estimator-id-1\" type=\"checkbox\" checked><label for=\"sk-estimator-id-1\" class=\"sk-toggleable__label sk-toggleable__label-arrow\">RandomForestClassifier</label><div class=\"sk-toggleable__content\"><pre>RandomForestClassifier(max_depth=100, min_samples_split=10, n_estimators=200,\n",
              "                       random_state=42)</pre></div></div></div></div></div>"
            ]
          },
          "metadata": {},
          "execution_count": 45
        }
      ]
    },
    {
      "cell_type": "code",
      "source": [
        "y_valid_pred_label_2 = best_rf_model_label_2.predict(x_valid_label_2_selected)\n",
        "eval_model(y_valid_label_2, y_valid_pred_label_2)"
      ],
      "metadata": {
        "colab": {
          "base_uri": "https://localhost:8080/"
        },
        "id": "CkzhOsTxP9Cz",
        "outputId": "feaccd3c-5b11-4f05-a0cf-3c07c547ffe7"
      },
      "execution_count": null,
      "outputs": [
        {
          "output_type": "stream",
          "name": "stdout",
          "text": [
            "Accuracy:      0.1400\n",
            "F1 Score:      0.1123\n"
          ]
        },
        {
          "output_type": "execute_result",
          "data": {
            "text/plain": [
              "0.11230114462034717"
            ]
          },
          "metadata": {},
          "execution_count": 46
        }
      ]
    },
    {
      "cell_type": "code",
      "source": [
        "from sklearn.model_selection import train_test_split\n",
        "\n",
        "x_label_2_train_subset, x_label_2_valid_subset, y_label_2_train_subset, y_label_2_valid_subset = train_test_split(x_label_2_selected, y_label_2_resampled, test_size=0.2, random_state=42)"
      ],
      "metadata": {
        "id": "pe5MfrtkPkWy"
      },
      "execution_count": null,
      "outputs": []
    },
    {
      "cell_type": "code",
      "source": [
        "best_rf_model_label_2 = RandomForestClassifier(\n",
        "    n_estimators=best_params_label_2['n_estimators'],\n",
        "    max_depth=best_params_label_2['max_depth'],\n",
        "    min_samples_split=best_params_label_2['min_samples_split'],\n",
        "    min_samples_leaf=best_params_label_2['min_samples_leaf'],\n",
        "    random_state=42\n",
        ")\n",
        "\n",
        "best_rf_model_label_2.fit(x_label_2_train_subset, y_label_2_train_subset)"
      ],
      "metadata": {
        "colab": {
          "base_uri": "https://localhost:8080/",
          "height": 92
        },
        "id": "3BqnhaWMQRyZ",
        "outputId": "cd03a9ab-df8d-4cfd-db0f-4e9952ba445a"
      },
      "execution_count": null,
      "outputs": [
        {
          "output_type": "execute_result",
          "data": {
            "text/plain": [
              "RandomForestClassifier(max_depth=100, min_samples_split=10, n_estimators=200,\n",
              "                       random_state=42)"
            ],
            "text/html": [
              "<style>#sk-container-id-3 {color: black;background-color: white;}#sk-container-id-3 pre{padding: 0;}#sk-container-id-3 div.sk-toggleable {background-color: white;}#sk-container-id-3 label.sk-toggleable__label {cursor: pointer;display: block;width: 100%;margin-bottom: 0;padding: 0.3em;box-sizing: border-box;text-align: center;}#sk-container-id-3 label.sk-toggleable__label-arrow:before {content: \"▸\";float: left;margin-right: 0.25em;color: #696969;}#sk-container-id-3 label.sk-toggleable__label-arrow:hover:before {color: black;}#sk-container-id-3 div.sk-estimator:hover label.sk-toggleable__label-arrow:before {color: black;}#sk-container-id-3 div.sk-toggleable__content {max-height: 0;max-width: 0;overflow: hidden;text-align: left;background-color: #f0f8ff;}#sk-container-id-3 div.sk-toggleable__content pre {margin: 0.2em;color: black;border-radius: 0.25em;background-color: #f0f8ff;}#sk-container-id-3 input.sk-toggleable__control:checked~div.sk-toggleable__content {max-height: 200px;max-width: 100%;overflow: auto;}#sk-container-id-3 input.sk-toggleable__control:checked~label.sk-toggleable__label-arrow:before {content: \"▾\";}#sk-container-id-3 div.sk-estimator input.sk-toggleable__control:checked~label.sk-toggleable__label {background-color: #d4ebff;}#sk-container-id-3 div.sk-label input.sk-toggleable__control:checked~label.sk-toggleable__label {background-color: #d4ebff;}#sk-container-id-3 input.sk-hidden--visually {border: 0;clip: rect(1px 1px 1px 1px);clip: rect(1px, 1px, 1px, 1px);height: 1px;margin: -1px;overflow: hidden;padding: 0;position: absolute;width: 1px;}#sk-container-id-3 div.sk-estimator {font-family: monospace;background-color: #f0f8ff;border: 1px dotted black;border-radius: 0.25em;box-sizing: border-box;margin-bottom: 0.5em;}#sk-container-id-3 div.sk-estimator:hover {background-color: #d4ebff;}#sk-container-id-3 div.sk-parallel-item::after {content: \"\";width: 100%;border-bottom: 1px solid gray;flex-grow: 1;}#sk-container-id-3 div.sk-label:hover label.sk-toggleable__label {background-color: #d4ebff;}#sk-container-id-3 div.sk-serial::before {content: \"\";position: absolute;border-left: 1px solid gray;box-sizing: border-box;top: 0;bottom: 0;left: 50%;z-index: 0;}#sk-container-id-3 div.sk-serial {display: flex;flex-direction: column;align-items: center;background-color: white;padding-right: 0.2em;padding-left: 0.2em;position: relative;}#sk-container-id-3 div.sk-item {position: relative;z-index: 1;}#sk-container-id-3 div.sk-parallel {display: flex;align-items: stretch;justify-content: center;background-color: white;position: relative;}#sk-container-id-3 div.sk-item::before, #sk-container-id-3 div.sk-parallel-item::before {content: \"\";position: absolute;border-left: 1px solid gray;box-sizing: border-box;top: 0;bottom: 0;left: 50%;z-index: -1;}#sk-container-id-3 div.sk-parallel-item {display: flex;flex-direction: column;z-index: 1;position: relative;background-color: white;}#sk-container-id-3 div.sk-parallel-item:first-child::after {align-self: flex-end;width: 50%;}#sk-container-id-3 div.sk-parallel-item:last-child::after {align-self: flex-start;width: 50%;}#sk-container-id-3 div.sk-parallel-item:only-child::after {width: 0;}#sk-container-id-3 div.sk-dashed-wrapped {border: 1px dashed gray;margin: 0 0.4em 0.5em 0.4em;box-sizing: border-box;padding-bottom: 0.4em;background-color: white;}#sk-container-id-3 div.sk-label label {font-family: monospace;font-weight: bold;display: inline-block;line-height: 1.2em;}#sk-container-id-3 div.sk-label-container {text-align: center;}#sk-container-id-3 div.sk-container {/* jupyter's `normalize.less` sets `[hidden] { display: none; }` but bootstrap.min.css set `[hidden] { display: none !important; }` so we also need the `!important` here to be able to override the default hidden behavior on the sphinx rendered scikit-learn.org. See: https://github.com/scikit-learn/scikit-learn/issues/21755 */display: inline-block !important;position: relative;}#sk-container-id-3 div.sk-text-repr-fallback {display: none;}</style><div id=\"sk-container-id-3\" class=\"sk-top-container\"><div class=\"sk-text-repr-fallback\"><pre>RandomForestClassifier(max_depth=100, min_samples_split=10, n_estimators=200,\n",
              "                       random_state=42)</pre><b>In a Jupyter environment, please rerun this cell to show the HTML representation or trust the notebook. <br />On GitHub, the HTML representation is unable to render, please try loading this page with nbviewer.org.</b></div><div class=\"sk-container\" hidden><div class=\"sk-item\"><div class=\"sk-estimator sk-toggleable\"><input class=\"sk-toggleable__control sk-hidden--visually\" id=\"sk-estimator-id-3\" type=\"checkbox\" checked><label for=\"sk-estimator-id-3\" class=\"sk-toggleable__label sk-toggleable__label-arrow\">RandomForestClassifier</label><div class=\"sk-toggleable__content\"><pre>RandomForestClassifier(max_depth=100, min_samples_split=10, n_estimators=200,\n",
              "                       random_state=42)</pre></div></div></div></div></div>"
            ]
          },
          "metadata": {},
          "execution_count": 51
        }
      ]
    },
    {
      "cell_type": "code",
      "source": [
        "y_valid_pred_label_2 = best_rf_model_label_2.predict(x_label_2_valid_subset)\n",
        "eval_model(y_label_2_valid_subset, y_valid_pred_label_2)"
      ],
      "metadata": {
        "colab": {
          "base_uri": "https://localhost:8080/"
        },
        "id": "xMpbR3zSQWsc",
        "outputId": "ded4f683-0fe6-4302-e02d-68198de965d3"
      },
      "execution_count": null,
      "outputs": [
        {
          "output_type": "stream",
          "name": "stdout",
          "text": [
            "Accuracy:      0.9515\n",
            "F1 Score:      0.9509\n"
          ]
        },
        {
          "output_type": "execute_result",
          "data": {
            "text/plain": [
              "0.9509278752114559"
            ]
          },
          "metadata": {},
          "execution_count": 49
        }
      ]
    },
    {
      "cell_type": "code",
      "source": [
        "y_test_pred_label_2 = best_rf_model_label_2.predict(x_test_label_2_selected)\n",
        "create_csv(y_test_pred_label_2, \"label_2\")"
      ],
      "metadata": {
        "id": "lEwxPNIt4WeR"
      },
      "execution_count": null,
      "outputs": []
    },
    {
      "cell_type": "markdown",
      "source": [
        "#Label 3"
      ],
      "metadata": {
        "id": "WU04ohcv4Sjm"
      }
    },
    {
      "cell_type": "code",
      "source": [
        "x_label_3 = train.iloc[:, : -4]\n",
        "y_label_3 = train[\"label_3\"]\n",
        "x_valid_label_3 = valid.iloc[:, : -4]\n",
        "y_valid_label_3 = valid[\"label_3\"]\n",
        "x_test_label_3 = test.iloc[:, 1:]"
      ],
      "metadata": {
        "id": "w9g8OMfz4UXY"
      },
      "execution_count": null,
      "outputs": []
    },
    {
      "cell_type": "markdown",
      "source": [
        "##Class Distribution"
      ],
      "metadata": {
        "id": "362XVK5-4exD"
      }
    },
    {
      "cell_type": "code",
      "source": [
        "plot_class_distribution(y_label_3)"
      ],
      "metadata": {
        "id": "GKI9nK4U4hOu",
        "colab": {
          "base_uri": "https://localhost:8080/",
          "height": 566
        },
        "outputId": "0e475f20-e848-4c57-e398-253317d43161"
      },
      "execution_count": null,
      "outputs": [
        {
          "output_type": "display_data",
          "data": {
            "text/plain": [
              "<Figure size 1200x600 with 1 Axes>"
            ],
            "image/png": "[encoded data removed]"
          },
          "metadata": {}
        }
      ]
    },
    {
      "cell_type": "markdown",
      "source": [
        "This dataset is also imbalanced. Using SMOTE."
      ],
      "metadata": {
        "id": "iPWjZMEX6K78"
      }
    },
    {
      "cell_type": "code",
      "source": [
        "smote = SMOTE(sampling_strategy='auto', random_state=42)\n",
        "x_label_3_resampled, y_label_3_resampled = smote.fit_resample(x_label_3, y_label_3)"
      ],
      "metadata": {
        "id": "aGVuOlbE6Vph"
      },
      "execution_count": null,
      "outputs": []
    },
    {
      "cell_type": "code",
      "source": [
        "plot_class_distribution(y_label_3_resampled)"
      ],
      "metadata": {
        "id": "y_kD5HA26epB",
        "colab": {
          "base_uri": "https://localhost:8080/",
          "height": 566
        },
        "outputId": "3e4d40d3-66c9-4e9c-f5d1-f13463056d06"
      },
      "execution_count": null,
      "outputs": [
        {
          "output_type": "display_data",
          "data": {
            "text/plain": [
              "<Figure size 1200x600 with 1 Axes>"
            ],
            "image/png": "[encoded data removed]"
          },
          "metadata": {}
        }
      ]
    },
    {
      "cell_type": "markdown",
      "source": [
        "##Feature Selection\n",
        "\n",
        "###Correlation"
      ],
      "metadata": {
        "id": "4qc_F4Yk6rMK"
      }
    },
    {
      "cell_type": "code",
      "source": [
        "x_label_3_resampled = x_label_3_resampled.drop(corr, axis = 1)\n",
        "x_valid_label_3 = x_valid_label_3.drop(corr, axis = 1)\n",
        "x_test_label_3 = x_test_label_3.drop(corr, axis = 1)"
      ],
      "metadata": {
        "id": "AAid4zEC6smY"
      },
      "execution_count": null,
      "outputs": []
    },
    {
      "cell_type": "markdown",
      "source": [
        "###Mutual Information Classification"
      ],
      "metadata": {
        "id": "ngsYkBgl62R4"
      }
    },
    {
      "cell_type": "code",
      "source": [
        "mi_label_3 = plot_mi(x_label_3_resampled, y_label_3_resampled)"
      ],
      "metadata": {
        "id": "F18xfETr645N",
        "colab": {
          "base_uri": "https://localhost:8080/",
          "height": 709
        },
        "outputId": "81e8fc09-0395-4928-997d-bd44fc7ec5a1"
      },
      "execution_count": null,
      "outputs": [
        {
          "output_type": "display_data",
          "data": {
            "text/plain": [
              "<Figure size 3200x1200 with 1 Axes>"
            ],
            "image/png": "[encoded data removed]"
          },
          "metadata": {}
        }
      ]
    },
    {
      "cell_type": "markdown",
      "source": [
        "Observing the graph, drop the features with mutual information score less than to 0.015."
      ],
      "metadata": {
        "id": "03aAEUNm8LH_"
      }
    },
    {
      "cell_type": "code",
      "source": [
        "selected_col_names_label_3 = feature_selection_mi(mi_label_3, x_label_3_resampled, 0.015)"
      ],
      "metadata": {
        "id": "iVA1ZCA67C01",
        "colab": {
          "base_uri": "https://localhost:8080/"
        },
        "outputId": "0f96e32f-c59c-4f8a-be9d-841f84c507ee"
      },
      "execution_count": null,
      "outputs": [
        {
          "output_type": "stream",
          "name": "stdout",
          "text": [
            "Selected 212 features out of 698 features.\n",
            "Index(['feature_129', 'feature_242', 'feature_467', 'feature_307',\n",
            "       'feature_443', 'feature_472', 'feature_75', 'feature_258',\n",
            "       'feature_236', 'feature_659',\n",
            "       ...\n",
            "       'feature_642', 'feature_66', 'feature_64', 'feature_123', 'feature_706',\n",
            "       'feature_23', 'feature_712', 'feature_462', 'feature_266',\n",
            "       'feature_164'],\n",
            "      dtype='object', length=212)\n"
          ]
        }
      ]
    },
    {
      "cell_type": "code",
      "source": [
        "x_label_3_selected = pd.DataFrame(x_label_3_resampled, columns = selected_col_names_label_3)\n",
        "x_valid_label_3_selected = pd.DataFrame(x_valid_label_3, columns = selected_col_names_label_3)\n",
        "x_test_label_3_selected = pd.DataFrame(x_test_label_3, columns = selected_col_names_label_3)"
      ],
      "metadata": {
        "id": "VERsZoN67Hco"
      },
      "execution_count": null,
      "outputs": []
    },
    {
      "cell_type": "markdown",
      "source": [
        "##Modeling\n",
        "\n",
        "###KNN Model"
      ],
      "metadata": {
        "id": "Vmo4UEy17W1Z"
      }
    },
    {
      "cell_type": "code",
      "source": [
        "label_3_scores = []"
      ],
      "metadata": {
        "id": "LP_2mHJj7kq5"
      },
      "execution_count": null,
      "outputs": []
    },
    {
      "cell_type": "code",
      "source": [
        "knn_label_3, f_score_knn_label_3 = knn_model(x_label_3_selected, y_label_3_resampled, x_valid_label_3_selected, y_valid_label_3, 13)\n",
        "avg_f1_score_knn_label_3 = f_score_knn_label_3.mean()\n",
        "print(f\"\\nAverage F1 score of KNN cross validation: {avg_f1_score_knn_label_3}.\")\n",
        "label_3_scores.append([knn_label_3, \"KNN\", avg_f1_score_knn_label_3])"
      ],
      "metadata": {
        "id": "jaAQQsH77nKK",
        "colab": {
          "base_uri": "https://localhost:8080/"
        },
        "outputId": "dc4a694d-1e2b-4187-b879-89e04d7e1ae3"
      },
      "execution_count": null,
      "outputs": [
        {
          "output_type": "stream",
          "name": "stdout",
          "text": [
            "Accuracy:      0.9003\n",
            "F1 Score:      0.8995\n",
            "Accuracy:      0.9156\n",
            "F1 Score:      0.9150\n",
            "Accuracy:      0.8936\n",
            "F1 Score:      0.8925\n",
            "Accuracy:      0.9103\n",
            "F1 Score:      0.9096\n",
            "Accuracy:      0.9435\n",
            "F1 Score:      0.9434\n",
            "\n",
            "Validation:\n",
            "Accuracy:      0.5907\n",
            "F1 Score:      0.6307\n",
            "\n",
            "Average F1 score of KNN cross validation: 0.9119999614843557.\n"
          ]
        }
      ]
    },
    {
      "cell_type": "markdown",
      "source": [
        "###Random Forest Model"
      ],
      "metadata": {
        "id": "QlKSmf8k722D"
      }
    },
    {
      "cell_type": "code",
      "source": [
        "rf_label_3, f_score_rf_label_3 = rf_model(x_label_3_selected, y_label_3_resampled, x_valid_label_3_selected, y_valid_label_3, 100, 42)\n",
        "avg_f1_score_rf_label_3 = f_score_rf_label_3.mean()\n",
        "print(f\"\\nAverage F1 score of RF cross validation: {avg_f1_score_rf_label_3}.\")\n",
        "label_3_scores.append([rf_label_3, \"Random Forest\", avg_f1_score_rf_label_3])"
      ],
      "metadata": {
        "id": "oLdU_tRo75Yg",
        "colab": {
          "base_uri": "https://localhost:8080/"
        },
        "outputId": "01e67648-652d-40d3-f884-e4adb7d4e5e7"
      },
      "execution_count": null,
      "outputs": [
        {
          "output_type": "stream",
          "name": "stdout",
          "text": [
            "Accuracy:      0.9807\n",
            "F1 Score:      0.9807\n",
            "Accuracy:      0.9918\n",
            "F1 Score:      0.9918\n",
            "Accuracy:      0.9883\n",
            "F1 Score:      0.9883\n",
            "Accuracy:      0.9918\n",
            "F1 Score:      0.9918\n",
            "Accuracy:      0.9978\n",
            "F1 Score:      0.9978\n",
            "\n",
            "Validation:\n",
            "Accuracy:      0.7440\n",
            "F1 Score:      0.7460\n",
            "\n",
            "Average F1 score of RF cross validation: 0.9900639318988478.\n"
          ]
        }
      ]
    },
    {
      "cell_type": "markdown",
      "source": [
        "###XG Boost Model"
      ],
      "metadata": {
        "id": "5EtGAKjI8hbE"
      }
    },
    {
      "cell_type": "code",
      "source": [
        "label_3_encoder = LabelEncoder()\n",
        "y_label_3_encoded = label_3_encoder.fit_transform(y_label_3_resampled.copy(deep = True))\n",
        "y_valid_label_3_encoded = label_3_encoder.transform(y_valid_label_3.copy(deep = True))"
      ],
      "metadata": {
        "id": "XhrTSY5zi-dn"
      },
      "execution_count": null,
      "outputs": []
    },
    {
      "cell_type": "code",
      "source": [
        "xgb_label_3, f_score_xgb_label_3 = xgb_model_gpu(x_label_3_selected, y_label_3_encoded, x_valid_label_3_selected, y_valid_label_3_encoded, 50, 42)\n",
        "avg_f1_score_xgb_label_3 = f_score_xgb_label_3.mean()\n",
        "print(f\"\\nAverage F1 score of XGB cross validation: {avg_f1_score_xgb_label_3}.\")\n",
        "label_3_scores.append([xgb_label_3, \"XGBoost\", avg_f1_score_xgb_label_3])"
      ],
      "metadata": {
        "id": "fmtUQ79G8kUD"
      },
      "execution_count": null,
      "outputs": []
    },
    {
      "cell_type": "markdown",
      "source": [
        "###SVM Model"
      ],
      "metadata": {
        "id": "B1m26q5e8124"
      }
    },
    {
      "cell_type": "code",
      "source": [
        "kernels = [\"linear\", \"rbf\", \"poly\"]\n",
        "\n",
        "for i in range(3):\n",
        "  kernel = kernels[i]\n",
        "  Kernel = kernel.capitalize()\n",
        "  print(Kernel)\n",
        "  svm, f_sc = svm_model(x_label_3_selected, y_label_3_resampled, x_valid_label_3_selected, y_valid_label_3, kernel)\n",
        "  avg_f_sc = f_sc.mean()\n",
        "  print(f\"\\nAverage F1 score of SVM {Kernel} cross validation: {avg_f_sc}.\")\n",
        "  label_3_scores.append([svm, f\"SVM {Kernel}\", avg_f_sc])\n",
        "  if (i!= 2): print()"
      ],
      "metadata": {
        "id": "d2ItBb229IVb",
        "colab": {
          "base_uri": "https://localhost:8080/"
        },
        "outputId": "910c6e0f-51d0-4943-8a8c-32ad1c12b896"
      },
      "execution_count": null,
      "outputs": [
        {
          "output_type": "stream",
          "name": "stdout",
          "text": [
            "Linear\n",
            "Accuracy:      0.9729\n",
            "F1 Score:      0.9729\n",
            "Accuracy:      0.9842\n",
            "F1 Score:      0.9842\n",
            "Accuracy:      0.9804\n",
            "F1 Score:      0.9804\n",
            "Accuracy:      0.9780\n",
            "F1 Score:      0.9780\n",
            "Accuracy:      0.9913\n",
            "F1 Score:      0.9913\n",
            "\n",
            "Validation:\n",
            "Accuracy:      0.8027\n",
            "F1 Score:      0.8162\n",
            "\n",
            "Average F1 score of SVM Linear cross validation: 0.9813552634377226.\n",
            "\n",
            "Rbf\n",
            "Accuracy:      0.9788\n",
            "F1 Score:      0.9788\n",
            "Accuracy:      0.9889\n",
            "F1 Score:      0.9889\n",
            "Accuracy:      0.9878\n",
            "F1 Score:      0.9878\n",
            "Accuracy:      0.9874\n",
            "F1 Score:      0.9874\n",
            "Accuracy:      0.9956\n",
            "F1 Score:      0.9956\n",
            "\n",
            "Validation:\n",
            "Accuracy:      0.8107\n",
            "F1 Score:      0.7259\n",
            "\n",
            "Average F1 score of SVM Rbf cross validation: 0.987716938633271.\n",
            "\n",
            "Poly\n",
            "Accuracy:      0.9762\n",
            "F1 Score:      0.9762\n",
            "Accuracy:      0.9873\n",
            "F1 Score:      0.9873\n",
            "Accuracy:      0.9853\n",
            "F1 Score:      0.9853\n",
            "Accuracy:      0.9826\n",
            "F1 Score:      0.9826\n",
            "Accuracy:      0.9952\n",
            "F1 Score:      0.9952\n",
            "\n",
            "Validation:\n",
            "Accuracy:      0.6813\n",
            "F1 Score:      0.7158\n",
            "\n",
            "Average F1 score of SVM Poly cross validation: 0.9853034873201917.\n"
          ]
        }
      ]
    },
    {
      "cell_type": "markdown",
      "source": [
        "###Final Model"
      ],
      "metadata": {
        "id": "w0H9BDKpCYSK"
      }
    },
    {
      "cell_type": "code",
      "source": [
        "for score in label_3_scores:\n",
        "  print(score[1:])"
      ],
      "metadata": {
        "id": "LoafKEGTCZ2I",
        "colab": {
          "base_uri": "https://localhost:8080/"
        },
        "outputId": "cd770ac9-2887-493e-d86b-ef4e9080514e"
      },
      "execution_count": null,
      "outputs": [
        {
          "output_type": "stream",
          "name": "stdout",
          "text": [
            "['KNN', 0.9119999614843557]\n",
            "['Random Forest', 0.9900639318988478]\n",
            "['SVM Linear', 0.9813552634377226]\n",
            "['SVM Rbf', 0.987716938633271]\n",
            "['SVM Poly', 0.9853034873201917]\n"
          ]
        }
      ]
    },
    {
      "cell_type": "code",
      "source": [
        "final_model_label_3, final_model_label_3_name, final_model_label_3_f1_score = get_best_model(label_3_scores)\n",
        "print(f\"Selected {final_model_label_3_name} with cross validation score of {final_model_label_3_f1_score}.\")"
      ],
      "metadata": {
        "id": "xoogBoxHCbIB",
        "colab": {
          "base_uri": "https://localhost:8080/"
        },
        "outputId": "a3206b24-10b1-4a9b-d4e2-a4f05403090c"
      },
      "execution_count": null,
      "outputs": [
        {
          "output_type": "stream",
          "name": "stdout",
          "text": [
            "Selected Random Forest with cross validation score of 0.9900639318988478.\n"
          ]
        }
      ]
    },
    {
      "cell_type": "code",
      "source": [
        "y_test_pred_label_3 = final_model_label_3.predict(x_test_label_3_selected)\n",
        "create_csv(y_test_pred_label_3, \"label_3\")"
      ],
      "metadata": {
        "id": "WYr4JEr14SYE"
      },
      "execution_count": null,
      "outputs": []
    },
    {
      "cell_type": "markdown",
      "source": [
        "#Label 4"
      ],
      "metadata": {
        "id": "oUy9CE8q9hTK"
      }
    },
    {
      "cell_type": "code",
      "source": [
        "x_label_4 = train.iloc[:, : -4]\n",
        "y_label_4 = train[\"label_4\"]\n",
        "x_valid_label_4 = valid.iloc[:, : -4]\n",
        "y_valid_label_4 = valid[\"label_4\"]\n",
        "x_test_label_4 = test.iloc[:, 1:]"
      ],
      "metadata": {
        "id": "vPvluPGM9jf_"
      },
      "execution_count": null,
      "outputs": []
    },
    {
      "cell_type": "markdown",
      "source": [
        "##Class Distribution"
      ],
      "metadata": {
        "id": "UytTxJxY9tIz"
      }
    },
    {
      "cell_type": "code",
      "source": [
        "plot_class_distribution(y_label_4)"
      ],
      "metadata": {
        "id": "Gp2X85ls9sDi",
        "colab": {
          "base_uri": "https://localhost:8080/",
          "height": 573
        },
        "outputId": "f2ee626f-e72f-41e3-d3db-83ec35c43395"
      },
      "execution_count": null,
      "outputs": [
        {
          "output_type": "display_data",
          "data": {
            "text/plain": [
              "<Figure size 1200x600 with 1 Axes>"
            ],
            "image/png": "[encoded data removed]"
          },
          "metadata": {}
        }
      ]
    },
    {
      "cell_type": "markdown",
      "source": [
        "Dataset is imbalanced. Using SMOTE."
      ],
      "metadata": {
        "id": "CBFk6rYN97qv"
      }
    },
    {
      "cell_type": "code",
      "source": [
        "smote = SMOTE(sampling_strategy='auto', random_state=42)\n",
        "x_label_4_resampled, y_label_4_resampled = smote.fit_resample(x_label_4, y_label_4)"
      ],
      "metadata": {
        "id": "XiFYFF7L9671"
      },
      "execution_count": null,
      "outputs": []
    },
    {
      "cell_type": "code",
      "source": [
        "plot_class_distribution(y_label_4_resampled)"
      ],
      "metadata": {
        "id": "UPoU8NDC-Skt",
        "colab": {
          "base_uri": "https://localhost:8080/",
          "height": 573
        },
        "outputId": "a4ffbd04-e2ad-4384-cdab-40ddecdd0d9d"
      },
      "execution_count": null,
      "outputs": [
        {
          "output_type": "display_data",
          "data": {
            "text/plain": [
              "<Figure size 1200x600 with 1 Axes>"
            ],
            "image/png": "[encoded data removed]"
          },
          "metadata": {}
        }
      ]
    },
    {
      "cell_type": "markdown",
      "source": [
        "##Feature Selection\n",
        "\n",
        "###Correlation"
      ],
      "metadata": {
        "id": "3K_qv11E-ben"
      }
    },
    {
      "cell_type": "code",
      "source": [
        "x_label_4_resampled = x_label_4_resampled.drop(corr, axis = 1)\n",
        "x_valid_label_4 = x_valid_label_4.drop(corr, axis = 1)\n",
        "x_test_label_4 = x_test_label_4.drop(corr, axis = 1)"
      ],
      "metadata": {
        "id": "ZAr22HT5-e0x"
      },
      "execution_count": null,
      "outputs": []
    },
    {
      "cell_type": "markdown",
      "source": [
        "###Mutual Information Classification\n",
        "\n",
        "Since now there is a large number of data points after SMOTE resampling, mutual information classification took a lot of time. Therefore, it was not used.\n",
        "\n",
        "\n",
        "###Principal Component Analysis"
      ],
      "metadata": {
        "id": "zki0O6PgISbZ"
      }
    },
    {
      "cell_type": "code",
      "source": [
        "from sklearn.decomposition import PCA\n",
        "\n",
        "pca = PCA(n_components = 0.95, svd_solver = 'full')\n",
        "pca.fit(x_label_4_resampled)\n",
        "x_label_4_selected = pd.DataFrame(pca.transform(x_label_4_resampled))\n",
        "x_valid_label_4_selected = pd.DataFrame(pca.transform(x_valid_label_4))\n",
        "x_test_label_4_selected = pd.DataFrame(pca.transform(x_test_label_4))\n",
        "x_label_4_selected.shape"
      ],
      "metadata": {
        "id": "sWNYNd_9Htw8",
        "colab": {
          "base_uri": "https://localhost:8080/"
        },
        "outputId": "ef139cdf-e72a-4db7-f999-d133b5a5c38f"
      },
      "execution_count": null,
      "outputs": [
        {
          "output_type": "execute_result",
          "data": {
            "text/plain": [
              "(279132, 83)"
            ]
          },
          "metadata": {},
          "execution_count": 62
        }
      ]
    },
    {
      "cell_type": "markdown",
      "source": [
        "##Modelling\n",
        "\n",
        "###KNN Model"
      ],
      "metadata": {
        "id": "pvacm6h9BRQR"
      }
    },
    {
      "cell_type": "code",
      "source": [
        "label_4_scores = []"
      ],
      "metadata": {
        "id": "h262GPTzBMu4"
      },
      "execution_count": null,
      "outputs": []
    },
    {
      "cell_type": "code",
      "source": [
        "knn_label_4, f_score_knn_label_4 = knn_model(x_label_4_selected, y_label_4_resampled, x_valid_label_4_selected, y_valid_label_4, 13)\n",
        "avg_f1_score_knn_label_4 = f_score_knn_label_4.mean()\n",
        "print(f\"\\nAverage F1 score of KNN cross validation: {avg_f1_score_knn_label_4}.\")\n",
        "label_4_scores.append([knn_label_4, \"KNN\", avg_f1_score_knn_label_4])"
      ],
      "metadata": {
        "id": "-01ATfBNBUWC",
        "colab": {
          "base_uri": "https://localhost:8080/"
        },
        "outputId": "1b420404-0ef5-4367-939b-35ffcf196444"
      },
      "execution_count": null,
      "outputs": [
        {
          "output_type": "stream",
          "name": "stdout",
          "text": [
            "Accuracy:      0.9452\n",
            "F1 Score:      0.9303\n",
            "Accuracy:      0.9401\n",
            "F1 Score:      0.9206\n",
            "Accuracy:      0.9388\n",
            "F1 Score:      0.9181\n",
            "Accuracy:      0.9403\n",
            "F1 Score:      0.9209\n",
            "Accuracy:      0.9368\n",
            "F1 Score:      0.9141\n",
            "\n",
            "Validation:\n",
            "Accuracy:      0.2640\n",
            "F1 Score:      0.3170\n",
            "\n",
            "Average F1 score of KNN cross validation: 0.9207740866521199.\n"
          ]
        }
      ]
    },
    {
      "cell_type": "markdown",
      "source": [
        "###Random Forest Model"
      ],
      "metadata": {
        "id": "-fyipf8RBmH1"
      }
    },
    {
      "cell_type": "code",
      "source": [
        "rf_label_4, f_score_rf_label_4 = rf_model(x_label_4_selected, y_label_4_resampled, x_valid_label_4_selected, y_valid_label_4, 100, 42)\n",
        "avg_f1_score_rf_label_4 = f_score_rf_label_4.mean()\n",
        "print(f\"\\nAverage F1 score of RF cross validation: {avg_f1_score_rf_label_4}.\")\n",
        "label_4_scores.append([rf_label_4, \"Random Forest\", avg_f1_score_rf_label_4])"
      ],
      "metadata": {
        "id": "DoOgK2l-BpRD",
        "colab": {
          "base_uri": "https://localhost:8080/"
        },
        "outputId": "f73ffcf3-5951-429a-901c-1c408e8b7c04"
      },
      "execution_count": null,
      "outputs": [
        {
          "output_type": "stream",
          "name": "stdout",
          "text": [
            "Accuracy:      0.9973\n",
            "F1 Score:      0.9973\n",
            "Accuracy:      0.9946\n",
            "F1 Score:      0.9946\n",
            "Accuracy:      0.9955\n",
            "F1 Score:      0.9954\n",
            "Accuracy:      0.9956\n",
            "F1 Score:      0.9955\n",
            "Accuracy:      0.9949\n",
            "F1 Score:      0.9948\n",
            "\n",
            "Validation:\n",
            "Accuracy:      0.7173\n",
            "F1 Score:      0.6069\n",
            "\n",
            "Average F1 score of RF cross validation: 0.9955298846861069.\n"
          ]
        }
      ]
    },
    {
      "cell_type": "markdown",
      "source": [
        "###XG Boost Model"
      ],
      "metadata": {
        "id": "w1so_8teB9t2"
      }
    },
    {
      "cell_type": "code",
      "source": [
        "label_4_encoder = LabelEncoder()\n",
        "y_label_4_encoded = label_4_encoder.fit_transform(y_label_4_resampled.copy(deep = True))\n",
        "y_valid_label_4_encoded = label_4_encoder.transform(y_valid_label_4.copy(deep = True))"
      ],
      "metadata": {
        "id": "cIFpxJsqjMH7"
      },
      "execution_count": null,
      "outputs": []
    },
    {
      "cell_type": "code",
      "source": [
        "xgb_label_4, f_score_xgb_label_4 = xgb_model_gpu(x_label_4_selected, y_label_4_encoded, x_valid_label_4_selected, y_valid_label_4_encoded, 50, 42)\n",
        "avg_f1_score_xgb_label_4 = f_score_xgb_label_4.mean()\n",
        "print(f\"\\nAverage F1 score of XGB cross validation: {avg_f1_score_xgb_label_4}.\")\n",
        "label_4_scores.append([xgb_label_4, \"XGBoost\", avg_f1_score_xgb_label_4])"
      ],
      "metadata": {
        "id": "nW3-Dw2kB_h_"
      },
      "execution_count": null,
      "outputs": []
    },
    {
      "cell_type": "markdown",
      "source": [
        "###SVM Model"
      ],
      "metadata": {
        "id": "lg5lb8xdCMo5"
      }
    },
    {
      "cell_type": "code",
      "source": [
        "kernels = [\"linear\", \"rbf\", \"poly\"]\n",
        "\n",
        "for i in range(3):\n",
        "  kernel = kernels[i]\n",
        "  Kernel = kernel.capitalize()\n",
        "  print(Kernel)\n",
        "  svm, f_sc = svm_model(x_label_4_selected, y_label_4_resampled, x_valid_label_4_selected, y_valid_label_4, kernel)\n",
        "  avg_f_sc = f_sc.mean()\n",
        "  print(f\"\\nAverage F1 score of SVM {Kernel} cross validation: {avg_f_sc}.\")\n",
        "  label_4_scores.append([svm, f\"SVM {Kernel}\", avg_f_sc])\n",
        "  if (i!= 2): print()"
      ],
      "metadata": {
        "id": "1FGhuMoJCOIh"
      },
      "execution_count": null,
      "outputs": []
    },
    {
      "cell_type": "markdown",
      "source": [
        "###Final Model"
      ],
      "metadata": {
        "id": "7G_32TA4Ckw1"
      }
    },
    {
      "cell_type": "code",
      "source": [
        "for score in label_4_scores:\n",
        "  print(score[1:])"
      ],
      "metadata": {
        "id": "gmTI22g-CpEJ",
        "colab": {
          "base_uri": "https://localhost:8080/"
        },
        "outputId": "8ddb1835-388f-41c2-d6ac-d2777b9bc89e"
      },
      "execution_count": null,
      "outputs": [
        {
          "output_type": "stream",
          "name": "stdout",
          "text": [
            "['KNN', 0.9207740866521199]\n",
            "['Random Forest', 0.9955298846861069]\n"
          ]
        }
      ]
    },
    {
      "cell_type": "code",
      "source": [
        "final_model_label_4, final_model_label_4_name, final_model_label_4_f1_score = get_best_model(label_4_scores)\n",
        "print(f\"Selected {final_model_label_4_name} with cross validation score of {final_model_label_4_f1_score}.\")\n"
      ],
      "metadata": {
        "id": "fWXMdRrmCjYk",
        "colab": {
          "base_uri": "https://localhost:8080/"
        },
        "outputId": "d1b606ea-3f09-408c-89b8-0e2d3eaafa61"
      },
      "execution_count": null,
      "outputs": [
        {
          "output_type": "stream",
          "name": "stdout",
          "text": [
            "Selected Random Forest with cross validation score of 0.9955298846861069.\n"
          ]
        }
      ]
    },
    {
      "cell_type": "code",
      "source": [
        "y_test_pred_label_4 = final_model_label_4.predict(x_test_label_4_selected)\n",
        "create_csv(y_test_pred_label_4, \"label_4\")"
      ],
      "metadata": {
        "id": "DMxhRL7ZlNkE"
      },
      "execution_count": null,
      "outputs": []
    },
    {
      "cell_type": "code",
      "source": [
        "output_filename = f\"/content/drive/My Drive/Semester7/ML/Project/Layer_12/Results/final.csv\"\n",
        "final_combined_data = pd.DataFrame()\n",
        "final_combined_data[\"ID\"] = test[\"ID\"]\n",
        "for i in range(1, 5):\n",
        "  label_name = f\"label_{i}\"\n",
        "  final_combined_data[label_name] = pd.read_csv(f\"/content/drive/My Drive/Semester7/ML/Project/Layer_12/Results/{label_name}.csv\")[label_name]\n",
        "final_combined_data.to_csv(output_filename, index=False)"
      ],
      "metadata": {
        "id": "BzJMU1_NScsX"
      },
      "execution_count": null,
      "outputs": []
    }
  ],
  "metadata": {
    "colab": {
      "provenance": []
    },
    "kernelspec": {
      "display_name": "Python 3",
      "name": "python3"
    },
    "language_info": {
      "name": "python"
    }
  },
  "nbformat": 4,
  "nbformat_minor": 0
}