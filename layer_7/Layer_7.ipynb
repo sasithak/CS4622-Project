{
  "cells": [
    {
      "cell_type": "code",
      "execution_count": null,
      "metadata": {
        "id": "IdL3rgQ174AB"
      },
      "outputs": [],
      "source": [
        "# Loading data\n",
        "import pandas as pd\n",
        "train = pd.read_csv(\"/content/drive/My Drive/Semester7/ML/Project/Layer_7/train.csv\")\n",
        "valid = pd.read_csv(\"/content/drive/My Drive/Semester7/ML/Project/Layer_7/valid.csv\")\n",
        "test = pd.read_csv(\"/content/drive/My Drive/Semester7/ML/Project/Layer_7/test.csv\")"
      ]
    },
    {
      "cell_type": "code",
      "execution_count": null,
      "metadata": {
        "colab": {
          "base_uri": "https://localhost:8080/",
          "height": 256
        },
        "id": "5y_TJpc98RJX",
        "outputId": "423f2bea-86ca-430d-ba01-d26ec75ee839"
      },
      "outputs": [
        {
          "output_type": "execute_result",
          "data": {
            "text/plain": [
              "   feature_1  feature_2  feature_3  feature_4  feature_5  feature_6  \\\n",
              "0   0.186257  -0.058807   0.024632  -0.163933  -0.146699   0.035889   \n",
              "1   0.063431  -0.023597   0.068057  -0.252915  -0.061094  -0.027316   \n",
              "2   0.034962   0.035816  -0.029753  -0.094607  -0.017576  -0.053074   \n",
              "3   0.033772   0.085612   0.067488  -0.073953  -0.180646  -0.024512   \n",
              "4   0.134305   0.062096   0.106920  -0.089327   0.117093  -0.077107   \n",
              "\n",
              "   feature_7  feature_8  feature_9  feature_10  ...  feature_763  feature_764  \\\n",
              "0   0.111708  -0.162861   0.028249   -0.098063  ...     0.055629    -0.010358   \n",
              "1   0.135747  -0.168147   0.091236   -0.078473  ...    -0.014893     0.071721   \n",
              "2   0.040121  -0.007932   0.097872   -0.024042  ...     0.012415     0.015215   \n",
              "3   0.242879  -0.023374  -0.059999    0.002006  ...    -0.078246    -0.032903   \n",
              "4   0.152579   0.047529  -0.015998   -0.110657  ...    -0.094629     0.069718   \n",
              "\n",
              "   feature_765  feature_766  feature_767  feature_768  label_1  label_2  \\\n",
              "0     0.125754     0.011648     0.079197     0.093215       45      NaN   \n",
              "1     0.018918     0.100032    -0.083042     0.088615       45      NaN   \n",
              "2     0.083808     0.031312    -0.056277     0.064702       45      NaN   \n",
              "3     0.082949    -0.020659     0.082274    -0.050164       45      NaN   \n",
              "4     0.014379     0.048124     0.007586    -0.016980       45      NaN   \n",
              "\n",
              "   label_3  label_4  \n",
              "0        1        6  \n",
              "1        1        6  \n",
              "2        1        6  \n",
              "3        1        6  \n",
              "4        1        6  \n",
              "\n",
              "[5 rows x 772 columns]"
            ],
            "text/html": [
              "\n",
              "  <div id=\"df-c7770b93-e719-4960-aefc-07afd3a543ae\" class=\"colab-df-container\">\n",
              "    <div>\n",
              "<style scoped>\n",
              "    .dataframe tbody tr th:only-of-type {\n",
              "        vertical-align: middle;\n",
              "    }\n",
              "\n",
              "    .dataframe tbody tr th {\n",
              "        vertical-align: top;\n",
              "    }\n",
              "\n",
              "    .dataframe thead th {\n",
              "        text-align: right;\n",
              "    }\n",
              "</style>\n",
              "<table border=\"1\" class=\"dataframe\">\n",
              "  <thead>\n",
              "    <tr style=\"text-align: right;\">\n",
              "      <th></th>\n",
              "      <th>feature_1</th>\n",
              "      <th>feature_2</th>\n",
              "      <th>feature_3</th>\n",
              "      <th>feature_4</th>\n",
              "      <th>feature_5</th>\n",
              "      <th>feature_6</th>\n",
              "      <th>feature_7</th>\n",
              "      <th>feature_8</th>\n",
              "      <th>feature_9</th>\n",
              "      <th>feature_10</th>\n",
              "      <th>...</th>\n",
              "      <th>feature_763</th>\n",
              "      <th>feature_764</th>\n",
              "      <th>feature_765</th>\n",
              "      <th>feature_766</th>\n",
              "      <th>feature_767</th>\n",
              "      <th>feature_768</th>\n",
              "      <th>label_1</th>\n",
              "      <th>label_2</th>\n",
              "      <th>label_3</th>\n",
              "      <th>label_4</th>\n",
              "    </tr>\n",
              "  </thead>\n",
              "  <tbody>\n",
              "    <tr>\n",
              "      <th>0</th>\n",
              "      <td>0.186257</td>\n",
              "      <td>-0.058807</td>\n",
              "      <td>0.024632</td>\n",
              "      <td>-0.163933</td>\n",
              "      <td>-0.146699</td>\n",
              "      <td>0.035889</td>\n",
              "      <td>0.111708</td>\n",
              "      <td>-0.162861</td>\n",
              "      <td>0.028249</td>\n",
              "      <td>-0.098063</td>\n",
              "      <td>...</td>\n",
              "      <td>0.055629</td>\n",
              "      <td>-0.010358</td>\n",
              "      <td>0.125754</td>\n",
              "      <td>0.011648</td>\n",
              "      <td>0.079197</td>\n",
              "      <td>0.093215</td>\n",
              "      <td>45</td>\n",
              "      <td>NaN</td>\n",
              "      <td>1</td>\n",
              "      <td>6</td>\n",
              "    </tr>\n",
              "    <tr>\n",
              "      <th>1</th>\n",
              "      <td>0.063431</td>\n",
              "      <td>-0.023597</td>\n",
              "      <td>0.068057</td>\n",
              "      <td>-0.252915</td>\n",
              "      <td>-0.061094</td>\n",
              "      <td>-0.027316</td>\n",
              "      <td>0.135747</td>\n",
              "      <td>-0.168147</td>\n",
              "      <td>0.091236</td>\n",
              "      <td>-0.078473</td>\n",
              "      <td>...</td>\n",
              "      <td>-0.014893</td>\n",
              "      <td>0.071721</td>\n",
              "      <td>0.018918</td>\n",
              "      <td>0.100032</td>\n",
              "      <td>-0.083042</td>\n",
              "      <td>0.088615</td>\n",
              "      <td>45</td>\n",
              "      <td>NaN</td>\n",
              "      <td>1</td>\n",
              "      <td>6</td>\n",
              "    </tr>\n",
              "    <tr>\n",
              "      <th>2</th>\n",
              "      <td>0.034962</td>\n",
              "      <td>0.035816</td>\n",
              "      <td>-0.029753</td>\n",
              "      <td>-0.094607</td>\n",
              "      <td>-0.017576</td>\n",
              "      <td>-0.053074</td>\n",
              "      <td>0.040121</td>\n",
              "      <td>-0.007932</td>\n",
              "      <td>0.097872</td>\n",
              "      <td>-0.024042</td>\n",
              "      <td>...</td>\n",
              "      <td>0.012415</td>\n",
              "      <td>0.015215</td>\n",
              "      <td>0.083808</td>\n",
              "      <td>0.031312</td>\n",
              "      <td>-0.056277</td>\n",
              "      <td>0.064702</td>\n",
              "      <td>45</td>\n",
              "      <td>NaN</td>\n",
              "      <td>1</td>\n",
              "      <td>6</td>\n",
              "    </tr>\n",
              "    <tr>\n",
              "      <th>3</th>\n",
              "      <td>0.033772</td>\n",
              "      <td>0.085612</td>\n",
              "      <td>0.067488</td>\n",
              "      <td>-0.073953</td>\n",
              "      <td>-0.180646</td>\n",
              "      <td>-0.024512</td>\n",
              "      <td>0.242879</td>\n",
              "      <td>-0.023374</td>\n",
              "      <td>-0.059999</td>\n",
              "      <td>0.002006</td>\n",
              "      <td>...</td>\n",
              "      <td>-0.078246</td>\n",
              "      <td>-0.032903</td>\n",
              "      <td>0.082949</td>\n",
              "      <td>-0.020659</td>\n",
              "      <td>0.082274</td>\n",
              "      <td>-0.050164</td>\n",
              "      <td>45</td>\n",
              "      <td>NaN</td>\n",
              "      <td>1</td>\n",
              "      <td>6</td>\n",
              "    </tr>\n",
              "    <tr>\n",
              "      <th>4</th>\n",
              "      <td>0.134305</td>\n",
              "      <td>0.062096</td>\n",
              "      <td>0.106920</td>\n",
              "      <td>-0.089327</td>\n",
              "      <td>0.117093</td>\n",
              "      <td>-0.077107</td>\n",
              "      <td>0.152579</td>\n",
              "      <td>0.047529</td>\n",
              "      <td>-0.015998</td>\n",
              "      <td>-0.110657</td>\n",
              "      <td>...</td>\n",
              "      <td>-0.094629</td>\n",
              "      <td>0.069718</td>\n",
              "      <td>0.014379</td>\n",
              "      <td>0.048124</td>\n",
              "      <td>0.007586</td>\n",
              "      <td>-0.016980</td>\n",
              "      <td>45</td>\n",
              "      <td>NaN</td>\n",
              "      <td>1</td>\n",
              "      <td>6</td>\n",
              "    </tr>\n",
              "  </tbody>\n",
              "</table>\n",
              "<p>5 rows × 772 columns</p>\n",
              "</div>\n",
              "    <div class=\"colab-df-buttons\">\n",
              "\n",
              "  <div class=\"colab-df-container\">\n",
              "    <button class=\"colab-df-convert\" onclick=\"convertToInteractive('df-c7770b93-e719-4960-aefc-07afd3a543ae')\"\n",
              "            title=\"Convert this dataframe to an interactive table.\"\n",
              "            style=\"display:none;\">\n",
              "\n",
              "  <svg xmlns=\"http://www.w3.org/2000/svg\" height=\"24px\" viewBox=\"0 -960 960 960\">\n",
              "    <path d=\"M120-120v-720h720v720H120Zm60-500h600v-160H180v160Zm220 220h160v-160H400v160Zm0 220h160v-160H400v160ZM180-400h160v-160H180v160Zm440 0h160v-160H620v160ZM180-180h160v-160H180v160Zm440 0h160v-160H620v160Z\"/>\n",
              "  </svg>\n",
              "    </button>\n",
              "\n",
              "  <style>\n",
              "    .colab-df-container {\n",
              "      display:flex;\n",
              "      gap: 12px;\n",
              "    }\n",
              "\n",
              "    .colab-df-convert {\n",
              "      background-color: #E8F0FE;\n",
              "      border: none;\n",
              "      border-radius: 50%;\n",
              "      cursor: pointer;\n",
              "      display: none;\n",
              "      fill: #1967D2;\n",
              "      height: 32px;\n",
              "      padding: 0 0 0 0;\n",
              "      width: 32px;\n",
              "    }\n",
              "\n",
              "    .colab-df-convert:hover {\n",
              "      background-color: #E2EBFA;\n",
              "      box-shadow: 0px 1px 2px rgba(60, 64, 67, 0.3), 0px 1px 3px 1px rgba(60, 64, 67, 0.15);\n",
              "      fill: #174EA6;\n",
              "    }\n",
              "\n",
              "    .colab-df-buttons div {\n",
              "      margin-bottom: 4px;\n",
              "    }\n",
              "\n",
              "    [theme=dark] .colab-df-convert {\n",
              "      background-color: #3B4455;\n",
              "      fill: #D2E3FC;\n",
              "    }\n",
              "\n",
              "    [theme=dark] .colab-df-convert:hover {\n",
              "      background-color: #434B5C;\n",
              "      box-shadow: 0px 1px 3px 1px rgba(0, 0, 0, 0.15);\n",
              "      filter: drop-shadow(0px 1px 2px rgba(0, 0, 0, 0.3));\n",
              "      fill: #FFFFFF;\n",
              "    }\n",
              "  </style>\n",
              "\n",
              "    <script>\n",
              "      const buttonEl =\n",
              "        document.querySelector('#df-c7770b93-e719-4960-aefc-07afd3a543ae button.colab-df-convert');\n",
              "      buttonEl.style.display =\n",
              "        google.colab.kernel.accessAllowed ? 'block' : 'none';\n",
              "\n",
              "      async function convertToInteractive(key) {\n",
              "        const element = document.querySelector('#df-c7770b93-e719-4960-aefc-07afd3a543ae');\n",
              "        const dataTable =\n",
              "          await google.colab.kernel.invokeFunction('convertToInteractive',\n",
              "                                                    [key], {});\n",
              "        if (!dataTable) return;\n",
              "\n",
              "        const docLinkHtml = 'Like what you see? Visit the ' +\n",
              "          '<a target=\"_blank\" href=https://colab.research.google.com/notebooks/data_table.ipynb>data table notebook</a>'\n",
              "          + ' to learn more about interactive tables.';\n",
              "        element.innerHTML = '';\n",
              "        dataTable['output_type'] = 'display_data';\n",
              "        await google.colab.output.renderOutput(dataTable, element);\n",
              "        const docLink = document.createElement('div');\n",
              "        docLink.innerHTML = docLinkHtml;\n",
              "        element.appendChild(docLink);\n",
              "      }\n",
              "    </script>\n",
              "  </div>\n",
              "\n",
              "\n",
              "<div id=\"df-51d2d773-abe4-4bf5-b8b5-cc84769d5df3\">\n",
              "  <button class=\"colab-df-quickchart\" onclick=\"quickchart('df-51d2d773-abe4-4bf5-b8b5-cc84769d5df3')\"\n",
              "            title=\"Suggest charts.\"\n",
              "            style=\"display:none;\">\n",
              "\n",
              "<svg xmlns=\"http://www.w3.org/2000/svg\" height=\"24px\"viewBox=\"0 0 24 24\"\n",
              "     width=\"24px\">\n",
              "    <g>\n",
              "        <path d=\"M19 3H5c-1.1 0-2 .9-2 2v14c0 1.1.9 2 2 2h14c1.1 0 2-.9 2-2V5c0-1.1-.9-2-2-2zM9 17H7v-7h2v7zm4 0h-2V7h2v10zm4 0h-2v-4h2v4z\"/>\n",
              "    </g>\n",
              "</svg>\n",
              "  </button>\n",
              "\n",
              "<style>\n",
              "  .colab-df-quickchart {\n",
              "      --bg-color: #E8F0FE;\n",
              "      --fill-color: #1967D2;\n",
              "      --hover-bg-color: #E2EBFA;\n",
              "      --hover-fill-color: #174EA6;\n",
              "      --disabled-fill-color: #AAA;\n",
              "      --disabled-bg-color: #DDD;\n",
              "  }\n",
              "\n",
              "  [theme=dark] .colab-df-quickchart {\n",
              "      --bg-color: #3B4455;\n",
              "      --fill-color: #D2E3FC;\n",
              "      --hover-bg-color: #434B5C;\n",
              "      --hover-fill-color: #FFFFFF;\n",
              "      --disabled-bg-color: #3B4455;\n",
              "      --disabled-fill-color: #666;\n",
              "  }\n",
              "\n",
              "  .colab-df-quickchart {\n",
              "    background-color: var(--bg-color);\n",
              "    border: none;\n",
              "    border-radius: 50%;\n",
              "    cursor: pointer;\n",
              "    display: none;\n",
              "    fill: var(--fill-color);\n",
              "    height: 32px;\n",
              "    padding: 0;\n",
              "    width: 32px;\n",
              "  }\n",
              "\n",
              "  .colab-df-quickchart:hover {\n",
              "    background-color: var(--hover-bg-color);\n",
              "    box-shadow: 0 1px 2px rgba(60, 64, 67, 0.3), 0 1px 3px 1px rgba(60, 64, 67, 0.15);\n",
              "    fill: var(--button-hover-fill-color);\n",
              "  }\n",
              "\n",
              "  .colab-df-quickchart-complete:disabled,\n",
              "  .colab-df-quickchart-complete:disabled:hover {\n",
              "    background-color: var(--disabled-bg-color);\n",
              "    fill: var(--disabled-fill-color);\n",
              "    box-shadow: none;\n",
              "  }\n",
              "\n",
              "  .colab-df-spinner {\n",
              "    border: 2px solid var(--fill-color);\n",
              "    border-color: transparent;\n",
              "    border-bottom-color: var(--fill-color);\n",
              "    animation:\n",
              "      spin 1s steps(1) infinite;\n",
              "  }\n",
              "\n",
              "  @keyframes spin {\n",
              "    0% {\n",
              "      border-color: transparent;\n",
              "      border-bottom-color: var(--fill-color);\n",
              "      border-left-color: var(--fill-color);\n",
              "    }\n",
              "    20% {\n",
              "      border-color: transparent;\n",
              "      border-left-color: var(--fill-color);\n",
              "      border-top-color: var(--fill-color);\n",
              "    }\n",
              "    30% {\n",
              "      border-color: transparent;\n",
              "      border-left-color: var(--fill-color);\n",
              "      border-top-color: var(--fill-color);\n",
              "      border-right-color: var(--fill-color);\n",
              "    }\n",
              "    40% {\n",
              "      border-color: transparent;\n",
              "      border-right-color: var(--fill-color);\n",
              "      border-top-color: var(--fill-color);\n",
              "    }\n",
              "    60% {\n",
              "      border-color: transparent;\n",
              "      border-right-color: var(--fill-color);\n",
              "    }\n",
              "    80% {\n",
              "      border-color: transparent;\n",
              "      border-right-color: var(--fill-color);\n",
              "      border-bottom-color: var(--fill-color);\n",
              "    }\n",
              "    90% {\n",
              "      border-color: transparent;\n",
              "      border-bottom-color: var(--fill-color);\n",
              "    }\n",
              "  }\n",
              "</style>\n",
              "\n",
              "  <script>\n",
              "    async function quickchart(key) {\n",
              "      const quickchartButtonEl =\n",
              "        document.querySelector('#' + key + ' button');\n",
              "      quickchartButtonEl.disabled = true;  // To prevent multiple clicks.\n",
              "      quickchartButtonEl.classList.add('colab-df-spinner');\n",
              "      try {\n",
              "        const charts = await google.colab.kernel.invokeFunction(\n",
              "            'suggestCharts', [key], {});\n",
              "      } catch (error) {\n",
              "        console.error('Error during call to suggestCharts:', error);\n",
              "      }\n",
              "      quickchartButtonEl.classList.remove('colab-df-spinner');\n",
              "      quickchartButtonEl.classList.add('colab-df-quickchart-complete');\n",
              "    }\n",
              "    (() => {\n",
              "      let quickchartButtonEl =\n",
              "        document.querySelector('#df-51d2d773-abe4-4bf5-b8b5-cc84769d5df3 button');\n",
              "      quickchartButtonEl.style.display =\n",
              "        google.colab.kernel.accessAllowed ? 'block' : 'none';\n",
              "    })();\n",
              "  </script>\n",
              "</div>\n",
              "    </div>\n",
              "  </div>\n"
            ]
          },
          "metadata": {},
          "execution_count": 2
        }
      ],
      "source": [
        "train.head()"
      ]
    },
    {
      "cell_type": "code",
      "execution_count": null,
      "metadata": {
        "colab": {
          "base_uri": "https://localhost:8080/",
          "height": 256
        },
        "id": "BomUC5Id8mna",
        "outputId": "5d165810-6054-4a15-fa21-a2d3535f7245"
      },
      "outputs": [
        {
          "output_type": "execute_result",
          "data": {
            "text/plain": [
              "   feature_1  feature_2  feature_3  feature_4  feature_5  feature_6  \\\n",
              "0   0.085129   0.000378  -0.029872  -0.104609  -0.191291  -0.025511   \n",
              "1   0.222652  -0.094210  -0.056387  -0.210214  -0.294624  -0.032355   \n",
              "2   0.072147   0.023575  -0.017664  -0.070988  -0.098729   0.018534   \n",
              "3   0.026623   0.052005  -0.006921  -0.075105  -0.074829  -0.031380   \n",
              "4   0.112069   0.113702   0.044343   0.010162  -0.169193  -0.099847   \n",
              "\n",
              "   feature_7  feature_8  feature_9  feature_10  ...  feature_763  feature_764  \\\n",
              "0   0.029381   0.006177   0.079207   -0.012729  ...    -0.026701     0.003306   \n",
              "1  -0.069078  -0.172146   0.056509   -0.126757  ...    -0.041096     0.013654   \n",
              "2   0.028282  -0.064789   0.094686   -0.067313  ...    -0.064602    -0.018653   \n",
              "3   0.012402  -0.043555   0.073825   -0.050979  ...    -0.005655     0.015477   \n",
              "4   0.195957   0.051861   0.024582    0.001314  ...    -0.118097    -0.043349   \n",
              "\n",
              "   feature_765  feature_766  feature_767  feature_768  label_1  label_2  \\\n",
              "0     0.052219     0.000784     0.004527     0.102033       45      NaN   \n",
              "1     0.142623    -0.011882     0.005219     0.143616       45      NaN   \n",
              "2     0.013636    -0.078994     0.060903     0.064752       45      NaN   \n",
              "3     0.064209     0.025045    -0.049599     0.078412       45      NaN   \n",
              "4     0.036754    -0.023065     0.007358    -0.132566       45      NaN   \n",
              "\n",
              "   label_3  label_4  \n",
              "0        1        6  \n",
              "1        1        6  \n",
              "2        1        6  \n",
              "3        1        6  \n",
              "4        1        6  \n",
              "\n",
              "[5 rows x 772 columns]"
            ],
            "text/html": [
              "\n",
              "  <div id=\"df-3129acc1-9eb7-45d1-a6ee-d8adfcce51e0\" class=\"colab-df-container\">\n",
              "    <div>\n",
              "<style scoped>\n",
              "    .dataframe tbody tr th:only-of-type {\n",
              "        vertical-align: middle;\n",
              "    }\n",
              "\n",
              "    .dataframe tbody tr th {\n",
              "        vertical-align: top;\n",
              "    }\n",
              "\n",
              "    .dataframe thead th {\n",
              "        text-align: right;\n",
              "    }\n",
              "</style>\n",
              "<table border=\"1\" class=\"dataframe\">\n",
              "  <thead>\n",
              "    <tr style=\"text-align: right;\">\n",
              "      <th></th>\n",
              "      <th>feature_1</th>\n",
              "      <th>feature_2</th>\n",
              "      <th>feature_3</th>\n",
              "      <th>feature_4</th>\n",
              "      <th>feature_5</th>\n",
              "      <th>feature_6</th>\n",
              "      <th>feature_7</th>\n",
              "      <th>feature_8</th>\n",
              "      <th>feature_9</th>\n",
              "      <th>feature_10</th>\n",
              "      <th>...</th>\n",
              "      <th>feature_763</th>\n",
              "      <th>feature_764</th>\n",
              "      <th>feature_765</th>\n",
              "      <th>feature_766</th>\n",
              "      <th>feature_767</th>\n",
              "      <th>feature_768</th>\n",
              "      <th>label_1</th>\n",
              "      <th>label_2</th>\n",
              "      <th>label_3</th>\n",
              "      <th>label_4</th>\n",
              "    </tr>\n",
              "  </thead>\n",
              "  <tbody>\n",
              "    <tr>\n",
              "      <th>0</th>\n",
              "      <td>0.085129</td>\n",
              "      <td>0.000378</td>\n",
              "      <td>-0.029872</td>\n",
              "      <td>-0.104609</td>\n",
              "      <td>-0.191291</td>\n",
              "      <td>-0.025511</td>\n",
              "      <td>0.029381</td>\n",
              "      <td>0.006177</td>\n",
              "      <td>0.079207</td>\n",
              "      <td>-0.012729</td>\n",
              "      <td>...</td>\n",
              "      <td>-0.026701</td>\n",
              "      <td>0.003306</td>\n",
              "      <td>0.052219</td>\n",
              "      <td>0.000784</td>\n",
              "      <td>0.004527</td>\n",
              "      <td>0.102033</td>\n",
              "      <td>45</td>\n",
              "      <td>NaN</td>\n",
              "      <td>1</td>\n",
              "      <td>6</td>\n",
              "    </tr>\n",
              "    <tr>\n",
              "      <th>1</th>\n",
              "      <td>0.222652</td>\n",
              "      <td>-0.094210</td>\n",
              "      <td>-0.056387</td>\n",
              "      <td>-0.210214</td>\n",
              "      <td>-0.294624</td>\n",
              "      <td>-0.032355</td>\n",
              "      <td>-0.069078</td>\n",
              "      <td>-0.172146</td>\n",
              "      <td>0.056509</td>\n",
              "      <td>-0.126757</td>\n",
              "      <td>...</td>\n",
              "      <td>-0.041096</td>\n",
              "      <td>0.013654</td>\n",
              "      <td>0.142623</td>\n",
              "      <td>-0.011882</td>\n",
              "      <td>0.005219</td>\n",
              "      <td>0.143616</td>\n",
              "      <td>45</td>\n",
              "      <td>NaN</td>\n",
              "      <td>1</td>\n",
              "      <td>6</td>\n",
              "    </tr>\n",
              "    <tr>\n",
              "      <th>2</th>\n",
              "      <td>0.072147</td>\n",
              "      <td>0.023575</td>\n",
              "      <td>-0.017664</td>\n",
              "      <td>-0.070988</td>\n",
              "      <td>-0.098729</td>\n",
              "      <td>0.018534</td>\n",
              "      <td>0.028282</td>\n",
              "      <td>-0.064789</td>\n",
              "      <td>0.094686</td>\n",
              "      <td>-0.067313</td>\n",
              "      <td>...</td>\n",
              "      <td>-0.064602</td>\n",
              "      <td>-0.018653</td>\n",
              "      <td>0.013636</td>\n",
              "      <td>-0.078994</td>\n",
              "      <td>0.060903</td>\n",
              "      <td>0.064752</td>\n",
              "      <td>45</td>\n",
              "      <td>NaN</td>\n",
              "      <td>1</td>\n",
              "      <td>6</td>\n",
              "    </tr>\n",
              "    <tr>\n",
              "      <th>3</th>\n",
              "      <td>0.026623</td>\n",
              "      <td>0.052005</td>\n",
              "      <td>-0.006921</td>\n",
              "      <td>-0.075105</td>\n",
              "      <td>-0.074829</td>\n",
              "      <td>-0.031380</td>\n",
              "      <td>0.012402</td>\n",
              "      <td>-0.043555</td>\n",
              "      <td>0.073825</td>\n",
              "      <td>-0.050979</td>\n",
              "      <td>...</td>\n",
              "      <td>-0.005655</td>\n",
              "      <td>0.015477</td>\n",
              "      <td>0.064209</td>\n",
              "      <td>0.025045</td>\n",
              "      <td>-0.049599</td>\n",
              "      <td>0.078412</td>\n",
              "      <td>45</td>\n",
              "      <td>NaN</td>\n",
              "      <td>1</td>\n",
              "      <td>6</td>\n",
              "    </tr>\n",
              "    <tr>\n",
              "      <th>4</th>\n",
              "      <td>0.112069</td>\n",
              "      <td>0.113702</td>\n",
              "      <td>0.044343</td>\n",
              "      <td>0.010162</td>\n",
              "      <td>-0.169193</td>\n",
              "      <td>-0.099847</td>\n",
              "      <td>0.195957</td>\n",
              "      <td>0.051861</td>\n",
              "      <td>0.024582</td>\n",
              "      <td>0.001314</td>\n",
              "      <td>...</td>\n",
              "      <td>-0.118097</td>\n",
              "      <td>-0.043349</td>\n",
              "      <td>0.036754</td>\n",
              "      <td>-0.023065</td>\n",
              "      <td>0.007358</td>\n",
              "      <td>-0.132566</td>\n",
              "      <td>45</td>\n",
              "      <td>NaN</td>\n",
              "      <td>1</td>\n",
              "      <td>6</td>\n",
              "    </tr>\n",
              "  </tbody>\n",
              "</table>\n",
              "<p>5 rows × 772 columns</p>\n",
              "</div>\n",
              "    <div class=\"colab-df-buttons\">\n",
              "\n",
              "  <div class=\"colab-df-container\">\n",
              "    <button class=\"colab-df-convert\" onclick=\"convertToInteractive('df-3129acc1-9eb7-45d1-a6ee-d8adfcce51e0')\"\n",
              "            title=\"Convert this dataframe to an interactive table.\"\n",
              "            style=\"display:none;\">\n",
              "\n",
              "  <svg xmlns=\"http://www.w3.org/2000/svg\" height=\"24px\" viewBox=\"0 -960 960 960\">\n",
              "    <path d=\"M120-120v-720h720v720H120Zm60-500h600v-160H180v160Zm220 220h160v-160H400v160Zm0 220h160v-160H400v160ZM180-400h160v-160H180v160Zm440 0h160v-160H620v160ZM180-180h160v-160H180v160Zm440 0h160v-160H620v160Z\"/>\n",
              "  </svg>\n",
              "    </button>\n",
              "\n",
              "  <style>\n",
              "    .colab-df-container {\n",
              "      display:flex;\n",
              "      gap: 12px;\n",
              "    }\n",
              "\n",
              "    .colab-df-convert {\n",
              "      background-color: #E8F0FE;\n",
              "      border: none;\n",
              "      border-radius: 50%;\n",
              "      cursor: pointer;\n",
              "      display: none;\n",
              "      fill: #1967D2;\n",
              "      height: 32px;\n",
              "      padding: 0 0 0 0;\n",
              "      width: 32px;\n",
              "    }\n",
              "\n",
              "    .colab-df-convert:hover {\n",
              "      background-color: #E2EBFA;\n",
              "      box-shadow: 0px 1px 2px rgba(60, 64, 67, 0.3), 0px 1px 3px 1px rgba(60, 64, 67, 0.15);\n",
              "      fill: #174EA6;\n",
              "    }\n",
              "\n",
              "    .colab-df-buttons div {\n",
              "      margin-bottom: 4px;\n",
              "    }\n",
              "\n",
              "    [theme=dark] .colab-df-convert {\n",
              "      background-color: #3B4455;\n",
              "      fill: #D2E3FC;\n",
              "    }\n",
              "\n",
              "    [theme=dark] .colab-df-convert:hover {\n",
              "      background-color: #434B5C;\n",
              "      box-shadow: 0px 1px 3px 1px rgba(0, 0, 0, 0.15);\n",
              "      filter: drop-shadow(0px 1px 2px rgba(0, 0, 0, 0.3));\n",
              "      fill: #FFFFFF;\n",
              "    }\n",
              "  </style>\n",
              "\n",
              "    <script>\n",
              "      const buttonEl =\n",
              "        document.querySelector('#df-3129acc1-9eb7-45d1-a6ee-d8adfcce51e0 button.colab-df-convert');\n",
              "      buttonEl.style.display =\n",
              "        google.colab.kernel.accessAllowed ? 'block' : 'none';\n",
              "\n",
              "      async function convertToInteractive(key) {\n",
              "        const element = document.querySelector('#df-3129acc1-9eb7-45d1-a6ee-d8adfcce51e0');\n",
              "        const dataTable =\n",
              "          await google.colab.kernel.invokeFunction('convertToInteractive',\n",
              "                                                    [key], {});\n",
              "        if (!dataTable) return;\n",
              "\n",
              "        const docLinkHtml = 'Like what you see? Visit the ' +\n",
              "          '<a target=\"_blank\" href=https://colab.research.google.com/notebooks/data_table.ipynb>data table notebook</a>'\n",
              "          + ' to learn more about interactive tables.';\n",
              "        element.innerHTML = '';\n",
              "        dataTable['output_type'] = 'display_data';\n",
              "        await google.colab.output.renderOutput(dataTable, element);\n",
              "        const docLink = document.createElement('div');\n",
              "        docLink.innerHTML = docLinkHtml;\n",
              "        element.appendChild(docLink);\n",
              "      }\n",
              "    </script>\n",
              "  </div>\n",
              "\n",
              "\n",
              "<div id=\"df-ca799d2e-13dd-4238-95ad-56775cef5e1e\">\n",
              "  <button class=\"colab-df-quickchart\" onclick=\"quickchart('df-ca799d2e-13dd-4238-95ad-56775cef5e1e')\"\n",
              "            title=\"Suggest charts.\"\n",
              "            style=\"display:none;\">\n",
              "\n",
              "<svg xmlns=\"http://www.w3.org/2000/svg\" height=\"24px\"viewBox=\"0 0 24 24\"\n",
              "     width=\"24px\">\n",
              "    <g>\n",
              "        <path d=\"M19 3H5c-1.1 0-2 .9-2 2v14c0 1.1.9 2 2 2h14c1.1 0 2-.9 2-2V5c0-1.1-.9-2-2-2zM9 17H7v-7h2v7zm4 0h-2V7h2v10zm4 0h-2v-4h2v4z\"/>\n",
              "    </g>\n",
              "</svg>\n",
              "  </button>\n",
              "\n",
              "<style>\n",
              "  .colab-df-quickchart {\n",
              "      --bg-color: #E8F0FE;\n",
              "      --fill-color: #1967D2;\n",
              "      --hover-bg-color: #E2EBFA;\n",
              "      --hover-fill-color: #174EA6;\n",
              "      --disabled-fill-color: #AAA;\n",
              "      --disabled-bg-color: #DDD;\n",
              "  }\n",
              "\n",
              "  [theme=dark] .colab-df-quickchart {\n",
              "      --bg-color: #3B4455;\n",
              "      --fill-color: #D2E3FC;\n",
              "      --hover-bg-color: #434B5C;\n",
              "      --hover-fill-color: #FFFFFF;\n",
              "      --disabled-bg-color: #3B4455;\n",
              "      --disabled-fill-color: #666;\n",
              "  }\n",
              "\n",
              "  .colab-df-quickchart {\n",
              "    background-color: var(--bg-color);\n",
              "    border: none;\n",
              "    border-radius: 50%;\n",
              "    cursor: pointer;\n",
              "    display: none;\n",
              "    fill: var(--fill-color);\n",
              "    height: 32px;\n",
              "    padding: 0;\n",
              "    width: 32px;\n",
              "  }\n",
              "\n",
              "  .colab-df-quickchart:hover {\n",
              "    background-color: var(--hover-bg-color);\n",
              "    box-shadow: 0 1px 2px rgba(60, 64, 67, 0.3), 0 1px 3px 1px rgba(60, 64, 67, 0.15);\n",
              "    fill: var(--button-hover-fill-color);\n",
              "  }\n",
              "\n",
              "  .colab-df-quickchart-complete:disabled,\n",
              "  .colab-df-quickchart-complete:disabled:hover {\n",
              "    background-color: var(--disabled-bg-color);\n",
              "    fill: var(--disabled-fill-color);\n",
              "    box-shadow: none;\n",
              "  }\n",
              "\n",
              "  .colab-df-spinner {\n",
              "    border: 2px solid var(--fill-color);\n",
              "    border-color: transparent;\n",
              "    border-bottom-color: var(--fill-color);\n",
              "    animation:\n",
              "      spin 1s steps(1) infinite;\n",
              "  }\n",
              "\n",
              "  @keyframes spin {\n",
              "    0% {\n",
              "      border-color: transparent;\n",
              "      border-bottom-color: var(--fill-color);\n",
              "      border-left-color: var(--fill-color);\n",
              "    }\n",
              "    20% {\n",
              "      border-color: transparent;\n",
              "      border-left-color: var(--fill-color);\n",
              "      border-top-color: var(--fill-color);\n",
              "    }\n",
              "    30% {\n",
              "      border-color: transparent;\n",
              "      border-left-color: var(--fill-color);\n",
              "      border-top-color: var(--fill-color);\n",
              "      border-right-color: var(--fill-color);\n",
              "    }\n",
              "    40% {\n",
              "      border-color: transparent;\n",
              "      border-right-color: var(--fill-color);\n",
              "      border-top-color: var(--fill-color);\n",
              "    }\n",
              "    60% {\n",
              "      border-color: transparent;\n",
              "      border-right-color: var(--fill-color);\n",
              "    }\n",
              "    80% {\n",
              "      border-color: transparent;\n",
              "      border-right-color: var(--fill-color);\n",
              "      border-bottom-color: var(--fill-color);\n",
              "    }\n",
              "    90% {\n",
              "      border-color: transparent;\n",
              "      border-bottom-color: var(--fill-color);\n",
              "    }\n",
              "  }\n",
              "</style>\n",
              "\n",
              "  <script>\n",
              "    async function quickchart(key) {\n",
              "      const quickchartButtonEl =\n",
              "        document.querySelector('#' + key + ' button');\n",
              "      quickchartButtonEl.disabled = true;  // To prevent multiple clicks.\n",
              "      quickchartButtonEl.classList.add('colab-df-spinner');\n",
              "      try {\n",
              "        const charts = await google.colab.kernel.invokeFunction(\n",
              "            'suggestCharts', [key], {});\n",
              "      } catch (error) {\n",
              "        console.error('Error during call to suggestCharts:', error);\n",
              "      }\n",
              "      quickchartButtonEl.classList.remove('colab-df-spinner');\n",
              "      quickchartButtonEl.classList.add('colab-df-quickchart-complete');\n",
              "    }\n",
              "    (() => {\n",
              "      let quickchartButtonEl =\n",
              "        document.querySelector('#df-ca799d2e-13dd-4238-95ad-56775cef5e1e button');\n",
              "      quickchartButtonEl.style.display =\n",
              "        google.colab.kernel.accessAllowed ? 'block' : 'none';\n",
              "    })();\n",
              "  </script>\n",
              "</div>\n",
              "    </div>\n",
              "  </div>\n"
            ]
          },
          "metadata": {},
          "execution_count": 5
        }
      ],
      "source": [
        "valid.head()"
      ]
    },
    {
      "cell_type": "code",
      "execution_count": null,
      "metadata": {
        "colab": {
          "base_uri": "https://localhost:8080/",
          "height": 256
        },
        "id": "xuMOfvf88rwK",
        "outputId": "d0884eac-a562-45cc-e9a0-962ae377f393"
      },
      "outputs": [
        {
          "output_type": "execute_result",
          "data": {
            "text/plain": [
              "   ID  feature_1  feature_2  feature_3  feature_4  feature_5  feature_6  \\\n",
              "0   1   0.187868  -0.009268   0.039846  -0.102515  -0.109121  -0.079769   \n",
              "1   2   0.122119   0.019015   0.134483   0.007949  -0.157884  -0.033332   \n",
              "2   3   0.079187   0.146195  -0.001316  -0.085596  -0.261093  -0.021620   \n",
              "3   4   0.231196   0.021558   0.215534  -0.210258  -0.158189   0.041621   \n",
              "4   5   0.020412   0.063732  -0.065506  -0.089598  -0.130788  -0.018809   \n",
              "\n",
              "   feature_7  feature_8  feature_9  ...  feature_759  feature_760  \\\n",
              "0   0.061295  -0.042890   0.099860  ...     0.043647     0.061174   \n",
              "1   0.044334  -0.016869  -0.014088  ...    -0.179798    -0.027611   \n",
              "2   0.268898  -0.103950   0.068976  ...    -0.075460     0.037346   \n",
              "3   0.240254  -0.068112  -0.017550  ...     0.083334     0.141642   \n",
              "4   0.119304  -0.057494   0.094714  ...    -0.001969    -0.003025   \n",
              "\n",
              "   feature_761  feature_762  feature_763  feature_764  feature_765  \\\n",
              "0     0.026771    -0.092734    -0.052383    -0.055526     0.029101   \n",
              "1     0.240023    -0.005648    -0.057537     0.023922    -0.038126   \n",
              "2     0.124254    -0.369695    -0.056773    -0.028471     0.019971   \n",
              "3    -0.007219     0.031547    -0.010762    -0.169036    -0.030963   \n",
              "4    -0.021156    -0.136993    -0.003615     0.036371     0.048715   \n",
              "\n",
              "   feature_766  feature_767  feature_768  \n",
              "0     0.041857    -0.027872     0.099500  \n",
              "1    -0.015171    -0.006270    -0.003790  \n",
              "2    -0.065683    -0.047366    -0.121744  \n",
              "3     0.086698     0.114194    -0.036775  \n",
              "4    -0.002688    -0.016957    -0.004331  \n",
              "\n",
              "[5 rows x 769 columns]"
            ],
            "text/html": [
              "\n",
              "  <div id=\"df-5bc9a0fe-5064-4310-90c6-9d32799013c3\" class=\"colab-df-container\">\n",
              "    <div>\n",
              "<style scoped>\n",
              "    .dataframe tbody tr th:only-of-type {\n",
              "        vertical-align: middle;\n",
              "    }\n",
              "\n",
              "    .dataframe tbody tr th {\n",
              "        vertical-align: top;\n",
              "    }\n",
              "\n",
              "    .dataframe thead th {\n",
              "        text-align: right;\n",
              "    }\n",
              "</style>\n",
              "<table border=\"1\" class=\"dataframe\">\n",
              "  <thead>\n",
              "    <tr style=\"text-align: right;\">\n",
              "      <th></th>\n",
              "      <th>ID</th>\n",
              "      <th>feature_1</th>\n",
              "      <th>feature_2</th>\n",
              "      <th>feature_3</th>\n",
              "      <th>feature_4</th>\n",
              "      <th>feature_5</th>\n",
              "      <th>feature_6</th>\n",
              "      <th>feature_7</th>\n",
              "      <th>feature_8</th>\n",
              "      <th>feature_9</th>\n",
              "      <th>...</th>\n",
              "      <th>feature_759</th>\n",
              "      <th>feature_760</th>\n",
              "      <th>feature_761</th>\n",
              "      <th>feature_762</th>\n",
              "      <th>feature_763</th>\n",
              "      <th>feature_764</th>\n",
              "      <th>feature_765</th>\n",
              "      <th>feature_766</th>\n",
              "      <th>feature_767</th>\n",
              "      <th>feature_768</th>\n",
              "    </tr>\n",
              "  </thead>\n",
              "  <tbody>\n",
              "    <tr>\n",
              "      <th>0</th>\n",
              "      <td>1</td>\n",
              "      <td>0.187868</td>\n",
              "      <td>-0.009268</td>\n",
              "      <td>0.039846</td>\n",
              "      <td>-0.102515</td>\n",
              "      <td>-0.109121</td>\n",
              "      <td>-0.079769</td>\n",
              "      <td>0.061295</td>\n",
              "      <td>-0.042890</td>\n",
              "      <td>0.099860</td>\n",
              "      <td>...</td>\n",
              "      <td>0.043647</td>\n",
              "      <td>0.061174</td>\n",
              "      <td>0.026771</td>\n",
              "      <td>-0.092734</td>\n",
              "      <td>-0.052383</td>\n",
              "      <td>-0.055526</td>\n",
              "      <td>0.029101</td>\n",
              "      <td>0.041857</td>\n",
              "      <td>-0.027872</td>\n",
              "      <td>0.099500</td>\n",
              "    </tr>\n",
              "    <tr>\n",
              "      <th>1</th>\n",
              "      <td>2</td>\n",
              "      <td>0.122119</td>\n",
              "      <td>0.019015</td>\n",
              "      <td>0.134483</td>\n",
              "      <td>0.007949</td>\n",
              "      <td>-0.157884</td>\n",
              "      <td>-0.033332</td>\n",
              "      <td>0.044334</td>\n",
              "      <td>-0.016869</td>\n",
              "      <td>-0.014088</td>\n",
              "      <td>...</td>\n",
              "      <td>-0.179798</td>\n",
              "      <td>-0.027611</td>\n",
              "      <td>0.240023</td>\n",
              "      <td>-0.005648</td>\n",
              "      <td>-0.057537</td>\n",
              "      <td>0.023922</td>\n",
              "      <td>-0.038126</td>\n",
              "      <td>-0.015171</td>\n",
              "      <td>-0.006270</td>\n",
              "      <td>-0.003790</td>\n",
              "    </tr>\n",
              "    <tr>\n",
              "      <th>2</th>\n",
              "      <td>3</td>\n",
              "      <td>0.079187</td>\n",
              "      <td>0.146195</td>\n",
              "      <td>-0.001316</td>\n",
              "      <td>-0.085596</td>\n",
              "      <td>-0.261093</td>\n",
              "      <td>-0.021620</td>\n",
              "      <td>0.268898</td>\n",
              "      <td>-0.103950</td>\n",
              "      <td>0.068976</td>\n",
              "      <td>...</td>\n",
              "      <td>-0.075460</td>\n",
              "      <td>0.037346</td>\n",
              "      <td>0.124254</td>\n",
              "      <td>-0.369695</td>\n",
              "      <td>-0.056773</td>\n",
              "      <td>-0.028471</td>\n",
              "      <td>0.019971</td>\n",
              "      <td>-0.065683</td>\n",
              "      <td>-0.047366</td>\n",
              "      <td>-0.121744</td>\n",
              "    </tr>\n",
              "    <tr>\n",
              "      <th>3</th>\n",
              "      <td>4</td>\n",
              "      <td>0.231196</td>\n",
              "      <td>0.021558</td>\n",
              "      <td>0.215534</td>\n",
              "      <td>-0.210258</td>\n",
              "      <td>-0.158189</td>\n",
              "      <td>0.041621</td>\n",
              "      <td>0.240254</td>\n",
              "      <td>-0.068112</td>\n",
              "      <td>-0.017550</td>\n",
              "      <td>...</td>\n",
              "      <td>0.083334</td>\n",
              "      <td>0.141642</td>\n",
              "      <td>-0.007219</td>\n",
              "      <td>0.031547</td>\n",
              "      <td>-0.010762</td>\n",
              "      <td>-0.169036</td>\n",
              "      <td>-0.030963</td>\n",
              "      <td>0.086698</td>\n",
              "      <td>0.114194</td>\n",
              "      <td>-0.036775</td>\n",
              "    </tr>\n",
              "    <tr>\n",
              "      <th>4</th>\n",
              "      <td>5</td>\n",
              "      <td>0.020412</td>\n",
              "      <td>0.063732</td>\n",
              "      <td>-0.065506</td>\n",
              "      <td>-0.089598</td>\n",
              "      <td>-0.130788</td>\n",
              "      <td>-0.018809</td>\n",
              "      <td>0.119304</td>\n",
              "      <td>-0.057494</td>\n",
              "      <td>0.094714</td>\n",
              "      <td>...</td>\n",
              "      <td>-0.001969</td>\n",
              "      <td>-0.003025</td>\n",
              "      <td>-0.021156</td>\n",
              "      <td>-0.136993</td>\n",
              "      <td>-0.003615</td>\n",
              "      <td>0.036371</td>\n",
              "      <td>0.048715</td>\n",
              "      <td>-0.002688</td>\n",
              "      <td>-0.016957</td>\n",
              "      <td>-0.004331</td>\n",
              "    </tr>\n",
              "  </tbody>\n",
              "</table>\n",
              "<p>5 rows × 769 columns</p>\n",
              "</div>\n",
              "    <div class=\"colab-df-buttons\">\n",
              "\n",
              "  <div class=\"colab-df-container\">\n",
              "    <button class=\"colab-df-convert\" onclick=\"convertToInteractive('df-5bc9a0fe-5064-4310-90c6-9d32799013c3')\"\n",
              "            title=\"Convert this dataframe to an interactive table.\"\n",
              "            style=\"display:none;\">\n",
              "\n",
              "  <svg xmlns=\"http://www.w3.org/2000/svg\" height=\"24px\" viewBox=\"0 -960 960 960\">\n",
              "    <path d=\"M120-120v-720h720v720H120Zm60-500h600v-160H180v160Zm220 220h160v-160H400v160Zm0 220h160v-160H400v160ZM180-400h160v-160H180v160Zm440 0h160v-160H620v160ZM180-180h160v-160H180v160Zm440 0h160v-160H620v160Z\"/>\n",
              "  </svg>\n",
              "    </button>\n",
              "\n",
              "  <style>\n",
              "    .colab-df-container {\n",
              "      display:flex;\n",
              "      gap: 12px;\n",
              "    }\n",
              "\n",
              "    .colab-df-convert {\n",
              "      background-color: #E8F0FE;\n",
              "      border: none;\n",
              "      border-radius: 50%;\n",
              "      cursor: pointer;\n",
              "      display: none;\n",
              "      fill: #1967D2;\n",
              "      height: 32px;\n",
              "      padding: 0 0 0 0;\n",
              "      width: 32px;\n",
              "    }\n",
              "\n",
              "    .colab-df-convert:hover {\n",
              "      background-color: #E2EBFA;\n",
              "      box-shadow: 0px 1px 2px rgba(60, 64, 67, 0.3), 0px 1px 3px 1px rgba(60, 64, 67, 0.15);\n",
              "      fill: #174EA6;\n",
              "    }\n",
              "\n",
              "    .colab-df-buttons div {\n",
              "      margin-bottom: 4px;\n",
              "    }\n",
              "\n",
              "    [theme=dark] .colab-df-convert {\n",
              "      background-color: #3B4455;\n",
              "      fill: #D2E3FC;\n",
              "    }\n",
              "\n",
              "    [theme=dark] .colab-df-convert:hover {\n",
              "      background-color: #434B5C;\n",
              "      box-shadow: 0px 1px 3px 1px rgba(0, 0, 0, 0.15);\n",
              "      filter: drop-shadow(0px 1px 2px rgba(0, 0, 0, 0.3));\n",
              "      fill: #FFFFFF;\n",
              "    }\n",
              "  </style>\n",
              "\n",
              "    <script>\n",
              "      const buttonEl =\n",
              "        document.querySelector('#df-5bc9a0fe-5064-4310-90c6-9d32799013c3 button.colab-df-convert');\n",
              "      buttonEl.style.display =\n",
              "        google.colab.kernel.accessAllowed ? 'block' : 'none';\n",
              "\n",
              "      async function convertToInteractive(key) {\n",
              "        const element = document.querySelector('#df-5bc9a0fe-5064-4310-90c6-9d32799013c3');\n",
              "        const dataTable =\n",
              "          await google.colab.kernel.invokeFunction('convertToInteractive',\n",
              "                                                    [key], {});\n",
              "        if (!dataTable) return;\n",
              "\n",
              "        const docLinkHtml = 'Like what you see? Visit the ' +\n",
              "          '<a target=\"_blank\" href=https://colab.research.google.com/notebooks/data_table.ipynb>data table notebook</a>'\n",
              "          + ' to learn more about interactive tables.';\n",
              "        element.innerHTML = '';\n",
              "        dataTable['output_type'] = 'display_data';\n",
              "        await google.colab.output.renderOutput(dataTable, element);\n",
              "        const docLink = document.createElement('div');\n",
              "        docLink.innerHTML = docLinkHtml;\n",
              "        element.appendChild(docLink);\n",
              "      }\n",
              "    </script>\n",
              "  </div>\n",
              "\n",
              "\n",
              "<div id=\"df-af3e1aac-5496-4884-9457-ad5fe70b8d52\">\n",
              "  <button class=\"colab-df-quickchart\" onclick=\"quickchart('df-af3e1aac-5496-4884-9457-ad5fe70b8d52')\"\n",
              "            title=\"Suggest charts.\"\n",
              "            style=\"display:none;\">\n",
              "\n",
              "<svg xmlns=\"http://www.w3.org/2000/svg\" height=\"24px\"viewBox=\"0 0 24 24\"\n",
              "     width=\"24px\">\n",
              "    <g>\n",
              "        <path d=\"M19 3H5c-1.1 0-2 .9-2 2v14c0 1.1.9 2 2 2h14c1.1 0 2-.9 2-2V5c0-1.1-.9-2-2-2zM9 17H7v-7h2v7zm4 0h-2V7h2v10zm4 0h-2v-4h2v4z\"/>\n",
              "    </g>\n",
              "</svg>\n",
              "  </button>\n",
              "\n",
              "<style>\n",
              "  .colab-df-quickchart {\n",
              "      --bg-color: #E8F0FE;\n",
              "      --fill-color: #1967D2;\n",
              "      --hover-bg-color: #E2EBFA;\n",
              "      --hover-fill-color: #174EA6;\n",
              "      --disabled-fill-color: #AAA;\n",
              "      --disabled-bg-color: #DDD;\n",
              "  }\n",
              "\n",
              "  [theme=dark] .colab-df-quickchart {\n",
              "      --bg-color: #3B4455;\n",
              "      --fill-color: #D2E3FC;\n",
              "      --hover-bg-color: #434B5C;\n",
              "      --hover-fill-color: #FFFFFF;\n",
              "      --disabled-bg-color: #3B4455;\n",
              "      --disabled-fill-color: #666;\n",
              "  }\n",
              "\n",
              "  .colab-df-quickchart {\n",
              "    background-color: var(--bg-color);\n",
              "    border: none;\n",
              "    border-radius: 50%;\n",
              "    cursor: pointer;\n",
              "    display: none;\n",
              "    fill: var(--fill-color);\n",
              "    height: 32px;\n",
              "    padding: 0;\n",
              "    width: 32px;\n",
              "  }\n",
              "\n",
              "  .colab-df-quickchart:hover {\n",
              "    background-color: var(--hover-bg-color);\n",
              "    box-shadow: 0 1px 2px rgba(60, 64, 67, 0.3), 0 1px 3px 1px rgba(60, 64, 67, 0.15);\n",
              "    fill: var(--button-hover-fill-color);\n",
              "  }\n",
              "\n",
              "  .colab-df-quickchart-complete:disabled,\n",
              "  .colab-df-quickchart-complete:disabled:hover {\n",
              "    background-color: var(--disabled-bg-color);\n",
              "    fill: var(--disabled-fill-color);\n",
              "    box-shadow: none;\n",
              "  }\n",
              "\n",
              "  .colab-df-spinner {\n",
              "    border: 2px solid var(--fill-color);\n",
              "    border-color: transparent;\n",
              "    border-bottom-color: var(--fill-color);\n",
              "    animation:\n",
              "      spin 1s steps(1) infinite;\n",
              "  }\n",
              "\n",
              "  @keyframes spin {\n",
              "    0% {\n",
              "      border-color: transparent;\n",
              "      border-bottom-color: var(--fill-color);\n",
              "      border-left-color: var(--fill-color);\n",
              "    }\n",
              "    20% {\n",
              "      border-color: transparent;\n",
              "      border-left-color: var(--fill-color);\n",
              "      border-top-color: var(--fill-color);\n",
              "    }\n",
              "    30% {\n",
              "      border-color: transparent;\n",
              "      border-left-color: var(--fill-color);\n",
              "      border-top-color: var(--fill-color);\n",
              "      border-right-color: var(--fill-color);\n",
              "    }\n",
              "    40% {\n",
              "      border-color: transparent;\n",
              "      border-right-color: var(--fill-color);\n",
              "      border-top-color: var(--fill-color);\n",
              "    }\n",
              "    60% {\n",
              "      border-color: transparent;\n",
              "      border-right-color: var(--fill-color);\n",
              "    }\n",
              "    80% {\n",
              "      border-color: transparent;\n",
              "      border-right-color: var(--fill-color);\n",
              "      border-bottom-color: var(--fill-color);\n",
              "    }\n",
              "    90% {\n",
              "      border-color: transparent;\n",
              "      border-bottom-color: var(--fill-color);\n",
              "    }\n",
              "  }\n",
              "</style>\n",
              "\n",
              "  <script>\n",
              "    async function quickchart(key) {\n",
              "      const quickchartButtonEl =\n",
              "        document.querySelector('#' + key + ' button');\n",
              "      quickchartButtonEl.disabled = true;  // To prevent multiple clicks.\n",
              "      quickchartButtonEl.classList.add('colab-df-spinner');\n",
              "      try {\n",
              "        const charts = await google.colab.kernel.invokeFunction(\n",
              "            'suggestCharts', [key], {});\n",
              "      } catch (error) {\n",
              "        console.error('Error during call to suggestCharts:', error);\n",
              "      }\n",
              "      quickchartButtonEl.classList.remove('colab-df-spinner');\n",
              "      quickchartButtonEl.classList.add('colab-df-quickchart-complete');\n",
              "    }\n",
              "    (() => {\n",
              "      let quickchartButtonEl =\n",
              "        document.querySelector('#df-af3e1aac-5496-4884-9457-ad5fe70b8d52 button');\n",
              "      quickchartButtonEl.style.display =\n",
              "        google.colab.kernel.accessAllowed ? 'block' : 'none';\n",
              "    })();\n",
              "  </script>\n",
              "</div>\n",
              "    </div>\n",
              "  </div>\n"
            ]
          },
          "metadata": {},
          "execution_count": 6
        }
      ],
      "source": [
        "test.head()"
      ]
    },
    {
      "cell_type": "markdown",
      "metadata": {
        "id": "EDJwvJDTHwPA"
      },
      "source": [
        "##Distribution of labels"
      ]
    },
    {
      "cell_type": "markdown",
      "metadata": {
        "id": "WCdX3EM982CI"
      },
      "source": [
        "#Handling Missing Values\n",
        "\n",
        "##Missing values in training data"
      ]
    },
    {
      "cell_type": "code",
      "execution_count": null,
      "metadata": {
        "colab": {
          "base_uri": "https://localhost:8080/"
        },
        "id": "D3scQNFu85lM",
        "outputId": "b8a53c38-f8c1-4f40-a82a-81f0a1b96618"
      },
      "outputs": [
        {
          "output_type": "execute_result",
          "data": {
            "text/plain": [
              "label_1      0\n",
              "label_2    480\n",
              "label_3      0\n",
              "label_4      0\n",
              "dtype: int64"
            ]
          },
          "metadata": {},
          "execution_count": 2
        }
      ],
      "source": [
        "# Check for missing values in each label\n",
        "labels = [\"label_1\", \"label_2\", \"label_3\", \"label_4\"]\n",
        "train[labels].isnull().sum()"
      ]
    },
    {
      "cell_type": "code",
      "execution_count": null,
      "metadata": {
        "colab": {
          "base_uri": "https://localhost:8080/"
        },
        "id": "V-U54P6i9Bb4",
        "outputId": "4e9f27f4-eb70-4b6f-922e-d51a418dff3c"
      },
      "outputs": [
        {
          "output_type": "execute_result",
          "data": {
            "text/plain": [
              "28520"
            ]
          },
          "metadata": {},
          "execution_count": 4
        }
      ],
      "source": [
        "len(train[\"label_2\"])"
      ]
    },
    {
      "cell_type": "code",
      "execution_count": null,
      "metadata": {
        "colab": {
          "base_uri": "https://localhost:8080/"
        },
        "id": "3vwhVNo79RUn",
        "outputId": "cb50f333-e574-4ee9-b117-b5b038b884b7"
      },
      "outputs": [
        {
          "output_type": "execute_result",
          "data": {
            "text/plain": [
              "label_1    0\n",
              "label_2    0\n",
              "label_3    0\n",
              "label_4    0\n",
              "dtype: int64"
            ]
          },
          "metadata": {},
          "execution_count": 3
        }
      ],
      "source": [
        "from sklearn.impute import SimpleImputer\n",
        "\n",
        "imputer = SimpleImputer(strategy='mean')\n",
        "columns = [\"label_2\"]\n",
        "imputer.fit(train[columns])\n",
        "\n",
        "# Insert the missing values with the mean with the nearest integer\n",
        "train[columns] = imputer.transform(train[columns]).round().astype(\"int\")\n",
        "\n",
        "# Recheck for missing values in each label to confirm whether there are no missing values left\n",
        "train[labels].isnull().sum()"
      ]
    },
    {
      "cell_type": "markdown",
      "metadata": {
        "id": "SwQVukpU9saI"
      },
      "source": [
        "##Missing values in validation data"
      ]
    },
    {
      "cell_type": "code",
      "execution_count": null,
      "metadata": {
        "colab": {
          "base_uri": "https://localhost:8080/"
        },
        "id": "d7IQEvyx9vmT",
        "outputId": "7f0356bc-9aa8-43d2-b75a-dc50589dd447"
      },
      "outputs": [
        {
          "output_type": "execute_result",
          "data": {
            "text/plain": [
              "label_1     0\n",
              "label_2    14\n",
              "label_3     0\n",
              "label_4     0\n",
              "dtype: int64"
            ]
          },
          "metadata": {},
          "execution_count": 6
        }
      ],
      "source": [
        "valid[labels].isnull().sum()"
      ]
    },
    {
      "cell_type": "code",
      "execution_count": null,
      "metadata": {
        "colab": {
          "base_uri": "https://localhost:8080/"
        },
        "id": "Wi-oQALF-LBB",
        "outputId": "1c9acb97-2732-4028-9dff-a8fb33536919"
      },
      "outputs": [
        {
          "output_type": "execute_result",
          "data": {
            "text/plain": [
              "750"
            ]
          },
          "metadata": {},
          "execution_count": 7
        }
      ],
      "source": [
        "len(valid[\"label_2\"])"
      ]
    },
    {
      "cell_type": "code",
      "execution_count": null,
      "metadata": {
        "colab": {
          "base_uri": "https://localhost:8080/"
        },
        "id": "zvdTxioQ9_1w",
        "outputId": "947e3763-be48-4628-84d2-3f2b9b46826a"
      },
      "outputs": [
        {
          "output_type": "execute_result",
          "data": {
            "text/plain": [
              "label_1    0\n",
              "label_2    0\n",
              "label_3    0\n",
              "label_4    0\n",
              "dtype: int64"
            ]
          },
          "metadata": {},
          "execution_count": 4
        }
      ],
      "source": [
        "imputer = SimpleImputer(strategy='mean')\n",
        "columns = [\"label_2\"]\n",
        "imputer.fit(valid[columns])\n",
        "\n",
        "# Insert the missing values with the mean with the nearest integer\n",
        "valid[columns] = imputer.transform(valid[columns]).round().astype(\"int\")\n",
        "valid[labels].isnull().sum()"
      ]
    },
    {
      "cell_type": "markdown",
      "metadata": {
        "id": "FAaD98QDPzRW"
      },
      "source": [
        "#Label 1 - Speaker ID"
      ]
    },
    {
      "cell_type": "code",
      "execution_count": null,
      "metadata": {
        "id": "Agzu8Ck1P3F9"
      },
      "outputs": [],
      "source": [
        "# Split X and Y\n",
        "x_label_1 = train.iloc[:, : -4]\n",
        "y_label_1 = train[\"label_1\"]\n",
        "x_valid_label_1 = valid.iloc[:, : -4]\n",
        "y_valid_label_1 = valid[\"label_1\"]"
      ]
    },
    {
      "cell_type": "code",
      "execution_count": null,
      "metadata": {
        "colab": {
          "base_uri": "https://localhost:8080/",
          "height": 256
        },
        "id": "P6N2hPWkQBee",
        "outputId": "e47a2c27-9519-4f1e-d247-519cf10f15ee"
      },
      "outputs": [
        {
          "output_type": "execute_result",
          "data": {
            "text/plain": [
              "   feature_1  feature_2  feature_3  feature_4  feature_5  feature_6  \\\n",
              "0   0.186257  -0.058807   0.024632  -0.163933  -0.146699   0.035889   \n",
              "1   0.063431  -0.023597   0.068057  -0.252915  -0.061094  -0.027316   \n",
              "2   0.034962   0.035816  -0.029753  -0.094607  -0.017576  -0.053074   \n",
              "3   0.033772   0.085612   0.067488  -0.073953  -0.180646  -0.024512   \n",
              "4   0.134305   0.062096   0.106920  -0.089327   0.117093  -0.077107   \n",
              "\n",
              "   feature_7  feature_8  feature_9  feature_10  ...  feature_759  feature_760  \\\n",
              "0   0.111708  -0.162861   0.028249   -0.098063  ...    -0.135802     0.101059   \n",
              "1   0.135747  -0.168147   0.091236   -0.078473  ...    -0.032524     0.012977   \n",
              "2   0.040121  -0.007932   0.097872   -0.024042  ...    -0.016680    -0.015495   \n",
              "3   0.242879  -0.023374  -0.059999    0.002006  ...    -0.219269     0.065505   \n",
              "4   0.152579   0.047529  -0.015998   -0.110657  ...    -0.228570     0.064493   \n",
              "\n",
              "   feature_761  feature_762  feature_763  feature_764  feature_765  \\\n",
              "0     0.128649    -0.187129     0.055629    -0.010358     0.125754   \n",
              "1     0.090799    -0.254056    -0.014893     0.071721     0.018918   \n",
              "2    -0.003885    -0.106426     0.012415     0.015215     0.083808   \n",
              "3     0.016679     0.047519    -0.078246    -0.032903     0.082949   \n",
              "4     0.177749    -0.117646    -0.094629     0.069718     0.014379   \n",
              "\n",
              "   feature_766  feature_767  feature_768  \n",
              "0     0.011648     0.079197     0.093215  \n",
              "1     0.100032    -0.083042     0.088615  \n",
              "2     0.031312    -0.056277     0.064702  \n",
              "3    -0.020659     0.082274    -0.050164  \n",
              "4     0.048124     0.007586    -0.016980  \n",
              "\n",
              "[5 rows x 768 columns]"
            ],
            "text/html": [
              "\n",
              "  <div id=\"df-e5fd4466-91ab-42f7-aa13-2563470754c2\" class=\"colab-df-container\">\n",
              "    <div>\n",
              "<style scoped>\n",
              "    .dataframe tbody tr th:only-of-type {\n",
              "        vertical-align: middle;\n",
              "    }\n",
              "\n",
              "    .dataframe tbody tr th {\n",
              "        vertical-align: top;\n",
              "    }\n",
              "\n",
              "    .dataframe thead th {\n",
              "        text-align: right;\n",
              "    }\n",
              "</style>\n",
              "<table border=\"1\" class=\"dataframe\">\n",
              "  <thead>\n",
              "    <tr style=\"text-align: right;\">\n",
              "      <th></th>\n",
              "      <th>feature_1</th>\n",
              "      <th>feature_2</th>\n",
              "      <th>feature_3</th>\n",
              "      <th>feature_4</th>\n",
              "      <th>feature_5</th>\n",
              "      <th>feature_6</th>\n",
              "      <th>feature_7</th>\n",
              "      <th>feature_8</th>\n",
              "      <th>feature_9</th>\n",
              "      <th>feature_10</th>\n",
              "      <th>...</th>\n",
              "      <th>feature_759</th>\n",
              "      <th>feature_760</th>\n",
              "      <th>feature_761</th>\n",
              "      <th>feature_762</th>\n",
              "      <th>feature_763</th>\n",
              "      <th>feature_764</th>\n",
              "      <th>feature_765</th>\n",
              "      <th>feature_766</th>\n",
              "      <th>feature_767</th>\n",
              "      <th>feature_768</th>\n",
              "    </tr>\n",
              "  </thead>\n",
              "  <tbody>\n",
              "    <tr>\n",
              "      <th>0</th>\n",
              "      <td>0.186257</td>\n",
              "      <td>-0.058807</td>\n",
              "      <td>0.024632</td>\n",
              "      <td>-0.163933</td>\n",
              "      <td>-0.146699</td>\n",
              "      <td>0.035889</td>\n",
              "      <td>0.111708</td>\n",
              "      <td>-0.162861</td>\n",
              "      <td>0.028249</td>\n",
              "      <td>-0.098063</td>\n",
              "      <td>...</td>\n",
              "      <td>-0.135802</td>\n",
              "      <td>0.101059</td>\n",
              "      <td>0.128649</td>\n",
              "      <td>-0.187129</td>\n",
              "      <td>0.055629</td>\n",
              "      <td>-0.010358</td>\n",
              "      <td>0.125754</td>\n",
              "      <td>0.011648</td>\n",
              "      <td>0.079197</td>\n",
              "      <td>0.093215</td>\n",
              "    </tr>\n",
              "    <tr>\n",
              "      <th>1</th>\n",
              "      <td>0.063431</td>\n",
              "      <td>-0.023597</td>\n",
              "      <td>0.068057</td>\n",
              "      <td>-0.252915</td>\n",
              "      <td>-0.061094</td>\n",
              "      <td>-0.027316</td>\n",
              "      <td>0.135747</td>\n",
              "      <td>-0.168147</td>\n",
              "      <td>0.091236</td>\n",
              "      <td>-0.078473</td>\n",
              "      <td>...</td>\n",
              "      <td>-0.032524</td>\n",
              "      <td>0.012977</td>\n",
              "      <td>0.090799</td>\n",
              "      <td>-0.254056</td>\n",
              "      <td>-0.014893</td>\n",
              "      <td>0.071721</td>\n",
              "      <td>0.018918</td>\n",
              "      <td>0.100032</td>\n",
              "      <td>-0.083042</td>\n",
              "      <td>0.088615</td>\n",
              "    </tr>\n",
              "    <tr>\n",
              "      <th>2</th>\n",
              "      <td>0.034962</td>\n",
              "      <td>0.035816</td>\n",
              "      <td>-0.029753</td>\n",
              "      <td>-0.094607</td>\n",
              "      <td>-0.017576</td>\n",
              "      <td>-0.053074</td>\n",
              "      <td>0.040121</td>\n",
              "      <td>-0.007932</td>\n",
              "      <td>0.097872</td>\n",
              "      <td>-0.024042</td>\n",
              "      <td>...</td>\n",
              "      <td>-0.016680</td>\n",
              "      <td>-0.015495</td>\n",
              "      <td>-0.003885</td>\n",
              "      <td>-0.106426</td>\n",
              "      <td>0.012415</td>\n",
              "      <td>0.015215</td>\n",
              "      <td>0.083808</td>\n",
              "      <td>0.031312</td>\n",
              "      <td>-0.056277</td>\n",
              "      <td>0.064702</td>\n",
              "    </tr>\n",
              "    <tr>\n",
              "      <th>3</th>\n",
              "      <td>0.033772</td>\n",
              "      <td>0.085612</td>\n",
              "      <td>0.067488</td>\n",
              "      <td>-0.073953</td>\n",
              "      <td>-0.180646</td>\n",
              "      <td>-0.024512</td>\n",
              "      <td>0.242879</td>\n",
              "      <td>-0.023374</td>\n",
              "      <td>-0.059999</td>\n",
              "      <td>0.002006</td>\n",
              "      <td>...</td>\n",
              "      <td>-0.219269</td>\n",
              "      <td>0.065505</td>\n",
              "      <td>0.016679</td>\n",
              "      <td>0.047519</td>\n",
              "      <td>-0.078246</td>\n",
              "      <td>-0.032903</td>\n",
              "      <td>0.082949</td>\n",
              "      <td>-0.020659</td>\n",
              "      <td>0.082274</td>\n",
              "      <td>-0.050164</td>\n",
              "    </tr>\n",
              "    <tr>\n",
              "      <th>4</th>\n",
              "      <td>0.134305</td>\n",
              "      <td>0.062096</td>\n",
              "      <td>0.106920</td>\n",
              "      <td>-0.089327</td>\n",
              "      <td>0.117093</td>\n",
              "      <td>-0.077107</td>\n",
              "      <td>0.152579</td>\n",
              "      <td>0.047529</td>\n",
              "      <td>-0.015998</td>\n",
              "      <td>-0.110657</td>\n",
              "      <td>...</td>\n",
              "      <td>-0.228570</td>\n",
              "      <td>0.064493</td>\n",
              "      <td>0.177749</td>\n",
              "      <td>-0.117646</td>\n",
              "      <td>-0.094629</td>\n",
              "      <td>0.069718</td>\n",
              "      <td>0.014379</td>\n",
              "      <td>0.048124</td>\n",
              "      <td>0.007586</td>\n",
              "      <td>-0.016980</td>\n",
              "    </tr>\n",
              "  </tbody>\n",
              "</table>\n",
              "<p>5 rows × 768 columns</p>\n",
              "</div>\n",
              "    <div class=\"colab-df-buttons\">\n",
              "\n",
              "  <div class=\"colab-df-container\">\n",
              "    <button class=\"colab-df-convert\" onclick=\"convertToInteractive('df-e5fd4466-91ab-42f7-aa13-2563470754c2')\"\n",
              "            title=\"Convert this dataframe to an interactive table.\"\n",
              "            style=\"display:none;\">\n",
              "\n",
              "  <svg xmlns=\"http://www.w3.org/2000/svg\" height=\"24px\" viewBox=\"0 -960 960 960\">\n",
              "    <path d=\"M120-120v-720h720v720H120Zm60-500h600v-160H180v160Zm220 220h160v-160H400v160Zm0 220h160v-160H400v160ZM180-400h160v-160H180v160Zm440 0h160v-160H620v160ZM180-180h160v-160H180v160Zm440 0h160v-160H620v160Z\"/>\n",
              "  </svg>\n",
              "    </button>\n",
              "\n",
              "  <style>\n",
              "    .colab-df-container {\n",
              "      display:flex;\n",
              "      gap: 12px;\n",
              "    }\n",
              "\n",
              "    .colab-df-convert {\n",
              "      background-color: #E8F0FE;\n",
              "      border: none;\n",
              "      border-radius: 50%;\n",
              "      cursor: pointer;\n",
              "      display: none;\n",
              "      fill: #1967D2;\n",
              "      height: 32px;\n",
              "      padding: 0 0 0 0;\n",
              "      width: 32px;\n",
              "    }\n",
              "\n",
              "    .colab-df-convert:hover {\n",
              "      background-color: #E2EBFA;\n",
              "      box-shadow: 0px 1px 2px rgba(60, 64, 67, 0.3), 0px 1px 3px 1px rgba(60, 64, 67, 0.15);\n",
              "      fill: #174EA6;\n",
              "    }\n",
              "\n",
              "    .colab-df-buttons div {\n",
              "      margin-bottom: 4px;\n",
              "    }\n",
              "\n",
              "    [theme=dark] .colab-df-convert {\n",
              "      background-color: #3B4455;\n",
              "      fill: #D2E3FC;\n",
              "    }\n",
              "\n",
              "    [theme=dark] .colab-df-convert:hover {\n",
              "      background-color: #434B5C;\n",
              "      box-shadow: 0px 1px 3px 1px rgba(0, 0, 0, 0.15);\n",
              "      filter: drop-shadow(0px 1px 2px rgba(0, 0, 0, 0.3));\n",
              "      fill: #FFFFFF;\n",
              "    }\n",
              "  </style>\n",
              "\n",
              "    <script>\n",
              "      const buttonEl =\n",
              "        document.querySelector('#df-e5fd4466-91ab-42f7-aa13-2563470754c2 button.colab-df-convert');\n",
              "      buttonEl.style.display =\n",
              "        google.colab.kernel.accessAllowed ? 'block' : 'none';\n",
              "\n",
              "      async function convertToInteractive(key) {\n",
              "        const element = document.querySelector('#df-e5fd4466-91ab-42f7-aa13-2563470754c2');\n",
              "        const dataTable =\n",
              "          await google.colab.kernel.invokeFunction('convertToInteractive',\n",
              "                                                    [key], {});\n",
              "        if (!dataTable) return;\n",
              "\n",
              "        const docLinkHtml = 'Like what you see? Visit the ' +\n",
              "          '<a target=\"_blank\" href=https://colab.research.google.com/notebooks/data_table.ipynb>data table notebook</a>'\n",
              "          + ' to learn more about interactive tables.';\n",
              "        element.innerHTML = '';\n",
              "        dataTable['output_type'] = 'display_data';\n",
              "        await google.colab.output.renderOutput(dataTable, element);\n",
              "        const docLink = document.createElement('div');\n",
              "        docLink.innerHTML = docLinkHtml;\n",
              "        element.appendChild(docLink);\n",
              "      }\n",
              "    </script>\n",
              "  </div>\n",
              "\n",
              "\n",
              "<div id=\"df-f1f07151-e8e4-4d1a-ad68-bc5ae60ce8ea\">\n",
              "  <button class=\"colab-df-quickchart\" onclick=\"quickchart('df-f1f07151-e8e4-4d1a-ad68-bc5ae60ce8ea')\"\n",
              "            title=\"Suggest charts.\"\n",
              "            style=\"display:none;\">\n",
              "\n",
              "<svg xmlns=\"http://www.w3.org/2000/svg\" height=\"24px\"viewBox=\"0 0 24 24\"\n",
              "     width=\"24px\">\n",
              "    <g>\n",
              "        <path d=\"M19 3H5c-1.1 0-2 .9-2 2v14c0 1.1.9 2 2 2h14c1.1 0 2-.9 2-2V5c0-1.1-.9-2-2-2zM9 17H7v-7h2v7zm4 0h-2V7h2v10zm4 0h-2v-4h2v4z\"/>\n",
              "    </g>\n",
              "</svg>\n",
              "  </button>\n",
              "\n",
              "<style>\n",
              "  .colab-df-quickchart {\n",
              "      --bg-color: #E8F0FE;\n",
              "      --fill-color: #1967D2;\n",
              "      --hover-bg-color: #E2EBFA;\n",
              "      --hover-fill-color: #174EA6;\n",
              "      --disabled-fill-color: #AAA;\n",
              "      --disabled-bg-color: #DDD;\n",
              "  }\n",
              "\n",
              "  [theme=dark] .colab-df-quickchart {\n",
              "      --bg-color: #3B4455;\n",
              "      --fill-color: #D2E3FC;\n",
              "      --hover-bg-color: #434B5C;\n",
              "      --hover-fill-color: #FFFFFF;\n",
              "      --disabled-bg-color: #3B4455;\n",
              "      --disabled-fill-color: #666;\n",
              "  }\n",
              "\n",
              "  .colab-df-quickchart {\n",
              "    background-color: var(--bg-color);\n",
              "    border: none;\n",
              "    border-radius: 50%;\n",
              "    cursor: pointer;\n",
              "    display: none;\n",
              "    fill: var(--fill-color);\n",
              "    height: 32px;\n",
              "    padding: 0;\n",
              "    width: 32px;\n",
              "  }\n",
              "\n",
              "  .colab-df-quickchart:hover {\n",
              "    background-color: var(--hover-bg-color);\n",
              "    box-shadow: 0 1px 2px rgba(60, 64, 67, 0.3), 0 1px 3px 1px rgba(60, 64, 67, 0.15);\n",
              "    fill: var(--button-hover-fill-color);\n",
              "  }\n",
              "\n",
              "  .colab-df-quickchart-complete:disabled,\n",
              "  .colab-df-quickchart-complete:disabled:hover {\n",
              "    background-color: var(--disabled-bg-color);\n",
              "    fill: var(--disabled-fill-color);\n",
              "    box-shadow: none;\n",
              "  }\n",
              "\n",
              "  .colab-df-spinner {\n",
              "    border: 2px solid var(--fill-color);\n",
              "    border-color: transparent;\n",
              "    border-bottom-color: var(--fill-color);\n",
              "    animation:\n",
              "      spin 1s steps(1) infinite;\n",
              "  }\n",
              "\n",
              "  @keyframes spin {\n",
              "    0% {\n",
              "      border-color: transparent;\n",
              "      border-bottom-color: var(--fill-color);\n",
              "      border-left-color: var(--fill-color);\n",
              "    }\n",
              "    20% {\n",
              "      border-color: transparent;\n",
              "      border-left-color: var(--fill-color);\n",
              "      border-top-color: var(--fill-color);\n",
              "    }\n",
              "    30% {\n",
              "      border-color: transparent;\n",
              "      border-left-color: var(--fill-color);\n",
              "      border-top-color: var(--fill-color);\n",
              "      border-right-color: var(--fill-color);\n",
              "    }\n",
              "    40% {\n",
              "      border-color: transparent;\n",
              "      border-right-color: var(--fill-color);\n",
              "      border-top-color: var(--fill-color);\n",
              "    }\n",
              "    60% {\n",
              "      border-color: transparent;\n",
              "      border-right-color: var(--fill-color);\n",
              "    }\n",
              "    80% {\n",
              "      border-color: transparent;\n",
              "      border-right-color: var(--fill-color);\n",
              "      border-bottom-color: var(--fill-color);\n",
              "    }\n",
              "    90% {\n",
              "      border-color: transparent;\n",
              "      border-bottom-color: var(--fill-color);\n",
              "    }\n",
              "  }\n",
              "</style>\n",
              "\n",
              "  <script>\n",
              "    async function quickchart(key) {\n",
              "      const quickchartButtonEl =\n",
              "        document.querySelector('#' + key + ' button');\n",
              "      quickchartButtonEl.disabled = true;  // To prevent multiple clicks.\n",
              "      quickchartButtonEl.classList.add('colab-df-spinner');\n",
              "      try {\n",
              "        const charts = await google.colab.kernel.invokeFunction(\n",
              "            'suggestCharts', [key], {});\n",
              "      } catch (error) {\n",
              "        console.error('Error during call to suggestCharts:', error);\n",
              "      }\n",
              "      quickchartButtonEl.classList.remove('colab-df-spinner');\n",
              "      quickchartButtonEl.classList.add('colab-df-quickchart-complete');\n",
              "    }\n",
              "    (() => {\n",
              "      let quickchartButtonEl =\n",
              "        document.querySelector('#df-f1f07151-e8e4-4d1a-ad68-bc5ae60ce8ea button');\n",
              "      quickchartButtonEl.style.display =\n",
              "        google.colab.kernel.accessAllowed ? 'block' : 'none';\n",
              "    })();\n",
              "  </script>\n",
              "</div>\n",
              "    </div>\n",
              "  </div>\n"
            ]
          },
          "metadata": {},
          "execution_count": 49
        }
      ],
      "source": [
        "x_label_1.head()"
      ]
    },
    {
      "cell_type": "code",
      "execution_count": null,
      "metadata": {
        "colab": {
          "base_uri": "https://localhost:8080/"
        },
        "id": "rG6ik9dCQMDr",
        "outputId": "652acc71-2f57-4f50-fb85-cf0b502ab715"
      },
      "outputs": [
        {
          "output_type": "execute_result",
          "data": {
            "text/plain": [
              "0    45\n",
              "1    45\n",
              "2    45\n",
              "3    45\n",
              "4    45\n",
              "Name: label_1, dtype: int64"
            ]
          },
          "metadata": {},
          "execution_count": 50
        }
      ],
      "source": [
        "y_label_1.head()"
      ]
    },
    {
      "cell_type": "code",
      "source": [
        "x_test_label_1 = test.iloc[:, 1:]\n",
        "x_test_label_1.head()"
      ],
      "metadata": {
        "colab": {
          "base_uri": "https://localhost:8080/",
          "height": 256
        },
        "id": "Vl5jzY5Xm5H1",
        "outputId": "9c4c01f0-5223-4fb4-daea-359092de0b55"
      },
      "execution_count": null,
      "outputs": [
        {
          "output_type": "execute_result",
          "data": {
            "text/plain": [
              "   feature_1  feature_2  feature_3  feature_4  feature_5  feature_6  \\\n",
              "0   0.187868  -0.009268   0.039846  -0.102515  -0.109121  -0.079769   \n",
              "1   0.122119   0.019015   0.134483   0.007949  -0.157884  -0.033332   \n",
              "2   0.079187   0.146195  -0.001316  -0.085596  -0.261093  -0.021620   \n",
              "3   0.231196   0.021558   0.215534  -0.210258  -0.158189   0.041621   \n",
              "4   0.020412   0.063732  -0.065506  -0.089598  -0.130788  -0.018809   \n",
              "\n",
              "   feature_7  feature_8  feature_9  feature_10  ...  feature_759  feature_760  \\\n",
              "0   0.061295  -0.042890   0.099860   -0.066319  ...     0.043647     0.061174   \n",
              "1   0.044334  -0.016869  -0.014088   -0.060542  ...    -0.179798    -0.027611   \n",
              "2   0.268898  -0.103950   0.068976   -0.062388  ...    -0.075460     0.037346   \n",
              "3   0.240254  -0.068112  -0.017550   -0.233767  ...     0.083334     0.141642   \n",
              "4   0.119304  -0.057494   0.094714   -0.047923  ...    -0.001969    -0.003025   \n",
              "\n",
              "   feature_761  feature_762  feature_763  feature_764  feature_765  \\\n",
              "0     0.026771    -0.092734    -0.052383    -0.055526     0.029101   \n",
              "1     0.240023    -0.005648    -0.057537     0.023922    -0.038126   \n",
              "2     0.124254    -0.369695    -0.056773    -0.028471     0.019971   \n",
              "3    -0.007219     0.031547    -0.010762    -0.169036    -0.030963   \n",
              "4    -0.021156    -0.136993    -0.003615     0.036371     0.048715   \n",
              "\n",
              "   feature_766  feature_767  feature_768  \n",
              "0     0.041857    -0.027872     0.099500  \n",
              "1    -0.015171    -0.006270    -0.003790  \n",
              "2    -0.065683    -0.047366    -0.121744  \n",
              "3     0.086698     0.114194    -0.036775  \n",
              "4    -0.002688    -0.016957    -0.004331  \n",
              "\n",
              "[5 rows x 768 columns]"
            ],
            "text/html": [
              "\n",
              "  <div id=\"df-56ab7a1a-61a1-4ab8-b11d-4c02b916cb63\" class=\"colab-df-container\">\n",
              "    <div>\n",
              "<style scoped>\n",
              "    .dataframe tbody tr th:only-of-type {\n",
              "        vertical-align: middle;\n",
              "    }\n",
              "\n",
              "    .dataframe tbody tr th {\n",
              "        vertical-align: top;\n",
              "    }\n",
              "\n",
              "    .dataframe thead th {\n",
              "        text-align: right;\n",
              "    }\n",
              "</style>\n",
              "<table border=\"1\" class=\"dataframe\">\n",
              "  <thead>\n",
              "    <tr style=\"text-align: right;\">\n",
              "      <th></th>\n",
              "      <th>feature_1</th>\n",
              "      <th>feature_2</th>\n",
              "      <th>feature_3</th>\n",
              "      <th>feature_4</th>\n",
              "      <th>feature_5</th>\n",
              "      <th>feature_6</th>\n",
              "      <th>feature_7</th>\n",
              "      <th>feature_8</th>\n",
              "      <th>feature_9</th>\n",
              "      <th>feature_10</th>\n",
              "      <th>...</th>\n",
              "      <th>feature_759</th>\n",
              "      <th>feature_760</th>\n",
              "      <th>feature_761</th>\n",
              "      <th>feature_762</th>\n",
              "      <th>feature_763</th>\n",
              "      <th>feature_764</th>\n",
              "      <th>feature_765</th>\n",
              "      <th>feature_766</th>\n",
              "      <th>feature_767</th>\n",
              "      <th>feature_768</th>\n",
              "    </tr>\n",
              "  </thead>\n",
              "  <tbody>\n",
              "    <tr>\n",
              "      <th>0</th>\n",
              "      <td>0.187868</td>\n",
              "      <td>-0.009268</td>\n",
              "      <td>0.039846</td>\n",
              "      <td>-0.102515</td>\n",
              "      <td>-0.109121</td>\n",
              "      <td>-0.079769</td>\n",
              "      <td>0.061295</td>\n",
              "      <td>-0.042890</td>\n",
              "      <td>0.099860</td>\n",
              "      <td>-0.066319</td>\n",
              "      <td>...</td>\n",
              "      <td>0.043647</td>\n",
              "      <td>0.061174</td>\n",
              "      <td>0.026771</td>\n",
              "      <td>-0.092734</td>\n",
              "      <td>-0.052383</td>\n",
              "      <td>-0.055526</td>\n",
              "      <td>0.029101</td>\n",
              "      <td>0.041857</td>\n",
              "      <td>-0.027872</td>\n",
              "      <td>0.099500</td>\n",
              "    </tr>\n",
              "    <tr>\n",
              "      <th>1</th>\n",
              "      <td>0.122119</td>\n",
              "      <td>0.019015</td>\n",
              "      <td>0.134483</td>\n",
              "      <td>0.007949</td>\n",
              "      <td>-0.157884</td>\n",
              "      <td>-0.033332</td>\n",
              "      <td>0.044334</td>\n",
              "      <td>-0.016869</td>\n",
              "      <td>-0.014088</td>\n",
              "      <td>-0.060542</td>\n",
              "      <td>...</td>\n",
              "      <td>-0.179798</td>\n",
              "      <td>-0.027611</td>\n",
              "      <td>0.240023</td>\n",
              "      <td>-0.005648</td>\n",
              "      <td>-0.057537</td>\n",
              "      <td>0.023922</td>\n",
              "      <td>-0.038126</td>\n",
              "      <td>-0.015171</td>\n",
              "      <td>-0.006270</td>\n",
              "      <td>-0.003790</td>\n",
              "    </tr>\n",
              "    <tr>\n",
              "      <th>2</th>\n",
              "      <td>0.079187</td>\n",
              "      <td>0.146195</td>\n",
              "      <td>-0.001316</td>\n",
              "      <td>-0.085596</td>\n",
              "      <td>-0.261093</td>\n",
              "      <td>-0.021620</td>\n",
              "      <td>0.268898</td>\n",
              "      <td>-0.103950</td>\n",
              "      <td>0.068976</td>\n",
              "      <td>-0.062388</td>\n",
              "      <td>...</td>\n",
              "      <td>-0.075460</td>\n",
              "      <td>0.037346</td>\n",
              "      <td>0.124254</td>\n",
              "      <td>-0.369695</td>\n",
              "      <td>-0.056773</td>\n",
              "      <td>-0.028471</td>\n",
              "      <td>0.019971</td>\n",
              "      <td>-0.065683</td>\n",
              "      <td>-0.047366</td>\n",
              "      <td>-0.121744</td>\n",
              "    </tr>\n",
              "    <tr>\n",
              "      <th>3</th>\n",
              "      <td>0.231196</td>\n",
              "      <td>0.021558</td>\n",
              "      <td>0.215534</td>\n",
              "      <td>-0.210258</td>\n",
              "      <td>-0.158189</td>\n",
              "      <td>0.041621</td>\n",
              "      <td>0.240254</td>\n",
              "      <td>-0.068112</td>\n",
              "      <td>-0.017550</td>\n",
              "      <td>-0.233767</td>\n",
              "      <td>...</td>\n",
              "      <td>0.083334</td>\n",
              "      <td>0.141642</td>\n",
              "      <td>-0.007219</td>\n",
              "      <td>0.031547</td>\n",
              "      <td>-0.010762</td>\n",
              "      <td>-0.169036</td>\n",
              "      <td>-0.030963</td>\n",
              "      <td>0.086698</td>\n",
              "      <td>0.114194</td>\n",
              "      <td>-0.036775</td>\n",
              "    </tr>\n",
              "    <tr>\n",
              "      <th>4</th>\n",
              "      <td>0.020412</td>\n",
              "      <td>0.063732</td>\n",
              "      <td>-0.065506</td>\n",
              "      <td>-0.089598</td>\n",
              "      <td>-0.130788</td>\n",
              "      <td>-0.018809</td>\n",
              "      <td>0.119304</td>\n",
              "      <td>-0.057494</td>\n",
              "      <td>0.094714</td>\n",
              "      <td>-0.047923</td>\n",
              "      <td>...</td>\n",
              "      <td>-0.001969</td>\n",
              "      <td>-0.003025</td>\n",
              "      <td>-0.021156</td>\n",
              "      <td>-0.136993</td>\n",
              "      <td>-0.003615</td>\n",
              "      <td>0.036371</td>\n",
              "      <td>0.048715</td>\n",
              "      <td>-0.002688</td>\n",
              "      <td>-0.016957</td>\n",
              "      <td>-0.004331</td>\n",
              "    </tr>\n",
              "  </tbody>\n",
              "</table>\n",
              "<p>5 rows × 768 columns</p>\n",
              "</div>\n",
              "    <div class=\"colab-df-buttons\">\n",
              "\n",
              "  <div class=\"colab-df-container\">\n",
              "    <button class=\"colab-df-convert\" onclick=\"convertToInteractive('df-56ab7a1a-61a1-4ab8-b11d-4c02b916cb63')\"\n",
              "            title=\"Convert this dataframe to an interactive table.\"\n",
              "            style=\"display:none;\">\n",
              "\n",
              "  <svg xmlns=\"http://www.w3.org/2000/svg\" height=\"24px\" viewBox=\"0 -960 960 960\">\n",
              "    <path d=\"M120-120v-720h720v720H120Zm60-500h600v-160H180v160Zm220 220h160v-160H400v160Zm0 220h160v-160H400v160ZM180-400h160v-160H180v160Zm440 0h160v-160H620v160ZM180-180h160v-160H180v160Zm440 0h160v-160H620v160Z\"/>\n",
              "  </svg>\n",
              "    </button>\n",
              "\n",
              "  <style>\n",
              "    .colab-df-container {\n",
              "      display:flex;\n",
              "      gap: 12px;\n",
              "    }\n",
              "\n",
              "    .colab-df-convert {\n",
              "      background-color: #E8F0FE;\n",
              "      border: none;\n",
              "      border-radius: 50%;\n",
              "      cursor: pointer;\n",
              "      display: none;\n",
              "      fill: #1967D2;\n",
              "      height: 32px;\n",
              "      padding: 0 0 0 0;\n",
              "      width: 32px;\n",
              "    }\n",
              "\n",
              "    .colab-df-convert:hover {\n",
              "      background-color: #E2EBFA;\n",
              "      box-shadow: 0px 1px 2px rgba(60, 64, 67, 0.3), 0px 1px 3px 1px rgba(60, 64, 67, 0.15);\n",
              "      fill: #174EA6;\n",
              "    }\n",
              "\n",
              "    .colab-df-buttons div {\n",
              "      margin-bottom: 4px;\n",
              "    }\n",
              "\n",
              "    [theme=dark] .colab-df-convert {\n",
              "      background-color: #3B4455;\n",
              "      fill: #D2E3FC;\n",
              "    }\n",
              "\n",
              "    [theme=dark] .colab-df-convert:hover {\n",
              "      background-color: #434B5C;\n",
              "      box-shadow: 0px 1px 3px 1px rgba(0, 0, 0, 0.15);\n",
              "      filter: drop-shadow(0px 1px 2px rgba(0, 0, 0, 0.3));\n",
              "      fill: #FFFFFF;\n",
              "    }\n",
              "  </style>\n",
              "\n",
              "    <script>\n",
              "      const buttonEl =\n",
              "        document.querySelector('#df-56ab7a1a-61a1-4ab8-b11d-4c02b916cb63 button.colab-df-convert');\n",
              "      buttonEl.style.display =\n",
              "        google.colab.kernel.accessAllowed ? 'block' : 'none';\n",
              "\n",
              "      async function convertToInteractive(key) {\n",
              "        const element = document.querySelector('#df-56ab7a1a-61a1-4ab8-b11d-4c02b916cb63');\n",
              "        const dataTable =\n",
              "          await google.colab.kernel.invokeFunction('convertToInteractive',\n",
              "                                                    [key], {});\n",
              "        if (!dataTable) return;\n",
              "\n",
              "        const docLinkHtml = 'Like what you see? Visit the ' +\n",
              "          '<a target=\"_blank\" href=https://colab.research.google.com/notebooks/data_table.ipynb>data table notebook</a>'\n",
              "          + ' to learn more about interactive tables.';\n",
              "        element.innerHTML = '';\n",
              "        dataTable['output_type'] = 'display_data';\n",
              "        await google.colab.output.renderOutput(dataTable, element);\n",
              "        const docLink = document.createElement('div');\n",
              "        docLink.innerHTML = docLinkHtml;\n",
              "        element.appendChild(docLink);\n",
              "      }\n",
              "    </script>\n",
              "  </div>\n",
              "\n",
              "\n",
              "<div id=\"df-0dd06a07-f701-416a-a5ed-df0501b014a5\">\n",
              "  <button class=\"colab-df-quickchart\" onclick=\"quickchart('df-0dd06a07-f701-416a-a5ed-df0501b014a5')\"\n",
              "            title=\"Suggest charts.\"\n",
              "            style=\"display:none;\">\n",
              "\n",
              "<svg xmlns=\"http://www.w3.org/2000/svg\" height=\"24px\"viewBox=\"0 0 24 24\"\n",
              "     width=\"24px\">\n",
              "    <g>\n",
              "        <path d=\"M19 3H5c-1.1 0-2 .9-2 2v14c0 1.1.9 2 2 2h14c1.1 0 2-.9 2-2V5c0-1.1-.9-2-2-2zM9 17H7v-7h2v7zm4 0h-2V7h2v10zm4 0h-2v-4h2v4z\"/>\n",
              "    </g>\n",
              "</svg>\n",
              "  </button>\n",
              "\n",
              "<style>\n",
              "  .colab-df-quickchart {\n",
              "      --bg-color: #E8F0FE;\n",
              "      --fill-color: #1967D2;\n",
              "      --hover-bg-color: #E2EBFA;\n",
              "      --hover-fill-color: #174EA6;\n",
              "      --disabled-fill-color: #AAA;\n",
              "      --disabled-bg-color: #DDD;\n",
              "  }\n",
              "\n",
              "  [theme=dark] .colab-df-quickchart {\n",
              "      --bg-color: #3B4455;\n",
              "      --fill-color: #D2E3FC;\n",
              "      --hover-bg-color: #434B5C;\n",
              "      --hover-fill-color: #FFFFFF;\n",
              "      --disabled-bg-color: #3B4455;\n",
              "      --disabled-fill-color: #666;\n",
              "  }\n",
              "\n",
              "  .colab-df-quickchart {\n",
              "    background-color: var(--bg-color);\n",
              "    border: none;\n",
              "    border-radius: 50%;\n",
              "    cursor: pointer;\n",
              "    display: none;\n",
              "    fill: var(--fill-color);\n",
              "    height: 32px;\n",
              "    padding: 0;\n",
              "    width: 32px;\n",
              "  }\n",
              "\n",
              "  .colab-df-quickchart:hover {\n",
              "    background-color: var(--hover-bg-color);\n",
              "    box-shadow: 0 1px 2px rgba(60, 64, 67, 0.3), 0 1px 3px 1px rgba(60, 64, 67, 0.15);\n",
              "    fill: var(--button-hover-fill-color);\n",
              "  }\n",
              "\n",
              "  .colab-df-quickchart-complete:disabled,\n",
              "  .colab-df-quickchart-complete:disabled:hover {\n",
              "    background-color: var(--disabled-bg-color);\n",
              "    fill: var(--disabled-fill-color);\n",
              "    box-shadow: none;\n",
              "  }\n",
              "\n",
              "  .colab-df-spinner {\n",
              "    border: 2px solid var(--fill-color);\n",
              "    border-color: transparent;\n",
              "    border-bottom-color: var(--fill-color);\n",
              "    animation:\n",
              "      spin 1s steps(1) infinite;\n",
              "  }\n",
              "\n",
              "  @keyframes spin {\n",
              "    0% {\n",
              "      border-color: transparent;\n",
              "      border-bottom-color: var(--fill-color);\n",
              "      border-left-color: var(--fill-color);\n",
              "    }\n",
              "    20% {\n",
              "      border-color: transparent;\n",
              "      border-left-color: var(--fill-color);\n",
              "      border-top-color: var(--fill-color);\n",
              "    }\n",
              "    30% {\n",
              "      border-color: transparent;\n",
              "      border-left-color: var(--fill-color);\n",
              "      border-top-color: var(--fill-color);\n",
              "      border-right-color: var(--fill-color);\n",
              "    }\n",
              "    40% {\n",
              "      border-color: transparent;\n",
              "      border-right-color: var(--fill-color);\n",
              "      border-top-color: var(--fill-color);\n",
              "    }\n",
              "    60% {\n",
              "      border-color: transparent;\n",
              "      border-right-color: var(--fill-color);\n",
              "    }\n",
              "    80% {\n",
              "      border-color: transparent;\n",
              "      border-right-color: var(--fill-color);\n",
              "      border-bottom-color: var(--fill-color);\n",
              "    }\n",
              "    90% {\n",
              "      border-color: transparent;\n",
              "      border-bottom-color: var(--fill-color);\n",
              "    }\n",
              "  }\n",
              "</style>\n",
              "\n",
              "  <script>\n",
              "    async function quickchart(key) {\n",
              "      const quickchartButtonEl =\n",
              "        document.querySelector('#' + key + ' button');\n",
              "      quickchartButtonEl.disabled = true;  // To prevent multiple clicks.\n",
              "      quickchartButtonEl.classList.add('colab-df-spinner');\n",
              "      try {\n",
              "        const charts = await google.colab.kernel.invokeFunction(\n",
              "            'suggestCharts', [key], {});\n",
              "      } catch (error) {\n",
              "        console.error('Error during call to suggestCharts:', error);\n",
              "      }\n",
              "      quickchartButtonEl.classList.remove('colab-df-spinner');\n",
              "      quickchartButtonEl.classList.add('colab-df-quickchart-complete');\n",
              "    }\n",
              "    (() => {\n",
              "      let quickchartButtonEl =\n",
              "        document.querySelector('#df-0dd06a07-f701-416a-a5ed-df0501b014a5 button');\n",
              "      quickchartButtonEl.style.display =\n",
              "        google.colab.kernel.accessAllowed ? 'block' : 'none';\n",
              "    })();\n",
              "  </script>\n",
              "</div>\n",
              "    </div>\n",
              "  </div>\n"
            ]
          },
          "metadata": {},
          "execution_count": 6
        }
      ]
    },
    {
      "cell_type": "markdown",
      "metadata": {
        "id": "dzr0TaCRIYwH"
      },
      "source": [
        "##Class Distribution"
      ]
    },
    {
      "cell_type": "code",
      "execution_count": null,
      "metadata": {
        "id": "zrSD-mfQIcBt"
      },
      "outputs": [],
      "source": [
        "\n",
        "import matplotlib.pyplot as plt\n",
        "\n",
        "def plot_class_distribution(y):\n",
        "  label_counts = y.value_counts()\n",
        "  plt.figure(figsize=(12, 6))\n",
        "  label_counts.plot(kind='bar')\n",
        "  plt.xlabel('Value')\n",
        "  plt.ylabel('Count')\n",
        "  plt.title('Class Distribution')\n",
        "  plt.xticks(rotation=45)\n",
        "  plt.show()"
      ]
    },
    {
      "cell_type": "code",
      "execution_count": null,
      "metadata": {
        "colab": {
          "base_uri": "https://localhost:8080/",
          "height": 573
        },
        "id": "vfMYTSgAJIYK",
        "outputId": "c569029a-683a-4ab3-9cb9-7c99db28ebf7"
      },
      "outputs": [
        {
          "output_type": "display_data",
          "data": {
            "text/plain": [
              "<Figure size 1200x600 with 1 Axes>"
            ],
            "image/png": "[encoded data removed]"
          },
          "metadata": {}
        }
      ],
      "source": [
        "plot_class_distribution(y_label_1)"
      ]
    },
    {
      "cell_type": "markdown",
      "metadata": {
        "id": "Qfpi4hAAIfLy"
      },
      "source": [
        "`label 1` shows an even class distribition."
      ]
    },
    {
      "cell_type": "markdown",
      "metadata": {
        "id": "R3J3bo0dR3O5"
      },
      "source": [
        "##Feature Selection\n",
        "###Check for columns with low variance"
      ]
    },
    {
      "cell_type": "code",
      "execution_count": null,
      "metadata": {
        "id": "d0mDE-nDR7jl"
      },
      "outputs": [],
      "source": [
        "from sklearn.feature_selection import VarianceThreshold\n",
        "\n",
        "def variance_check(x: pd.DataFrame, variance: float) -> []:\n",
        "  try:\n",
        "    var_thres = VarianceThreshold(variance)\n",
        "    var_thres.fit(x)\n",
        "\n",
        "    const_columns = [column for column in x.columns\n",
        "                        if column not in x_label_1.columns[var_thres.get_support()]]\n",
        "\n",
        "    print(f\"The number of constant columns is {len(const_columns)}.\")\n",
        "    return const_columns\n",
        "\n",
        "  except ValueError:\n",
        "    print(f\"No feature exists with variance grater than {variance}.\")\n",
        "    return []"
      ]
    },
    {
      "cell_type": "code",
      "execution_count": null,
      "metadata": {
        "colab": {
          "base_uri": "https://localhost:8080/"
        },
        "id": "N25Tp2vBbk3t",
        "outputId": "7bdc73f9-7923-473c-a771-0db3e67d8be7"
      },
      "outputs": [
        {
          "output_type": "stream",
          "name": "stdout",
          "text": [
            "No feature exists with variance grater than 0.3.\n"
          ]
        }
      ],
      "source": [
        "const_columns_label_1 = variance_check(x_label_1, 0.3)"
      ]
    },
    {
      "cell_type": "code",
      "execution_count": null,
      "metadata": {
        "colab": {
          "base_uri": "https://localhost:8080/"
        },
        "id": "RCjW5HGkbpcU",
        "outputId": "d8dcf94a-cb5f-4049-be60-e1e051fab5c0"
      },
      "outputs": [
        {
          "output_type": "stream",
          "name": "stdout",
          "text": [
            "No feature exists with variance grater than 0.2.\n"
          ]
        }
      ],
      "source": [
        "const_columns_label_1 = variance_check(x_label_1, 0.2)"
      ]
    },
    {
      "cell_type": "code",
      "execution_count": null,
      "metadata": {
        "colab": {
          "base_uri": "https://localhost:8080/"
        },
        "id": "Y1D0ayQobsO7",
        "outputId": "80e97bf2-b367-42cb-876a-cf8e9b0103cc"
      },
      "outputs": [
        {
          "output_type": "stream",
          "name": "stdout",
          "text": [
            "No feature exists with variance grater than 0.18.\n"
          ]
        }
      ],
      "source": [
        "const_columns_label_1 = variance_check(x_label_1, 0.18)"
      ]
    },
    {
      "cell_type": "code",
      "execution_count": null,
      "metadata": {
        "colab": {
          "base_uri": "https://localhost:8080/"
        },
        "id": "prCr4-_tbvMM",
        "outputId": "8ffcbb66-d63f-4c89-ccfe-1aba17010061"
      },
      "outputs": [
        {
          "output_type": "stream",
          "name": "stdout",
          "text": [
            "The number of constant columns is 767.\n"
          ]
        }
      ],
      "source": [
        "const_columns_label_1 = variance_check(x_label_1, 0.17)"
      ]
    },
    {
      "cell_type": "markdown",
      "metadata": {
        "id": "3lZWRTJLd35S"
      },
      "source": [
        "Almost all columns have lower variance than 0.17. Therefore, I could not take any feature selection decision based on the variance."
      ]
    },
    {
      "cell_type": "markdown",
      "metadata": {
        "id": "sA2SzX3IWBy-"
      },
      "source": [
        "###Check for correlation between features"
      ]
    },
    {
      "cell_type": "code",
      "execution_count": null,
      "metadata": {
        "id": "kH_ZmZnBWHwr"
      },
      "outputs": [],
      "source": [
        "def correlation_check(x: pd.DataFrame, threshold: float) -> set:\n",
        "  correlated_features = set()\n",
        "  correlation_matrix = x.corr()\n",
        "  for i in range(len(x.columns)):\n",
        "      for j in range(i):\n",
        "          if abs(correlation_matrix.iloc[i, j]) > threshold:\n",
        "              colname = correlation_matrix.columns[i]\n",
        "              correlated_features.add(colname)\n",
        "  return correlated_features"
      ]
    },
    {
      "cell_type": "code",
      "execution_count": null,
      "metadata": {
        "colab": {
          "base_uri": "https://localhost:8080/"
        },
        "id": "wNP3tvingDHV",
        "outputId": "df86c098-bae6-4cdb-ef4c-765e0a95e180"
      },
      "outputs": [
        {
          "output_type": "stream",
          "name": "stdout",
          "text": [
            "0\n"
          ]
        }
      ],
      "source": [
        "corr = correlation_check(x_label_1, 0.9)\n",
        "print(len(corr))"
      ]
    },
    {
      "cell_type": "code",
      "execution_count": null,
      "metadata": {
        "colab": {
          "base_uri": "https://localhost:8080/"
        },
        "id": "aW7tAGy8g0SS",
        "outputId": "8fc037e6-11d5-49f1-f392-9e88f94f28c2"
      },
      "outputs": [
        {
          "output_type": "stream",
          "name": "stdout",
          "text": [
            "4\n"
          ]
        }
      ],
      "source": [
        "corr = correlation_check(x_label_1, 0.7)\n",
        "print(len(corr))"
      ]
    },
    {
      "cell_type": "markdown",
      "metadata": {
        "id": "JbCwvEdchJzx"
      },
      "source": [
        "There are 4 features with correlation value greater than 0.7. Dropping those columns."
      ]
    },
    {
      "cell_type": "code",
      "execution_count": null,
      "metadata": {
        "colab": {
          "base_uri": "https://localhost:8080/"
        },
        "id": "jSkt6_3xhWnr",
        "outputId": "22edf8f3-9043-4a85-fd8e-4402670f3b61"
      },
      "outputs": [
        {
          "output_type": "execute_result",
          "data": {
            "text/plain": [
              "{'feature_366', 'feature_396', 'feature_548', 'feature_620'}"
            ]
          },
          "metadata": {},
          "execution_count": 16
        }
      ],
      "source": [
        "corr"
      ]
    },
    {
      "cell_type": "code",
      "execution_count": null,
      "metadata": {
        "id": "U8d59DudhZFc"
      },
      "outputs": [],
      "source": [
        "x_label_1 = x_label_1.drop(corr, axis = 1)"
      ]
    },
    {
      "cell_type": "code",
      "execution_count": null,
      "metadata": {
        "id": "m7F317X-inPs"
      },
      "outputs": [],
      "source": [
        "x_valid_label_1 = x_valid_label_1.drop(corr, axis = 1)"
      ]
    },
    {
      "cell_type": "code",
      "source": [
        "x_test_label_1 = x_test_label_1.drop(corr, axis = 1)"
      ],
      "metadata": {
        "id": "TW-UKgF6ognn"
      },
      "execution_count": null,
      "outputs": []
    },
    {
      "cell_type": "markdown",
      "metadata": {
        "id": "CKTFQVnZIynY"
      },
      "source": [
        "###Mutual Information Classification"
      ]
    },
    {
      "cell_type": "code",
      "execution_count": null,
      "metadata": {
        "id": "BjZdK7WEI39g"
      },
      "outputs": [],
      "source": [
        "from sklearn.feature_selection import mutual_info_classif\n",
        "\n",
        "def plot_mi(x: pd.DataFrame, y: pd.DataFrame) -> pd.Series:\n",
        "  mi = pd.Series(mutual_info_classif(x, y))\n",
        "  mi = mi.sort_values(ascending=False)\n",
        "  mi.plot.bar(figsize=(32, 12))\n",
        "  return mi"
      ]
    },
    {
      "cell_type": "code",
      "execution_count": null,
      "metadata": {
        "colab": {
          "base_uri": "https://localhost:8080/",
          "height": 709
        },
        "id": "iGB30elFLTuA",
        "outputId": "60548471-9c55-4df9-a8a2-1b83748357a3"
      },
      "outputs": [
        {
          "output_type": "display_data",
          "data": {
            "text/plain": [
              "<Figure size 3200x1200 with 1 Axes>"
            ],
            "image/png": "[encoded data removed]"
          },
          "metadata": {}
        }
      ],
      "source": [
        "mi_label_1 = plot_mi(x_label_1, y_label_1)"
      ]
    },
    {
      "cell_type": "markdown",
      "metadata": {
        "id": "iJFdHum5Mu34"
      },
      "source": [
        "Observing the distribution of the graph, selecting features with mutual information scre greater than 0.06."
      ]
    },
    {
      "cell_type": "code",
      "execution_count": null,
      "metadata": {
        "id": "VjbedJKqNDqf"
      },
      "outputs": [],
      "source": [
        "def feature_selection_mi(mi: pd.Series, x: pd.DataFrame, threshold: float) -> pd.DataFrame:\n",
        "  selected_features = mi[mi > threshold]\n",
        "  print (f\"Selected {selected_features.count()} features out of {len(mi)} features.\")\n",
        "  selected_cols = x.columns[selected_features.index]\n",
        "  print(selected_cols)\n",
        "  return selected_cols"
      ]
    },
    {
      "cell_type": "code",
      "execution_count": null,
      "metadata": {
        "colab": {
          "base_uri": "https://localhost:8080/"
        },
        "id": "5UqaCzoOOFsL",
        "outputId": "7f8dfc33-6cc8-4621-ceb5-9a02ebe6d15b"
      },
      "outputs": [
        {
          "output_type": "stream",
          "name": "stdout",
          "text": [
            "Selected 240 features out of 764 features.\n",
            "Index(['feature_242', 'feature_582', 'feature_302', 'feature_204',\n",
            "       'feature_545', 'feature_697', 'feature_402', 'feature_292',\n",
            "       'feature_154', 'feature_27',\n",
            "       ...\n",
            "       'feature_654', 'feature_643', 'feature_257', 'feature_68',\n",
            "       'feature_738', 'feature_365', 'feature_653', 'feature_672',\n",
            "       'feature_141', 'feature_631'],\n",
            "      dtype='object', length=240)\n"
          ]
        }
      ],
      "source": [
        "selected_col_names_label_1 = feature_selection_mi(mi_label_1, x_label_1, 0.06)"
      ]
    },
    {
      "cell_type": "code",
      "execution_count": null,
      "metadata": {
        "id": "h5o5g6iURXH5"
      },
      "outputs": [],
      "source": [
        "x_label_1_selected = pd.DataFrame(x_label_1, columns = selected_col_names_label_1)\n",
        "x_valid_label_1_selected = pd.DataFrame(x_valid_label_1, columns = selected_col_names_label_1)"
      ]
    },
    {
      "cell_type": "code",
      "source": [
        "x_test_label_1_selected = pd.DataFrame(x_test_label_1, columns = selected_col_names_label_1)"
      ],
      "metadata": {
        "id": "2D2L1-tcoyMA"
      },
      "execution_count": null,
      "outputs": []
    },
    {
      "cell_type": "markdown",
      "metadata": {
        "id": "JMAgAFaTQflb"
      },
      "source": [
        "##Modelling\n",
        "\n",
        "###Model Evaluation"
      ]
    },
    {
      "cell_type": "code",
      "execution_count": null,
      "metadata": {
        "id": "Nxb-fVhfQlGQ"
      },
      "outputs": [],
      "source": [
        "from sklearn.metrics import confusion_matrix, classification_report\n",
        "import numpy as np\n",
        "\n",
        "def eval_model(y_actual: pd.DataFrame, y_predicted: pd.DataFrame, print_metrics = False) -> float:\n",
        "  cm = confusion_matrix(y_actual, y_predicted)\n",
        "  fp = cm.sum(axis=0) - np.diag(cm)\n",
        "  fn = cm.sum(axis=1) - np.diag(cm)\n",
        "  tp = np.diag(cm)\n",
        "  tn = cm.sum() - (fp + fn + tp)\n",
        "\n",
        "  accuracy = (tp + tn) / (tp + fp + tn + fn)\n",
        "  err_rate = (fp + fn) / (tp + fp + tn + fn)\n",
        "  sensitivity = tp / (tp + fn)\n",
        "  specificity = tn / (tn + fp)\n",
        "  precision = tp / (tp + fp)\n",
        "\n",
        "  recall = sensitivity\n",
        "  f_score = (2 * precision * recall) / (precision + recall)\n",
        "\n",
        "  if (print_metrics):\n",
        "    print(f\"Accuracy:      {accuracy.mean():.4f}\")\n",
        "    print(f\"Error Rate:    {err_rate.mean():.4f}\")\n",
        "    print(f\"Sensitivity:   {sensitivity.mean():.4f}\")\n",
        "    print(f\"Specificity:   {specificity.mean():.4f}\")\n",
        "    print(f\"Precision:     {precision.mean():.4f}\")\n",
        "    print(f\"F1 Score:      {f_score.mean():.4f}\")\n",
        "\n",
        "  return f_score.mean()"
      ]
    },
    {
      "cell_type": "code",
      "source": [
        "from sklearn.model_selection import cross_val_score"
      ],
      "metadata": {
        "id": "d80LKygmFA_4"
      },
      "execution_count": null,
      "outputs": []
    },
    {
      "cell_type": "code",
      "source": [
        "def scorer(estimator: any, X: pd.DataFrame, y: pd.DataFrame):\n",
        "  y_pred = estimator.predict(X)\n",
        "  f1_score = eval_model(y, y_pred)\n",
        "  return f1_score"
      ],
      "metadata": {
        "id": "TMQ-q38RFm8u"
      },
      "execution_count": null,
      "outputs": []
    },
    {
      "cell_type": "code",
      "source": [
        "label_1_scores = []"
      ],
      "metadata": {
        "id": "aM27IyV3G4ky"
      },
      "execution_count": null,
      "outputs": []
    },
    {
      "cell_type": "markdown",
      "metadata": {
        "id": "EN7mX2PG76hy"
      },
      "source": [
        "###KNN Model"
      ]
    },
    {
      "cell_type": "code",
      "execution_count": null,
      "metadata": {
        "id": "jgU21qlt75_8"
      },
      "outputs": [],
      "source": [
        "from sklearn.neighbors import KNeighborsClassifier\n",
        "\n",
        "def knn_model(x_train: pd.DataFrame, y_train: pd.DataFrame, x_valid: pd.DataFrame, y_valid: pd.DataFrame, k: int):\n",
        "  knn = KNeighborsClassifier(n_neighbors = k)\n",
        "  f_score = cross_val_score(knn, x_train, y_train, cv = 5, scoring = scorer)\n",
        "  knn.fit(x_train, y_train)\n",
        "  y_pred = knn.predict(x_valid)\n",
        "  eval_model(y_valid, y_pred, True)\n",
        "  return [knn, f_score]"
      ]
    },
    {
      "cell_type": "code",
      "execution_count": null,
      "metadata": {
        "colab": {
          "base_uri": "https://localhost:8080/"
        },
        "id": "A-NAL8Fy9Nkt",
        "outputId": "aa19376b-42a0-403c-e8ac-aeb56354546e"
      },
      "outputs": [
        {
          "output_type": "stream",
          "name": "stdout",
          "text": [
            "Accuracy:      0.9978\n",
            "Error Rate:    0.0022\n",
            "Sensitivity:   0.9355\n",
            "Specificity:   0.9989\n",
            "Precision:     0.9368\n",
            "F1 Score:      0.9325\n",
            "Average F1 score of KNN cross validation: 0.9138032842121866.\n"
          ]
        }
      ],
      "source": [
        "knn_label_1, f_score_knn_label_1 = knn_model(x_label_1_selected, y_label_1, x_valid_label_1_selected, y_valid_label_1, 13)\n",
        "avg_f1_score_knn_label_1 = f_score_knn_label_1.mean()\n",
        "print(f\"Average F1 score of KNN cross validation: {avg_f1_score_knn_label_1}.\")\n",
        "label_1_scores.append([knn_label_1, \"KNN\", avg_f1_score_knn_label_1])"
      ]
    },
    {
      "cell_type": "markdown",
      "metadata": {
        "id": "91LKqPQf-HOT"
      },
      "source": [
        "###Random Forest Model"
      ]
    },
    {
      "cell_type": "code",
      "execution_count": null,
      "metadata": {
        "id": "HDOW2PL_-QgW"
      },
      "outputs": [],
      "source": [
        "from sklearn.ensemble import RandomForestClassifier\n",
        "\n",
        "def rf_model(x_train: pd.DataFrame, y_train: pd.DataFrame, x_valid: pd.DataFrame, y_valid: pd.DataFrame, n_estimators: int, random_state: int):\n",
        "  rf = RandomForestClassifier(n_estimators = n_estimators, random_state = random_state)\n",
        "  f_score = cross_val_score(rf, x_train, y_train, cv = 5, scoring = scorer)\n",
        "  rf.fit(x_train, y_train)\n",
        "  y_pred = rf.predict(x_valid)\n",
        "  eval_model(y_valid, y_pred, True)\n",
        "  return [rf, f_score]"
      ]
    },
    {
      "cell_type": "code",
      "execution_count": null,
      "metadata": {
        "colab": {
          "base_uri": "https://localhost:8080/"
        },
        "id": "OIy2-0TP--N8",
        "outputId": "9d036f67-89f6-44b6-9be3-3267c7154d16"
      },
      "outputs": [
        {
          "output_type": "stream",
          "name": "stdout",
          "text": [
            "Accuracy:      0.9970\n",
            "Error Rate:    0.0030\n",
            "Sensitivity:   0.9128\n",
            "Specificity:   0.9985\n",
            "Precision:     0.9126\n",
            "F1 Score:      0.9092\n",
            "Average F1 score of RF cross validation: 0.8987385765670283.\n"
          ]
        }
      ],
      "source": [
        "rf_label_1, f_score_rf_label_1 = rf_model(x_label_1_selected, y_label_1, x_valid_label_1_selected, y_valid_label_1, 100, 42)\n",
        "avg_f1_score_rf_label_1 = f_score_rf_label_1.mean()\n",
        "print(f\"Average F1 score of RF cross validation: {avg_f1_score_rf_label_1}.\")\n",
        "label_1_scores.append([rf_label_1, \"Random Forest\", avg_f1_score_rf_label_1])"
      ]
    },
    {
      "cell_type": "markdown",
      "metadata": {
        "id": "pR0kvQJA_fZW"
      },
      "source": [
        "###XG Boost Model"
      ]
    },
    {
      "cell_type": "code",
      "execution_count": null,
      "metadata": {
        "id": "IiNhD7xo_mav"
      },
      "outputs": [],
      "source": [
        "import xgboost as xgb\n",
        "import torch\n",
        "\n",
        "def xgb_model_gpu(x_train, y_train, x_valid, y_valid, n_estimators, random_state):\n",
        "  xgb_gpu = None\n",
        "  if (torch.cuda.is_available()):\n",
        "    xgb_gpu = xgb.XGBClassifier(\n",
        "        n_estimators = n_estimators,\n",
        "        random_state = random_state,\n",
        "        tree_method = 'gpu_hist',\n",
        "        gpu_id = 0,\n",
        "    )\n",
        "  else:\n",
        "    xgb_gpu = xgb.XGBClassifier(n_estimators = n_estimators, random_state = random_state)\n",
        "\n",
        "  f_score = cross_val_score(xgb_gpu, x_train, y_train, cv = 5, scoring = scorer)\n",
        "  xgb_gpu.fit(x_train, y_train)\n",
        "  y_pred = xgb_gpu.predict(x_valid)\n",
        "  eval_model(y_valid, y_pred, True)\n",
        "\n",
        "  return [xgb_gpu, f_score]"
      ]
    },
    {
      "cell_type": "code",
      "source": [
        "from sklearn.preprocessing import LabelEncoder\n",
        "\n",
        "label_1_encoder = LabelEncoder()\n",
        "y_label_1_encoded = label_1_encoder.fit_transform(y_label_1.copy(deep = True))\n",
        "y_valid_label_1_encoded = label_1_encoder.transform(y_valid_label_1.copy(deep = True))"
      ],
      "metadata": {
        "id": "fxQFNha8jeHn"
      },
      "execution_count": null,
      "outputs": []
    },
    {
      "cell_type": "code",
      "execution_count": null,
      "metadata": {
        "id": "Gh9wgEYLAZ57",
        "colab": {
          "base_uri": "https://localhost:8080/"
        },
        "outputId": "d08b7022-1ace-431d-b322-7612240879a8"
      },
      "outputs": [
        {
          "output_type": "stream",
          "name": "stdout",
          "text": [
            "Accuracy:      0.9966\n",
            "Error Rate:    0.0034\n",
            "Sensitivity:   0.8986\n",
            "Specificity:   0.9983\n",
            "Precision:     0.9047\n",
            "F1 Score:      0.8965\n",
            "Average F1 score of XGB cross validation: 0.8742340121166732.\n"
          ]
        }
      ],
      "source": [
        "xgb_label_1, f_score_xgb_label_1 = xgb_model_gpu(x_label_1_selected, y_label_1_encoded, x_valid_label_1_selected, y_valid_label_1_encoded, 50, 42)\n",
        "avg_f1_score_xgb_label_1 = f_score_xgb_label_1.mean()\n",
        "print(f\"Average F1 score of XGB cross validation: {avg_f1_score_xgb_label_1}.\")\n",
        "label_1_scores.append([xgb_label_1, \"XGBoost\", avg_f1_score_xgb_label_1])"
      ]
    },
    {
      "cell_type": "markdown",
      "metadata": {
        "id": "Xul8w7rHEqUW"
      },
      "source": [
        "###Support Vector Machine Model"
      ]
    },
    {
      "cell_type": "code",
      "execution_count": null,
      "metadata": {
        "id": "9Og46hiBDVew"
      },
      "outputs": [],
      "source": [
        "from sklearn.svm import SVC\n",
        "\n",
        "def svm_model(x_train: pd.DataFrame, y_train: pd.DataFrame, x_valid: pd.DataFrame, y_valid: pd.DataFrame, kernel: str):\n",
        "  svm = SVC(kernel = kernel)\n",
        "  f_score = cross_val_score(svm, x_train, y_train, cv = 5, scoring = scorer)\n",
        "  svm.fit(x_train, y_train)\n",
        "  y_pred = svm.predict(x_valid)\n",
        "  eval_model(y_valid, y_pred, True)\n",
        "  return [svm, f_score]"
      ]
    },
    {
      "cell_type": "code",
      "execution_count": null,
      "metadata": {
        "id": "yav_oSatEpXZ",
        "colab": {
          "base_uri": "https://localhost:8080/"
        },
        "outputId": "2cedec79-35ed-45e6-c457-c3e3a3271325"
      },
      "outputs": [
        {
          "output_type": "stream",
          "name": "stdout",
          "text": [
            "Linear\n",
            "Accuracy:      0.9989\n",
            "Error Rate:    0.0011\n",
            "Sensitivity:   0.9651\n",
            "Specificity:   0.9994\n",
            "Precision:     0.9695\n",
            "F1 Score:      0.9653\n",
            "Average F1 score of SVM Linear cross validation: 0.9539138485271332.\n",
            "\n",
            "Rbf\n",
            "Accuracy:      0.9988\n",
            "Error Rate:    0.0012\n",
            "Sensitivity:   0.9667\n",
            "Specificity:   0.9994\n",
            "Precision:     0.9688\n",
            "F1 Score:      0.9658\n",
            "Average F1 score of SVM Rbf cross validation: 0.9575831685939974.\n",
            "\n",
            "Poly\n",
            "Accuracy:      0.9983\n",
            "Error Rate:    0.0017\n",
            "Sensitivity:   0.9503\n",
            "Specificity:   0.9991\n",
            "Precision:     0.9573\n",
            "F1 Score:      0.9502\n",
            "Average F1 score of SVM Poly cross validation: 0.9463410023230893.\n"
          ]
        }
      ],
      "source": [
        "kernels = [\"linear\", \"rbf\", \"poly\"]\n",
        "\n",
        "for i in range(3):\n",
        "  kernel = kernels[i]\n",
        "  Kernel = kernel.capitalize()\n",
        "  print(Kernel)\n",
        "  svm, f_sc = svm_model(x_label_1_selected, y_label_1, x_valid_label_1_selected, y_valid_label_1, kernel)\n",
        "  avg_f_sc = f_sc.mean()\n",
        "  print(f\"Average F1 score of SVM {Kernel} cross validation: {avg_f_sc}.\")\n",
        "  label_1_scores.append([svm, f\"SVM {Kernel}\", avg_f_sc])\n",
        "  if (i!= 2): print()"
      ]
    },
    {
      "cell_type": "markdown",
      "source": [
        "###Final Model"
      ],
      "metadata": {
        "id": "T-L7EjTqPg31"
      }
    },
    {
      "cell_type": "code",
      "execution_count": null,
      "metadata": {
        "id": "IxCtP-F5iIdp",
        "colab": {
          "base_uri": "https://localhost:8080/"
        },
        "outputId": "1d7641f5-166d-43b0-c917-09e89502f66f"
      },
      "outputs": [
        {
          "output_type": "stream",
          "name": "stdout",
          "text": [
            "['KNN', 0.9138032842121866]\n",
            "['Random Forest', 0.8987385765670283]\n",
            "['XGBoost', 0.8742340121166732]\n",
            "['SVM Linear', 0.9539138485271332]\n",
            "['SVM Rbf', 0.9575831685939974]\n",
            "['SVM Poly', 0.9463410023230893]\n"
          ]
        }
      ],
      "source": [
        "for score in label_1_scores:\n",
        "  print(score[1:])"
      ]
    },
    {
      "cell_type": "code",
      "source": [
        "def get_best_model(scores):\n",
        "  max_index = 0\n",
        "  for i in range(len(scores)):\n",
        "    if scores[i][2] > scores[max_index][2]:\n",
        "      max_index = i\n",
        "  return scores[max_index]"
      ],
      "metadata": {
        "id": "Ehkhnll5kp4q"
      },
      "execution_count": null,
      "outputs": []
    },
    {
      "cell_type": "code",
      "source": [
        "final_model_label_1, final_model_label_1_name, final_model_label_1_f1_score = get_best_model(label_1_scores)\n",
        "print(f\"Selected {final_model_label_1_name} with cross validation score of {final_model_label_1_f1_score}.\")\n",
        "y_test_pred_label_1 = final_model_label_1.predict(x_test_label_1_selected)"
      ],
      "metadata": {
        "id": "VL1qSDvBpfJd",
        "colab": {
          "base_uri": "https://localhost:8080/"
        },
        "outputId": "f04d1862-0e83-4c8f-a5c4-6e22c734c710"
      },
      "execution_count": null,
      "outputs": [
        {
          "output_type": "stream",
          "name": "stdout",
          "text": [
            "Selected SVM Rbf with cross validation score of 0.9575831685939974.\n"
          ]
        }
      ]
    },
    {
      "cell_type": "code",
      "source": [
        "def create_csv(y_pred, label_name):\n",
        "  output_filename = f\"/content/drive/My Drive/Semester7/ML/Project/Layer_7/Results/{label_name}.csv\"\n",
        "  combined_data = pd.DataFrame()\n",
        "  combined_data[label_name] = y_pred\n",
        "  combined_data.to_csv(output_filename, index=False)"
      ],
      "metadata": {
        "id": "PV9eS1uN3cEN"
      },
      "execution_count": null,
      "outputs": []
    },
    {
      "cell_type": "code",
      "source": [
        "create_csv(y_test_pred_label_1, \"label_1\")"
      ],
      "metadata": {
        "id": "m_5LKv844FKA"
      },
      "execution_count": null,
      "outputs": []
    },
    {
      "cell_type": "markdown",
      "source": [
        "#Label 2"
      ],
      "metadata": {
        "id": "MeVsKT2-sobP"
      }
    },
    {
      "cell_type": "code",
      "source": [
        "x_label_2 = train.iloc[:, : -4]\n",
        "y_label_2 = train[\"label_2\"]\n",
        "x_valid_label_2 = valid.iloc[:, : -4]\n",
        "y_valid_label_2 = valid[\"label_2\"]\n",
        "x_test_label_2 = test.iloc[:, 1:]"
      ],
      "metadata": {
        "id": "6BjU62AXqGRB"
      },
      "execution_count": null,
      "outputs": []
    },
    {
      "cell_type": "markdown",
      "source": [
        "## Class Distribition"
      ],
      "metadata": {
        "id": "4qz4DRXftlol"
      }
    },
    {
      "cell_type": "code",
      "source": [
        "plot_class_distribution(y_label_2)"
      ],
      "metadata": {
        "id": "qtFMXUsXtpIU",
        "colab": {
          "base_uri": "https://localhost:8080/",
          "height": 573
        },
        "outputId": "a316551a-e1b0-45b3-a373-dbecd57e55f1"
      },
      "execution_count": null,
      "outputs": [
        {
          "output_type": "display_data",
          "data": {
            "text/plain": [
              "<Figure size 1200x600 with 1 Axes>"
            ],
            "image/png": "[encoded data removed]"
          },
          "metadata": {}
        }
      ]
    },
    {
      "cell_type": "markdown",
      "source": [
        "The dataset is imbalanced. Therefore resampling is required. SMOTE will be used."
      ],
      "metadata": {
        "id": "Av6C61nNvC2F"
      }
    },
    {
      "cell_type": "code",
      "source": [
        "from imblearn.over_sampling import SMOTE\n",
        "\n",
        "smote = SMOTE(sampling_strategy='auto', random_state=42)\n",
        "x_label_2_resampled, y_label_2_resampled = smote.fit_resample(x_label_2, y_label_2)"
      ],
      "metadata": {
        "id": "1Pt4isFNvJxi"
      },
      "execution_count": null,
      "outputs": []
    },
    {
      "cell_type": "code",
      "source": [
        "plot_class_distribution(y_label_2_resampled)"
      ],
      "metadata": {
        "id": "3t46KI_zv3__",
        "colab": {
          "base_uri": "https://localhost:8080/",
          "height": 573
        },
        "outputId": "577a8e7b-6556-42a3-accd-5765d3980715"
      },
      "execution_count": null,
      "outputs": [
        {
          "output_type": "display_data",
          "data": {
            "text/plain": [
              "<Figure size 1200x600 with 1 Axes>"
            ],
            "image/png": "[encoded data removed]"
          },
          "metadata": {}
        }
      ]
    },
    {
      "cell_type": "markdown",
      "source": [
        "##Feature Selection\n",
        "\n",
        "###Correlation"
      ],
      "metadata": {
        "id": "VxQIgd_mtA9I"
      }
    },
    {
      "cell_type": "code",
      "source": [
        "x_label_2_resampled = x_label_2_resampled.drop(corr, axis = 1)\n",
        "x_valid_label_2 = x_valid_label_2.drop(corr, axis = 1)\n",
        "x_test_label_2 = x_test_label_2.drop(corr, axis = 1)"
      ],
      "metadata": {
        "id": "90qRHgGXs4cw"
      },
      "execution_count": null,
      "outputs": []
    },
    {
      "cell_type": "markdown",
      "source": [
        "###Mutual Information Classification"
      ],
      "metadata": {
        "id": "f0_3lMuVtT2F"
      }
    },
    {
      "cell_type": "code",
      "source": [
        "mi_label_2 = plot_mi(x_label_2_resampled, y_label_2_resampled)"
      ],
      "metadata": {
        "id": "IVlTCRi-x3-2",
        "colab": {
          "base_uri": "https://localhost:8080/",
          "height": 709
        },
        "outputId": "5ac19ae7-def9-4d63-ca10-185730d03796"
      },
      "execution_count": null,
      "outputs": [
        {
          "output_type": "display_data",
          "data": {
            "text/plain": [
              "<Figure size 3200x1200 with 1 Axes>"
            ],
            "image/png": "[encoded data removed]"
          },
          "metadata": {}
        }
      ]
    },
    {
      "cell_type": "markdown",
      "source": [
        "The mutual information distribution is similar to `label 1`. Using the threshold as 0.06."
      ],
      "metadata": {
        "id": "csY4jUWt0FOg"
      }
    },
    {
      "cell_type": "code",
      "source": [
        "selected_col_names_label_2 = feature_selection_mi(mi_label_2, x_label_2_resampled, 0.06)"
      ],
      "metadata": {
        "id": "3YyALyREz-dj",
        "colab": {
          "base_uri": "https://localhost:8080/"
        },
        "outputId": "ac86e1a3-abbd-40b8-b93f-b02b0455de75"
      },
      "execution_count": null,
      "outputs": [
        {
          "output_type": "stream",
          "name": "stdout",
          "text": [
            "Selected 187 features out of 764 features.\n",
            "Index(['feature_582', 'feature_242', 'feature_545', 'feature_204',\n",
            "       'feature_27', 'feature_633', 'feature_302', 'feature_332',\n",
            "       'feature_154', 'feature_402',\n",
            "       ...\n",
            "       'feature_331', 'feature_617', 'feature_629', 'feature_387',\n",
            "       'feature_181', 'feature_681', 'feature_355', 'feature_636',\n",
            "       'feature_507', 'feature_727'],\n",
            "      dtype='object', length=187)\n"
          ]
        }
      ]
    },
    {
      "cell_type": "code",
      "source": [
        "x_label_2_selected = pd.DataFrame(x_label_2_resampled, columns = selected_col_names_label_2)\n",
        "x_valid_label_2_selected = pd.DataFrame(x_valid_label_2, columns = selected_col_names_label_2)\n",
        "x_test_label_2_selected = pd.DataFrame(x_test_label_2, columns = selected_col_names_label_2)"
      ],
      "metadata": {
        "id": "6hEFg1Sz0nUS"
      },
      "execution_count": null,
      "outputs": []
    },
    {
      "cell_type": "markdown",
      "source": [
        "##Modelling\n",
        "\n",
        "###KNN Model"
      ],
      "metadata": {
        "id": "z_ng5Lb-07MQ"
      }
    },
    {
      "cell_type": "code",
      "source": [
        "label_2_scores = []"
      ],
      "metadata": {
        "id": "X_H6myTO1PxB"
      },
      "execution_count": null,
      "outputs": []
    },
    {
      "cell_type": "code",
      "source": [
        "knn_label_2, f_score_knn_label_2 = knn_model(x_label_2_selected, y_label_2_resampled, x_valid_label_2_selected, y_valid_label_2, 13)\n",
        "avg_f1_score_knn_label_2 = f_score_knn_label_2.mean()\n",
        "print(f\"Average F1 score of KNN cross validation: {avg_f1_score_knn_label_2}.\")\n",
        "label_2_scores.append([knn_label_2, \"KNN\", avg_f1_score_knn_label_2])"
      ],
      "metadata": {
        "id": "XNxGaBG11DNv",
        "colab": {
          "base_uri": "https://localhost:8080/"
        },
        "outputId": "67ebb9f5-633d-499b-e9af-ace1b5e2d577"
      },
      "execution_count": null,
      "outputs": [
        {
          "output_type": "stream",
          "name": "stdout",
          "text": [
            "Accuracy:      0.9920\n",
            "Error Rate:    0.0080\n",
            "Sensitivity:   0.9489\n",
            "Specificity:   0.9957\n",
            "Precision:     0.9076\n",
            "F1 Score:      0.9251\n",
            "Average F1 score of KNN cross validation: 0.8947472379857546.\n"
          ]
        }
      ]
    },
    {
      "cell_type": "markdown",
      "source": [
        "###Random Forest Model"
      ],
      "metadata": {
        "id": "kfZGhV651i0o"
      }
    },
    {
      "cell_type": "code",
      "source": [
        "rf_label_2, f_score_rf_label_2 = rf_model(x_label_2_selected, y_label_2_resampled, x_valid_label_2_selected, y_valid_label_2, 100, 42)\n",
        "avg_f1_score_rf_label_2 = f_score_rf_label_2.mean()\n",
        "print(f\"Average F1 score of RF cross validation: {avg_f1_score_rf_label_2}.\")\n",
        "label_2_scores.append([rf_label_2, \"Random Forest\", avg_f1_score_rf_label_2])"
      ],
      "metadata": {
        "id": "i7OIKxVf1lTv",
        "colab": {
          "base_uri": "https://localhost:8080/"
        },
        "outputId": "9ec53ce5-44ea-49ff-fbac-52b274bc02af"
      },
      "execution_count": null,
      "outputs": [
        {
          "output_type": "stream",
          "name": "stdout",
          "text": [
            "Accuracy:      0.9867\n",
            "Error Rate:    0.0133\n",
            "Sensitivity:   0.9038\n",
            "Specificity:   0.9926\n",
            "Precision:     0.9066\n",
            "F1 Score:      0.9044\n",
            "Average F1 score of RF cross validation: 0.9142564300673331.\n"
          ]
        }
      ]
    },
    {
      "cell_type": "markdown",
      "source": [
        "###XG Boost Model"
      ],
      "metadata": {
        "id": "yWCyaPM92Q-8"
      }
    },
    {
      "cell_type": "code",
      "source": [
        "label_2_encoder = LabelEncoder()\n",
        "y_label_2_encoded = label_2_encoder.fit_transform(y_label_2_resampled.copy(deep = True))\n",
        "y_valid_label_2_encoded = label_2_encoder.transform(y_valid_label_2.copy(deep = True))"
      ],
      "metadata": {
        "id": "VC5BdgRmiN4Y"
      },
      "execution_count": null,
      "outputs": []
    },
    {
      "cell_type": "code",
      "source": [
        "xgb_label_2, f_score_xgb_label_2 = xgb_model_gpu(x_label_2_selected, y_label_2_encoded, x_valid_label_2_selected, y_valid_label_2_encoded, 50, 42)\n",
        "avg_f1_score_xgb_label_2 = f_score_xgb_label_2.mean()\n",
        "print(f\"Average F1 score of XGB cross validation: {avg_f1_score_xgb_label_2}.\")\n",
        "label_2_scores.append([xgb_label_2, \"XGBoost\", avg_f1_score_xgb_label_2])"
      ],
      "metadata": {
        "id": "2MdWz1152Tnf",
        "colab": {
          "base_uri": "https://localhost:8080/"
        },
        "outputId": "d5c907a8-7983-4c8c-e27e-db4682ecd7f3"
      },
      "execution_count": null,
      "outputs": [
        {
          "output_type": "stream",
          "name": "stdout",
          "text": [
            "Accuracy:      0.9807\n",
            "Error Rate:    0.0193\n",
            "Sensitivity:   0.8657\n",
            "Specificity:   0.9893\n",
            "Precision:     0.8691\n",
            "F1 Score:      0.8658\n",
            "Average F1 score of XGB cross validation: 0.8911851510757332.\n"
          ]
        }
      ]
    },
    {
      "cell_type": "markdown",
      "source": [
        "###SVM Model"
      ],
      "metadata": {
        "id": "dC4flNtq2hmo"
      }
    },
    {
      "cell_type": "code",
      "source": [
        "kernels = [\"linear\", \"rbf\", \"poly\"]\n",
        "\n",
        "for i in range(3):\n",
        "  kernel = kernels[i]\n",
        "  Kernel = kernel.capitalize()\n",
        "  print(Kernel)\n",
        "  svm, f_sc = svm_model(x_label_2_selected, y_label_2_resampled, x_valid_label_2_selected, y_valid_label_2, kernel)\n",
        "  avg_f_sc = f_sc.mean()\n",
        "  print(f\"Average F1 score of SVM {Kernel} cross validation: {avg_f_sc}.\")\n",
        "  label_2_scores.append([svm, f\"SVM {Kernel}\", avg_f_sc])\n",
        "  if (i!= 2): print()"
      ],
      "metadata": {
        "id": "RoVqrXBI2qA-",
        "colab": {
          "base_uri": "https://localhost:8080/"
        },
        "outputId": "7eebe28a-9905-43d7-bb91-e496bb4a612b"
      },
      "execution_count": null,
      "outputs": [
        {
          "output_type": "stream",
          "name": "stdout",
          "text": [
            "Linear\n",
            "Accuracy:      0.9667\n",
            "Error Rate:    0.0333\n",
            "Sensitivity:   0.8163\n",
            "Specificity:   0.9818\n",
            "Precision:     0.7896\n",
            "F1 Score:      0.7991\n",
            "Average F1 score of SVM Linear cross validation: 0.7878407968538033.\n",
            "\n",
            "Rbf\n",
            "Accuracy:      0.9893\n",
            "Error Rate:    0.0107\n",
            "Sensitivity:   0.9398\n",
            "Specificity:   0.9942\n",
            "Precision:     0.9243\n",
            "F1 Score:      0.9308\n",
            "Average F1 score of SVM Rbf cross validation: 0.8930216590844623.\n",
            "\n",
            "Poly\n",
            "Accuracy:      0.9893\n",
            "Error Rate:    0.0107\n",
            "Sensitivity:   0.9420\n",
            "Specificity:   0.9942\n",
            "Precision:     0.9235\n",
            "F1 Score:      0.9314\n",
            "Average F1 score of SVM Poly cross validation: 0.8955774727272889.\n"
          ]
        }
      ]
    },
    {
      "cell_type": "markdown",
      "source": [
        "##Final Model"
      ],
      "metadata": {
        "id": "oebmPnDK5xsx"
      }
    },
    {
      "cell_type": "code",
      "source": [
        "for score in label_2_scores:\n",
        "  print(score[1:])"
      ],
      "metadata": {
        "id": "Lk5awSt95zWx",
        "colab": {
          "base_uri": "https://localhost:8080/"
        },
        "outputId": "967aade0-c33a-43c9-ac46-a5bb06c02b61"
      },
      "execution_count": null,
      "outputs": [
        {
          "output_type": "stream",
          "name": "stdout",
          "text": [
            "['KNN', 0.8947472379857546]\n",
            "['Random Forest', 0.9142564300673331]\n",
            "['XGBoost', 0.8911851510757332]\n",
            "['SVM Linear', 0.7878407968538033]\n",
            "['SVM Rbf', 0.8930216590844623]\n",
            "['SVM Poly', 0.8955774727272889]\n"
          ]
        }
      ]
    },
    {
      "cell_type": "code",
      "source": [
        "final_model_label_2, final_model_label_2_name, final_model_label_2_f1_score = get_best_model(label_2_scores)\n",
        "print(f\"Selected {final_model_label_2_name} with cross validation score of {final_model_label_2_f1_score}.\")\n",
        "y_test_pred_label_2 = final_model_label_2.predict(x_test_label_2_selected)"
      ],
      "metadata": {
        "id": "D3Kap-5x55l1",
        "colab": {
          "base_uri": "https://localhost:8080/"
        },
        "outputId": "21e53693-160f-4f3b-c676-7aa74cd008cc"
      },
      "execution_count": null,
      "outputs": [
        {
          "output_type": "stream",
          "name": "stdout",
          "text": [
            "Selected Random Forest with cross validation score of 0.9142564300673331.\n"
          ]
        }
      ]
    },
    {
      "cell_type": "code",
      "source": [
        "create_csv(y_test_pred_label_2, \"label_2\")"
      ],
      "metadata": {
        "id": "lEwxPNIt4WeR"
      },
      "execution_count": null,
      "outputs": []
    },
    {
      "cell_type": "markdown",
      "source": [
        "#Label 3"
      ],
      "metadata": {
        "id": "WU04ohcv4Sjm"
      }
    },
    {
      "cell_type": "code",
      "source": [
        "x_label_3 = train.iloc[:, : -4]\n",
        "y_label_3 = train[\"label_3\"]\n",
        "x_valid_label_3 = valid.iloc[:, : -4]\n",
        "y_valid_label_3 = valid[\"label_3\"]\n",
        "x_test_label_3 = test.iloc[:, 1:]"
      ],
      "metadata": {
        "id": "w9g8OMfz4UXY"
      },
      "execution_count": null,
      "outputs": []
    },
    {
      "cell_type": "markdown",
      "source": [
        "##Class Distribution"
      ],
      "metadata": {
        "id": "362XVK5-4exD"
      }
    },
    {
      "cell_type": "code",
      "source": [
        "plot_class_distribution(y_label_3)"
      ],
      "metadata": {
        "id": "GKI9nK4U4hOu",
        "colab": {
          "base_uri": "https://localhost:8080/",
          "height": 566
        },
        "outputId": "118b16fc-7dd1-4d0a-93e4-1309485ec12a"
      },
      "execution_count": null,
      "outputs": [
        {
          "output_type": "display_data",
          "data": {
            "text/plain": [
              "<Figure size 1200x600 with 1 Axes>"
            ],
            "image/png": "[encoded data removed]"
          },
          "metadata": {}
        }
      ]
    },
    {
      "cell_type": "markdown",
      "source": [
        "This dataset is also imbalanced. Using SMOTE."
      ],
      "metadata": {
        "id": "iPWjZMEX6K78"
      }
    },
    {
      "cell_type": "code",
      "source": [
        "smote = SMOTE(sampling_strategy='auto', random_state=42)\n",
        "x_label_3_resampled, y_label_3_resampled = smote.fit_resample(x_label_3, y_label_3)"
      ],
      "metadata": {
        "id": "aGVuOlbE6Vph"
      },
      "execution_count": null,
      "outputs": []
    },
    {
      "cell_type": "code",
      "source": [
        "plot_class_distribution(y_label_3_resampled)"
      ],
      "metadata": {
        "id": "y_kD5HA26epB",
        "colab": {
          "base_uri": "https://localhost:8080/",
          "height": 566
        },
        "outputId": "84e94340-b135-428e-884b-b2f593cc4e34"
      },
      "execution_count": null,
      "outputs": [
        {
          "output_type": "display_data",
          "data": {
            "text/plain": [
              "<Figure size 1200x600 with 1 Axes>"
            ],
            "image/png": "[encoded data removed]"
          },
          "metadata": {}
        }
      ]
    },
    {
      "cell_type": "markdown",
      "source": [
        "##Feature Selection\n",
        "\n",
        "###Correlation"
      ],
      "metadata": {
        "id": "4qc_F4Yk6rMK"
      }
    },
    {
      "cell_type": "code",
      "source": [
        "x_label_3_resampled = x_label_3_resampled.drop(corr, axis = 1)\n",
        "x_valid_label_3 = x_valid_label_3.drop(corr, axis = 1)\n",
        "x_test_label_3 = x_test_label_3.drop(corr, axis = 1)"
      ],
      "metadata": {
        "id": "AAid4zEC6smY"
      },
      "execution_count": null,
      "outputs": []
    },
    {
      "cell_type": "markdown",
      "source": [
        "###Mutual Information Classification"
      ],
      "metadata": {
        "id": "ngsYkBgl62R4"
      }
    },
    {
      "cell_type": "code",
      "source": [
        "mi_label_3 = plot_mi(x_label_3_resampled, y_label_3_resampled)"
      ],
      "metadata": {
        "id": "F18xfETr645N",
        "colab": {
          "base_uri": "https://localhost:8080/",
          "height": 709
        },
        "outputId": "c5117c5d-3896-4841-fce8-72dabdbe047e"
      },
      "execution_count": null,
      "outputs": [
        {
          "output_type": "display_data",
          "data": {
            "text/plain": [
              "<Figure size 3200x1200 with 1 Axes>"
            ],
            "image/png": "[encoded data removed]"
          },
          "metadata": {}
        }
      ]
    },
    {
      "cell_type": "markdown",
      "source": [
        "Observing the graph, drop the features with mutual information score less than to 0.01."
      ],
      "metadata": {
        "id": "03aAEUNm8LH_"
      }
    },
    {
      "cell_type": "code",
      "source": [
        "selected_col_names_label_3 = feature_selection_mi(mi_label_3, x_label_3_resampled, 0.01)"
      ],
      "metadata": {
        "id": "iVA1ZCA67C01",
        "colab": {
          "base_uri": "https://localhost:8080/"
        },
        "outputId": "7ab3497b-c3a3-4fa5-b121-23174f71a1c8"
      },
      "execution_count": null,
      "outputs": [
        {
          "output_type": "stream",
          "name": "stdout",
          "text": [
            "Selected 206 features out of 764 features.\n",
            "Index(['feature_242', 'feature_496', 'feature_582', 'feature_292',\n",
            "       'feature_659', 'feature_402', 'feature_535', 'feature_200',\n",
            "       'feature_302', 'feature_27',\n",
            "       ...\n",
            "       'feature_525', 'feature_163', 'feature_638', 'feature_761',\n",
            "       'feature_126', 'feature_555', 'feature_188', 'feature_697',\n",
            "       'feature_370', 'feature_108'],\n",
            "      dtype='object', length=206)\n"
          ]
        }
      ]
    },
    {
      "cell_type": "code",
      "source": [
        "x_label_3_selected = pd.DataFrame(x_label_3_resampled, columns = selected_col_names_label_3)\n",
        "x_valid_label_3_selected = pd.DataFrame(x_valid_label_3, columns = selected_col_names_label_3)\n",
        "x_test_label_3_selected = pd.DataFrame(x_test_label_3, columns = selected_col_names_label_3)"
      ],
      "metadata": {
        "id": "VERsZoN67Hco"
      },
      "execution_count": null,
      "outputs": []
    },
    {
      "cell_type": "markdown",
      "source": [
        "##Modeling\n",
        "\n",
        "###KNN Model"
      ],
      "metadata": {
        "id": "Vmo4UEy17W1Z"
      }
    },
    {
      "cell_type": "code",
      "source": [
        "label_3_scores = []"
      ],
      "metadata": {
        "id": "LP_2mHJj7kq5"
      },
      "execution_count": null,
      "outputs": []
    },
    {
      "cell_type": "code",
      "source": [
        "knn_label_3, f_score_knn_label_3 = knn_model(x_label_3_selected, y_label_3_resampled, x_valid_label_3_selected, y_valid_label_3, 13)\n",
        "avg_f1_score_knn_label_3 = f_score_knn_label_3.mean()\n",
        "print(f\"Average F1 score of KNN cross validation: {avg_f1_score_knn_label_3}.\")\n",
        "label_3_scores.append([knn_label_3, \"KNN\", avg_f1_score_knn_label_3])"
      ],
      "metadata": {
        "id": "jaAQQsH77nKK",
        "colab": {
          "base_uri": "https://localhost:8080/"
        },
        "outputId": "64a2567d-8974-4362-d56d-d233c7950a80"
      },
      "execution_count": null,
      "outputs": [
        {
          "output_type": "stream",
          "name": "stdout",
          "text": [
            "Accuracy:      0.9733\n",
            "Error Rate:    0.0267\n",
            "Sensitivity:   0.9836\n",
            "Specificity:   0.9836\n",
            "Precision:     0.9383\n",
            "F1 Score:      0.9587\n",
            "Average F1 score of KNN cross validation: 0.9351779383257458.\n"
          ]
        }
      ]
    },
    {
      "cell_type": "markdown",
      "source": [
        "###Random Forest Model"
      ],
      "metadata": {
        "id": "QlKSmf8k722D"
      }
    },
    {
      "cell_type": "code",
      "source": [
        "rf_label_3, f_score_rf_label_3 = rf_model(x_label_3_selected, y_label_3_resampled, x_valid_label_3_selected, y_valid_label_3, 100, 42)\n",
        "avg_f1_score_rf_label_3 = f_score_rf_label_3.mean()\n",
        "print(f\"Average F1 score of RF cross validation: {avg_f1_score_rf_label_3}.\")\n",
        "label_3_scores.append([rf_label_3, \"Random Forest\", avg_f1_score_rf_label_3])"
      ],
      "metadata": {
        "id": "oLdU_tRo75Yg",
        "colab": {
          "base_uri": "https://localhost:8080/"
        },
        "outputId": "0918eed9-d385-4e9a-c382-8933fbb8c119"
      },
      "execution_count": null,
      "outputs": [
        {
          "output_type": "stream",
          "name": "stdout",
          "text": [
            "Accuracy:      0.9933\n",
            "Error Rate:    0.0067\n",
            "Sensitivity:   0.9851\n",
            "Specificity:   0.9851\n",
            "Precision:     0.9931\n",
            "F1 Score:      0.9891\n",
            "Average F1 score of RF cross validation: 0.9946482616909561.\n"
          ]
        }
      ]
    },
    {
      "cell_type": "markdown",
      "source": [
        "###XG Boost Model"
      ],
      "metadata": {
        "id": "5EtGAKjI8hbE"
      }
    },
    {
      "cell_type": "code",
      "source": [
        "label_3_encoder = LabelEncoder()\n",
        "y_label_3_encoded = label_3_encoder.fit_transform(y_label_3_resampled.copy(deep = True))\n",
        "y_valid_label_3_encoded = label_3_encoder.transform(y_valid_label_3.copy(deep = True))"
      ],
      "metadata": {
        "id": "XhrTSY5zi-dn"
      },
      "execution_count": null,
      "outputs": []
    },
    {
      "cell_type": "code",
      "source": [
        "xgb_label_3, f_score_xgb_label_3 = xgb_model_gpu(x_label_3_selected, y_label_3_encoded, x_valid_label_3_selected, y_valid_label_3_encoded, 50, 42)\n",
        "avg_f1_score_xgb_label_3 = f_score_xgb_label_3.mean()\n",
        "print(f\"Average F1 score of XGB cross validation: {avg_f1_score_xgb_label_3}.\")\n",
        "label_3_scores.append([xgb_label_3, \"XGBoost\", avg_f1_score_xgb_label_3])"
      ],
      "metadata": {
        "id": "fmtUQ79G8kUD",
        "colab": {
          "base_uri": "https://localhost:8080/"
        },
        "outputId": "1d551ace-6c62-45dc-9c96-aa37fdcae8d6"
      },
      "execution_count": null,
      "outputs": [
        {
          "output_type": "stream",
          "name": "stdout",
          "text": [
            "Accuracy:      0.9880\n",
            "Error Rate:    0.0120\n",
            "Sensitivity:   0.9899\n",
            "Specificity:   0.9899\n",
            "Precision:     0.9723\n",
            "F1 Score:      0.9808\n",
            "Average F1 score of XGB cross validation: 0.992278966798216.\n"
          ]
        }
      ]
    },
    {
      "cell_type": "markdown",
      "source": [
        "###SVM Model"
      ],
      "metadata": {
        "id": "B1m26q5e8124"
      }
    },
    {
      "cell_type": "code",
      "source": [
        "kernels = [\"linear\", \"rbf\", \"poly\"]\n",
        "\n",
        "for i in range(3):\n",
        "  kernel = kernels[i]\n",
        "  Kernel = kernel.capitalize()\n",
        "  print(Kernel)\n",
        "  svm, f_sc = svm_model(x_label_3_selected, y_label_3_resampled, x_valid_label_3_selected, y_valid_label_3, kernel)\n",
        "  avg_f_sc = f_sc.mean()\n",
        "  print(f\"Average F1 score of SVM {Kernel} cross validation: {avg_f_sc}.\")\n",
        "  label_3_scores.append([svm, f\"SVM {Kernel}\", avg_f_sc])\n",
        "  if (i!= 2): print()"
      ],
      "metadata": {
        "id": "d2ItBb229IVb",
        "colab": {
          "base_uri": "https://localhost:8080/"
        },
        "outputId": "a79d8a71-9fb8-46e0-88f1-003c37a0982a"
      },
      "execution_count": null,
      "outputs": [
        {
          "output_type": "stream",
          "name": "stdout",
          "text": [
            "Linear\n",
            "Accuracy:      0.9987\n",
            "Error Rate:    0.0013\n",
            "Sensitivity:   0.9992\n",
            "Specificity:   0.9992\n",
            "Precision:     0.9965\n",
            "F1 Score:      0.9978\n",
            "Average F1 score of SVM Linear cross validation: 0.9915333021112221.\n",
            "\n",
            "Rbf\n",
            "Accuracy:      0.9987\n",
            "Error Rate:    0.0013\n",
            "Sensitivity:   0.9992\n",
            "Specificity:   0.9992\n",
            "Precision:     0.9965\n",
            "F1 Score:      0.9978\n",
            "Average F1 score of SVM Rbf cross validation: 0.9963590170169475.\n",
            "\n",
            "Poly\n",
            "Accuracy:      0.9973\n",
            "Error Rate:    0.0027\n",
            "Sensitivity:   0.9957\n",
            "Specificity:   0.9957\n",
            "Precision:     0.9957\n",
            "F1 Score:      0.9957\n",
            "Average F1 score of SVM Poly cross validation: 0.9954815787146627.\n"
          ]
        }
      ]
    },
    {
      "cell_type": "markdown",
      "source": [
        "###Final Model"
      ],
      "metadata": {
        "id": "w0H9BDKpCYSK"
      }
    },
    {
      "cell_type": "code",
      "source": [
        "for score in label_3_scores:\n",
        "  print(score[1:])"
      ],
      "metadata": {
        "id": "LoafKEGTCZ2I",
        "colab": {
          "base_uri": "https://localhost:8080/"
        },
        "outputId": "f3d33f24-7ee6-47c4-b2bb-f2c954f0b5a1"
      },
      "execution_count": null,
      "outputs": [
        {
          "output_type": "stream",
          "name": "stdout",
          "text": [
            "['KNN', 0.9351779383257458]\n",
            "['Random Forest', 0.9946482616909561]\n",
            "['XGBoost', 0.992278966798216]\n",
            "['SVM Linear', 0.9915333021112221]\n",
            "['SVM Rbf', 0.9963590170169475]\n",
            "['SVM Poly', 0.9954815787146627]\n"
          ]
        }
      ]
    },
    {
      "cell_type": "code",
      "source": [
        "final_model_label_3, final_model_label_3_name, final_model_label_3_f1_score = get_best_model(label_3_scores)\n",
        "print(f\"Selected {final_model_label_3_name} with cross validation score of {final_model_label_3_f1_score}.\")\n",
        "y_test_pred_label_3 = final_model_label_3.predict(x_test_label_3_selected)"
      ],
      "metadata": {
        "id": "xoogBoxHCbIB",
        "colab": {
          "base_uri": "https://localhost:8080/"
        },
        "outputId": "3e88347a-bf2b-4957-94c4-e04761f19965"
      },
      "execution_count": null,
      "outputs": [
        {
          "output_type": "stream",
          "name": "stdout",
          "text": [
            "Selected SVM Rbf with cross validation score of 0.9963590170169475.\n"
          ]
        }
      ]
    },
    {
      "cell_type": "code",
      "source": [
        "create_csv(y_test_pred_label_3, \"label_3\")"
      ],
      "metadata": {
        "id": "WYr4JEr14SYE"
      },
      "execution_count": null,
      "outputs": []
    },
    {
      "cell_type": "markdown",
      "source": [
        "#Label 4"
      ],
      "metadata": {
        "id": "oUy9CE8q9hTK"
      }
    },
    {
      "cell_type": "code",
      "source": [
        "x_label_4 = train.iloc[:, : -4]\n",
        "y_label_4 = train[\"label_4\"]\n",
        "x_valid_label_4 = valid.iloc[:, : -4]\n",
        "y_valid_label_4 = valid[\"label_4\"]\n",
        "x_test_label_4 = test.iloc[:, 1:]"
      ],
      "metadata": {
        "id": "vPvluPGM9jf_"
      },
      "execution_count": null,
      "outputs": []
    },
    {
      "cell_type": "markdown",
      "source": [
        "##Class Distribution"
      ],
      "metadata": {
        "id": "UytTxJxY9tIz"
      }
    },
    {
      "cell_type": "code",
      "source": [
        "plot_class_distribution(y_label_4)"
      ],
      "metadata": {
        "id": "Gp2X85ls9sDi",
        "colab": {
          "base_uri": "https://localhost:8080/",
          "height": 573
        },
        "outputId": "96646da3-e4a4-4fce-8499-19d0d076f784"
      },
      "execution_count": null,
      "outputs": [
        {
          "output_type": "display_data",
          "data": {
            "text/plain": [
              "<Figure size 1200x600 with 1 Axes>"
            ],
            "image/png": "[encoded data removed]"
          },
          "metadata": {}
        }
      ]
    },
    {
      "cell_type": "markdown",
      "source": [
        "Dataset is imbalanced. Using SMOTE."
      ],
      "metadata": {
        "id": "CBFk6rYN97qv"
      }
    },
    {
      "cell_type": "code",
      "source": [
        "smote = SMOTE(sampling_strategy='auto', random_state=42)\n",
        "x_label_4_resampled, y_label_4_resampled = smote.fit_resample(x_label_4, y_label_4)"
      ],
      "metadata": {
        "id": "XiFYFF7L9671"
      },
      "execution_count": null,
      "outputs": []
    },
    {
      "cell_type": "code",
      "source": [
        "plot_class_distribution(y_label_4_resampled)"
      ],
      "metadata": {
        "id": "UPoU8NDC-Skt",
        "colab": {
          "base_uri": "https://localhost:8080/",
          "height": 573
        },
        "outputId": "6ee0202e-c999-4344-9132-486744c9e1a2"
      },
      "execution_count": null,
      "outputs": [
        {
          "output_type": "display_data",
          "data": {
            "text/plain": [
              "<Figure size 1200x600 with 1 Axes>"
            ],
            "image/png": "[encoded data removed]"
          },
          "metadata": {}
        }
      ]
    },
    {
      "cell_type": "markdown",
      "source": [
        "##Feature Selection\n",
        "\n",
        "###Correlation"
      ],
      "metadata": {
        "id": "3K_qv11E-ben"
      }
    },
    {
      "cell_type": "code",
      "source": [
        "x_label_4_resampled = x_label_4_resampled.drop(corr, axis = 1)\n",
        "x_valid_label_4 = x_valid_label_4.drop(corr, axis = 1)\n",
        "x_test_label_4 = x_test_label_4.drop(corr, axis = 1)"
      ],
      "metadata": {
        "id": "ZAr22HT5-e0x"
      },
      "execution_count": null,
      "outputs": []
    },
    {
      "cell_type": "markdown",
      "source": [
        "###Mutual Information Classification\n",
        "\n",
        "Since now there is a large number of data points after SMOTE resampling, mutual information classification took a lot of time. Therefore, it was not used.\n",
        "\n",
        "\n",
        "###Principal Component Analysis"
      ],
      "metadata": {
        "id": "zki0O6PgISbZ"
      }
    },
    {
      "cell_type": "code",
      "source": [
        "from sklearn.decomposition import PCA\n",
        "\n",
        "pca = PCA(n_components = 0.95, svd_solver = 'full')\n",
        "pca.fit(x_label_4_resampled)\n",
        "x_label_4_selected = pd.DataFrame(pca.transform(x_label_4_resampled))\n",
        "x_valid_label_4_selected = pd.DataFrame(pca.transform(x_valid_label_4))\n",
        "x_test_label_4_selected = pd.DataFrame(pca.transform(x_test_label_4))\n",
        "x_label_4_selected.shape"
      ],
      "metadata": {
        "id": "sWNYNd_9Htw8",
        "colab": {
          "base_uri": "https://localhost:8080/"
        },
        "outputId": "fe5d57bd-b775-4cf3-e1bf-ffc543a01429"
      },
      "execution_count": null,
      "outputs": [
        {
          "output_type": "execute_result",
          "data": {
            "text/plain": [
              "(279132, 193)"
            ]
          },
          "metadata": {},
          "execution_count": 38
        }
      ]
    },
    {
      "cell_type": "markdown",
      "source": [
        "##Modelling\n",
        "\n",
        "###KNN Model"
      ],
      "metadata": {
        "id": "pvacm6h9BRQR"
      }
    },
    {
      "cell_type": "code",
      "source": [
        "label_4_scores = []"
      ],
      "metadata": {
        "id": "h262GPTzBMu4"
      },
      "execution_count": null,
      "outputs": []
    },
    {
      "cell_type": "code",
      "source": [
        "knn_label_4, f_score_knn_label_4 = knn_model(x_label_4_selected, y_label_4_resampled, x_valid_label_4_selected, y_valid_label_4, 13)\n",
        "avg_f1_score_knn_label_4 = f_score_knn_label_4.mean()\n",
        "print(f\"Average F1 score of KNN cross validation: {avg_f1_score_knn_label_4}.\")\n",
        "label_4_scores.append([knn_label_4, \"KNN\", avg_f1_score_knn_label_4])"
      ],
      "metadata": {
        "id": "-01ATfBNBUWC",
        "colab": {
          "base_uri": "https://localhost:8080/"
        },
        "outputId": "c6d7d9a3-5342-431b-b091-f4cbfe075f1b"
      },
      "execution_count": null,
      "outputs": [
        {
          "output_type": "stream",
          "name": "stdout",
          "text": [
            "Accuracy:      0.9768\n",
            "Error Rate:    0.0232\n",
            "Sensitivity:   0.9490\n",
            "Specificity:   0.9878\n",
            "Precision:     0.6812\n",
            "F1 Score:      0.7791\n",
            "Average F1 score of KNN cross validation: 0.9325831486850523.\n"
          ]
        }
      ]
    },
    {
      "cell_type": "markdown",
      "source": [
        "###Random Forest Model"
      ],
      "metadata": {
        "id": "-fyipf8RBmH1"
      }
    },
    {
      "cell_type": "code",
      "source": [
        "rf_label_4, f_score_rf_label_4 = rf_model(x_label_4_selected, y_label_4_resampled, x_valid_label_4_selected, y_valid_label_4, 100, 42)\n",
        "avg_f1_score_rf_label_4 = f_score_rf_label_4.mean()\n",
        "print(f\"Average F1 score of RF cross validation: {avg_f1_score_rf_label_4}.\")\n",
        "label_4_scores.append([rf_label_4, \"Random Forest\", avg_f1_score_rf_label_4])"
      ],
      "metadata": {
        "id": "DoOgK2l-BpRD",
        "colab": {
          "base_uri": "https://localhost:8080/"
        },
        "outputId": "f43de21f-5bf8-4116-eb54-2478f397e7a0"
      },
      "execution_count": null,
      "outputs": [
        {
          "output_type": "stream",
          "name": "stdout",
          "text": [
            "Accuracy:      0.9874\n",
            "Error Rate:    0.0126\n",
            "Sensitivity:   0.7426\n",
            "Specificity:   0.9793\n",
            "Precision:     0.9641\n",
            "F1 Score:      0.8290\n",
            "Average F1 score of RF cross validation: 0.99858003796617.\n"
          ]
        }
      ]
    },
    {
      "cell_type": "markdown",
      "source": [
        "###Final Model"
      ],
      "metadata": {
        "id": "7G_32TA4Ckw1"
      }
    },
    {
      "cell_type": "code",
      "source": [
        "for score in label_4_scores:\n",
        "  print(score[1:])"
      ],
      "metadata": {
        "id": "gmTI22g-CpEJ",
        "colab": {
          "base_uri": "https://localhost:8080/"
        },
        "outputId": "f57a84b3-a277-4057-9cd7-f0131e5628d7"
      },
      "execution_count": null,
      "outputs": [
        {
          "output_type": "stream",
          "name": "stdout",
          "text": [
            "['KNN', 0.9325831486850523]\n",
            "['Random Forest', 0.99858003796617]\n"
          ]
        }
      ]
    },
    {
      "cell_type": "code",
      "source": [
        "final_model_label_4, final_model_label_4_name, final_model_label_4_f1_score = get_best_model(label_4_scores)\n",
        "print(f\"Selected {final_model_label_4_name} with cross validation score of {final_model_label_4_f1_score}.\")\n",
        "y_test_pred_label_4 = final_model_label_4.predict(x_test_label_4_selected)"
      ],
      "metadata": {
        "id": "fWXMdRrmCjYk",
        "colab": {
          "base_uri": "https://localhost:8080/"
        },
        "outputId": "a42e3c87-ccb5-45ff-c3be-2416510a093b"
      },
      "execution_count": null,
      "outputs": [
        {
          "output_type": "stream",
          "name": "stdout",
          "text": [
            "Selected Random Forest with cross validation score of 0.99858003796617.\n"
          ]
        }
      ]
    },
    {
      "cell_type": "code",
      "source": [
        "create_csv(y_test_pred_label_4, \"label_4\")"
      ],
      "metadata": {
        "id": "DMxhRL7ZlNkE"
      },
      "execution_count": null,
      "outputs": []
    },
    {
      "cell_type": "markdown",
      "source": [
        "#Hyper Parameter Tuning\n",
        "\n",
        "##Label 1"
      ],
      "metadata": {
        "id": "ePywESArEgA5"
      }
    },
    {
      "cell_type": "code",
      "source": [
        "from sklearn.metrics import confusion_matrix, classification_report, accuracy_score, f1_score\n",
        "import numpy as np\n",
        "\n",
        "def eval_model_2(y_actual: pd.DataFrame, y_predicted: pd.DataFrame, print_metrics = False) -> float:\n",
        "  accuracy = accuracy_score(y_true = y_actual, y_pred = y_predicted)\n",
        "  f_score = f1_score(y_true = y_actual, y_pred = y_predicted, average = 'weighted')\n",
        "\n",
        "  print(f\"Accuracy:      {accuracy:.4f}\")\n",
        "  print(f\"F1 Score:      {f_score:.4f}\")\n",
        "\n",
        "  return f_score"
      ],
      "metadata": {
        "id": "kv-2pXLKCb23"
      },
      "execution_count": null,
      "outputs": []
    },
    {
      "cell_type": "code",
      "source": [
        "def scorer_2(estimator: any, X: pd.DataFrame, y: pd.DataFrame):\n",
        "  y_pred = estimator.predict(X)\n",
        "  f1_score = eval_model_2(y, y_pred)\n",
        "  return f1_score"
      ],
      "metadata": {
        "id": "StRcuAR9C4yv"
      },
      "execution_count": null,
      "outputs": []
    },
    {
      "cell_type": "code",
      "source": [
        "from sklearn.model_selection import RandomizedSearchCV\n",
        "from sklearn.svm import SVC\n",
        "\n",
        "param_dist_label_1 = {\n",
        "    'C': np.logspace(-3, 3, 7),\n",
        "    'gamma': np.logspace(-3, 3, 7)\n",
        "}\n",
        "\n",
        "svm_rbf_label_1 = SVC(kernel='rbf', random_state=42)\n",
        "random_search_label_1 = RandomizedSearchCV(\n",
        "    svm_rbf_label_1, param_distributions=param_dist_label_1, n_iter=3, cv=3, scoring=scorer_2, random_state=42, n_jobs=8)\n",
        "random_search_label_1.fit(x_label_1_selected, y_label_1)\n",
        "\n",
        "best_params_random_label_1 = random_search_label_1.best_params_\n",
        "best_score_random_label_1 = random_search_label_1.best_score_\n",
        "print(\"Best Hyperparameters (Random Search):\", best_params_random_label_1)\n",
        "print(\"Best Accuracy (Random Search):\", best_score_random_label_1)"
      ],
      "metadata": {
        "colab": {
          "base_uri": "https://localhost:8080/"
        },
        "id": "pO1ht9r7DYON",
        "outputId": "82d42884-eea4-4686-eafe-a94e5ff9f509"
      },
      "execution_count": null,
      "outputs": [
        {
          "output_type": "stream",
          "name": "stderr",
          "text": [
            "/usr/local/lib/python3.10/dist-packages/joblib/externals/loky/process_executor.py:752: UserWarning: A worker stopped while some jobs were given to the executor. This can be caused by a too short worker timeout or by a memory leak.\n",
            "  warnings.warn(\n"
          ]
        },
        {
          "output_type": "stream",
          "name": "stdout",
          "text": [
            "Best Hyperparameters (Random Search): {'gamma': 1.0, 'C': 1000.0}\n",
            "Best Accuracy (Random Search): 0.964115301984135\n"
          ]
        }
      ]
    },
    {
      "cell_type": "code",
      "source": [
        "svm_labal_1_final_1 = SVC(kernel = \"rbf\")\n",
        "svm_labal_1_final_1.fit(x_label_1_selected, y_label_1)\n",
        "y_pred_label_1_final_1 = svm_labal_1_final_1.predict(x_valid_label_1_selected)\n",
        "eval_model_2(y_valid_label_1, y_pred_label_1_final_1)"
      ],
      "metadata": {
        "colab": {
          "base_uri": "https://localhost:8080/"
        },
        "id": "J0kfoB-wVw0b",
        "outputId": "3bbb1f66-c7f6-45c2-b01f-46caa0ea7b76"
      },
      "execution_count": null,
      "outputs": [
        {
          "output_type": "stream",
          "name": "stdout",
          "text": [
            "Accuracy:      0.9653\n",
            "F1 Score:      0.9659\n"
          ]
        },
        {
          "output_type": "execute_result",
          "data": {
            "text/plain": [
              "0.9658735655281955"
            ]
          },
          "metadata": {},
          "execution_count": 47
        }
      ]
    },
    {
      "cell_type": "code",
      "source": [
        "svm_labal_1_final_2 = SVC(kernel = \"rbf\", gamma = 1.0, C = 1000.0)\n",
        "svm_labal_1_final_2.fit(x_label_1_selected, y_label_1)\n",
        "y_pred_label_1_final_2 = svm_labal_1_final_2.predict(x_valid_label_1_selected)\n",
        "eval_model_2(y_valid_label_1, y_pred_label_1_final_2)"
      ],
      "metadata": {
        "colab": {
          "base_uri": "https://localhost:8080/"
        },
        "id": "TcgQzHVIq3Z4",
        "outputId": "b4c6de5c-c420-414c-e539-391f4067ce16"
      },
      "execution_count": null,
      "outputs": [
        {
          "output_type": "stream",
          "name": "stdout",
          "text": [
            "Accuracy:      0.9867\n",
            "F1 Score:      0.9868\n"
          ]
        },
        {
          "output_type": "execute_result",
          "data": {
            "text/plain": [
              "0.9868364968441268"
            ]
          },
          "metadata": {},
          "execution_count": 49
        }
      ]
    },
    {
      "cell_type": "code",
      "source": [
        "y_test_pred_label_1 = svm_labal_1_final_2.predict(x_test_label_1_selected)\n",
        "create_csv(y_test_pred_label_1, \"label_1\")"
      ],
      "metadata": {
        "id": "aT-MlcsgtvKL"
      },
      "execution_count": null,
      "outputs": []
    },
    {
      "cell_type": "markdown",
      "source": [
        "##Label 2"
      ],
      "metadata": {
        "id": "AxnCwbTpDsER"
      }
    },
    {
      "cell_type": "code",
      "source": [
        "from sklearn.model_selection import RandomizedSearchCV\n",
        "from sklearn.ensemble import RandomForestClassifier\n",
        "\n",
        "param_dist_label_2 = {\n",
        "    'n_estimators': np.arange(100, 1000, 100),\n",
        "    'max_depth': [None] + list(np.arange(10, 110, 10)),\n",
        "    'min_samples_split': [2, 5, 10, 15],\n",
        "    'min_samples_leaf': [1, 2, 4, 8],\n",
        "}\n",
        "\n",
        "rf_model_label_2 = RandomForestClassifier(random_state=42)\n",
        "random_search_label_2 = RandomizedSearchCV(estimator=rf_model_label_2, param_distributions=param_dist_label_2, n_iter=3, cv=3, scoring=scorer_2, random_state=42, verbose=1, n_jobs=8)\n",
        "random_search_label_2.fit(x_label_2_selected, y_label_2_resampled)\n",
        "\n",
        "best_params_label_2 = random_search_label_2.best_params_\n",
        "best_score_label_2 = random_search_label_2.best_score_\n",
        "\n",
        "print(\"Best Hyperparameters:\", best_params_label_2)\n",
        "print(\"Best Accuracy:\", best_score_label_2)"
      ],
      "metadata": {
        "colab": {
          "base_uri": "https://localhost:8080/"
        },
        "id": "M9VqadR1D2Iz",
        "outputId": "02b5994b-0552-4e78-e29b-333599e846e6"
      },
      "execution_count": null,
      "outputs": [
        {
          "output_type": "stream",
          "name": "stdout",
          "text": [
            "Fitting 3 folds for each of 3 candidates, totalling 9 fits\n"
          ]
        },
        {
          "output_type": "stream",
          "name": "stderr",
          "text": [
            "/usr/local/lib/python3.10/dist-packages/joblib/externals/loky/process_executor.py:752: UserWarning: A worker stopped while some jobs were given to the executor. This can be caused by a too short worker timeout or by a memory leak.\n",
            "  warnings.warn(\n"
          ]
        },
        {
          "output_type": "stream",
          "name": "stdout",
          "text": [
            "Best Hyperparameters: {'n_estimators': 200, 'min_samples_split': 10, 'min_samples_leaf': 1, 'max_depth': 100}\n",
            "Best Accuracy: 0.9209191870189772\n"
          ]
        }
      ]
    },
    {
      "cell_type": "code",
      "source": [
        "rf_label_2_final_1 = RandomForestClassifier(n_estimators = 100, random_state = 42)\n",
        "rf_label_2_final_1.fit(x_label_2_selected, y_label_2_resampled)\n",
        "y_pred_label_2_final_1 = rf_label_2_final_1.predict(x_valid_label_2_selected)\n",
        "eval_model_2(y_valid_label_2, y_pred_label_2_final_1)"
      ],
      "metadata": {
        "colab": {
          "base_uri": "https://localhost:8080/"
        },
        "id": "16F9CEAe8xae",
        "outputId": "11fb7eb4-c1d8-4cd9-c03e-8b95236b3076"
      },
      "execution_count": null,
      "outputs": [
        {
          "output_type": "stream",
          "name": "stdout",
          "text": [
            "Accuracy:      0.8787\n",
            "F1 Score:      0.8784\n"
          ]
        },
        {
          "output_type": "execute_result",
          "data": {
            "text/plain": [
              "0.8783851744197134"
            ]
          },
          "metadata": {},
          "execution_count": 52
        }
      ]
    },
    {
      "cell_type": "code",
      "source": [
        "rf_label_2_final_2 = RandomForestClassifier(\n",
        "    n_estimators=best_params_label_2['n_estimators'],\n",
        "    max_depth=best_params_label_2['max_depth'],\n",
        "    min_samples_split=best_params_label_2['min_samples_split'],\n",
        "    min_samples_leaf=best_params_label_2['min_samples_leaf'],\n",
        "    random_state=42\n",
        ")\n",
        "rf_label_2_final_2.fit(x_label_2_selected, y_label_2_resampled)\n",
        "y_pred_label_2_final_2 = rf_label_2_final_2.predict(x_valid_label_2_selected)\n",
        "eval_model_2(y_valid_label_2, y_pred_label_2_final_2)"
      ],
      "metadata": {
        "colab": {
          "base_uri": "https://localhost:8080/"
        },
        "id": "bO2QF6OI9cpy",
        "outputId": "93c0a903-8332-48a6-f7ad-b5b25c47a644"
      },
      "execution_count": null,
      "outputs": [
        {
          "output_type": "stream",
          "name": "stdout",
          "text": [
            "Accuracy:      0.9120\n",
            "F1 Score:      0.9121\n"
          ]
        },
        {
          "output_type": "execute_result",
          "data": {
            "text/plain": [
              "0.9120948912236873"
            ]
          },
          "metadata": {},
          "execution_count": 53
        }
      ]
    },
    {
      "cell_type": "code",
      "source": [
        "y_test_pred_label_2 = rf_label_2_final_2.predict(x_test_label_2_selected)\n",
        "create_csv(y_test_pred_label_2, \"label_2\")"
      ],
      "metadata": {
        "id": "4SW5lNB4A83E"
      },
      "execution_count": null,
      "outputs": []
    },
    {
      "cell_type": "markdown",
      "source": [
        "##Label 3"
      ],
      "metadata": {
        "id": "4DPdRWYLD9p6"
      }
    },
    {
      "cell_type": "code",
      "source": [
        "from sklearn.model_selection import RandomizedSearchCV\n",
        "from sklearn.svm import SVC\n",
        "\n",
        "param_dist_label_3 = {\n",
        "    'C': np.logspace(-3, 3, 7),\n",
        "    'gamma': np.logspace(-3, 3, 7)\n",
        "}\n",
        "\n",
        "svm_rbf_label_3 = SVC(kernel='rbf', random_state=42)\n",
        "random_search_label_3 = RandomizedSearchCV(\n",
        "    svm_rbf_label_3, param_distributions=param_dist_label_3, n_iter=3, cv=3, scoring=scorer_2, random_state=42, n_jobs=8)\n",
        "random_search_label_3.fit(x_label_3_selected, y_label_3_resampled)\n",
        "\n",
        "best_params_random_label_3 = random_search_label_3.best_params_\n",
        "best_score_random_label_3 = random_search_label_3.best_score_\n",
        "print(\"Best Hyperparameters (Random Search):\", best_params_random_label_3)\n",
        "print(\"Best Accuracy (Random Search):\", best_score_random_label_3)"
      ],
      "metadata": {
        "colab": {
          "base_uri": "https://localhost:8080/"
        },
        "id": "TYpCOqgtD_eQ",
        "outputId": "61a33aa8-c935-437d-e901-0ef5d5c6deba"
      },
      "execution_count": null,
      "outputs": [
        {
          "output_type": "stream",
          "name": "stderr",
          "text": [
            "/usr/local/lib/python3.10/dist-packages/joblib/externals/loky/process_executor.py:752: UserWarning: A worker stopped while some jobs were given to the executor. This can be caused by a too short worker timeout or by a memory leak.\n",
            "  warnings.warn(\n"
          ]
        },
        {
          "output_type": "stream",
          "name": "stdout",
          "text": [
            "Best Hyperparameters (Random Search): {'gamma': 1.0, 'C': 1000.0}\n",
            "Best Accuracy (Random Search): 0.9966880392961469\n"
          ]
        }
      ]
    },
    {
      "cell_type": "code",
      "source": [
        "svm_labal_3_final_1 = SVC(kernel = \"rbf\")\n",
        "svm_labal_3_final_1.fit(x_label_3_selected, y_label_3_resampled)\n",
        "y_pred_label_3_final_1 = svm_labal_3_final_1.predict(x_valid_label_3_selected)\n",
        "eval_model_2(y_valid_label_3, y_pred_label_3_final_1)"
      ],
      "metadata": {
        "colab": {
          "base_uri": "https://localhost:8080/"
        },
        "id": "jSvUgW8CC0Cv",
        "outputId": "35d700c8-5783-4772-aa92-5dd6d37bc013"
      },
      "execution_count": null,
      "outputs": [
        {
          "output_type": "stream",
          "name": "stdout",
          "text": [
            "Accuracy:      0.9987\n",
            "F1 Score:      0.9987\n"
          ]
        },
        {
          "output_type": "execute_result",
          "data": {
            "text/plain": [
              "0.9986684571511081"
            ]
          },
          "metadata": {},
          "execution_count": 62
        }
      ]
    },
    {
      "cell_type": "code",
      "source": [
        "svm_labal_3_final_2 = SVC(kernel = \"rbf\", gamma = 1.0, C = 1000.0)\n",
        "svm_labal_3_final_2.fit(x_label_3_selected, y_label_3_resampled)\n",
        "y_pred_label_3_final_2 = svm_labal_3_final_2.predict(x_valid_label_3_selected)\n",
        "eval_model_2(y_valid_label_3, y_pred_label_3_final_2)"
      ],
      "metadata": {
        "colab": {
          "base_uri": "https://localhost:8080/"
        },
        "id": "cwfSAuyHC3_E",
        "outputId": "64719301-e2d9-4189-8257-2265da3256b2"
      },
      "execution_count": null,
      "outputs": [
        {
          "output_type": "stream",
          "name": "stdout",
          "text": [
            "Accuracy:      0.9987\n",
            "F1 Score:      0.9987\n"
          ]
        },
        {
          "output_type": "execute_result",
          "data": {
            "text/plain": [
              "0.9986684571511081"
            ]
          },
          "metadata": {},
          "execution_count": 64
        }
      ]
    },
    {
      "cell_type": "code",
      "source": [
        "y_test_pred_label_3 = svm_labal_3_final_2.predict(x_test_label_3_selected)\n",
        "create_csv(y_test_pred_label_3, \"label_3\")"
      ],
      "metadata": {
        "id": "WW1enAy9C6UQ"
      },
      "execution_count": null,
      "outputs": []
    },
    {
      "cell_type": "markdown",
      "source": [
        "##Label 4"
      ],
      "metadata": {
        "id": "amlvaE9VEsZw"
      }
    },
    {
      "cell_type": "code",
      "source": [
        "from sklearn.model_selection import RandomizedSearchCV\n",
        "from sklearn.ensemble import RandomForestClassifier\n",
        "\n",
        "param_dist_label_4 = {\n",
        "    'n_estimators': np.arange(100, 1000, 100),\n",
        "    'max_depth': [None] + list(np.arange(10, 110, 10)),\n",
        "    'min_samples_split': [2, 5, 10, 15],\n",
        "    'min_samples_leaf': [1, 2, 4, 8],\n",
        "}\n",
        "\n",
        "rf_model_label_4 = RandomForestClassifier(random_state=42)\n",
        "random_search_label_4 = RandomizedSearchCV(estimator=rf_model_label_4, param_distributions=param_dist_label_4, n_iter=3, cv=3, scoring=scorer_2, random_state=42, verbose=1, n_jobs=8h)\n",
        "random_search_label_4.fit(x_label_4_selected, y_label_4_resampled)\n",
        "\n",
        "best_params_label_4 = random_search_label_4.best_params_\n",
        "best_score_label_4 = random_search_label_4.best_score_\n",
        "\n",
        "print(\"Best Hyperparameters:\", best_params_label_4)\n",
        "print(\"Best Accuracy:\", best_score_label_4)"
      ],
      "metadata": {
        "id": "1edutEOTEuFQ"
      },
      "execution_count": null,
      "outputs": []
    },
    {
      "cell_type": "markdown",
      "source": [
        "#Final Results"
      ],
      "metadata": {
        "id": "HZL-T-qVCa9o"
      }
    },
    {
      "cell_type": "code",
      "source": [
        "output_filename = f\"/content/drive/My Drive/Semester7/ML/Project/Layer_7/Results/final.csv\"\n",
        "final_combined_data = pd.DataFrame()\n",
        "final_combined_data[\"ID\"] = test[\"ID\"]\n",
        "for i in range(1, 5):\n",
        "  label_name = f\"label_{i}\"\n",
        "  final_combined_data[label_name] = pd.read_csv(f\"/content/drive/My Drive/Semester7/ML/Project/Layer_7/Results/{label_name}.csv\")[label_name]\n",
        "final_combined_data.to_csv(output_filename, index=False)"
      ],
      "metadata": {
        "id": "zPSW-_eKE_9X"
      },
      "execution_count": null,
      "outputs": []
    }
  ],
  "metadata": {
    "colab": {
      "provenance": []
    },
    "kernelspec": {
      "display_name": "Python 3",
      "name": "python3"
    },
    "language_info": {
      "name": "python"
    }
  },
  "nbformat": 4,
  "nbformat_minor": 0
}